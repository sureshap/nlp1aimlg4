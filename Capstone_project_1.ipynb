{
  "nbformat": 4,
  "nbformat_minor": 0,
  "metadata": {
    "colab": {
      "name": "Capstone project 1.ipynb",
      "provenance": [],
      "collapsed_sections": []
    },
    "kernelspec": {
      "name": "python3",
      "display_name": "Python 3"
    },
    "language_info": {
      "name": "python"
    }
  },
  "cells": [
    {
      "cell_type": "markdown",
      "source": [
        "**Problem Statement:**\n",
        "One of the key activities of any IT function is to “Keep the lights on” to ensure there is noimpact to the Business operations. IT leverages Incident Management process to achieve theabove Objective. An incident is something that is unplanned interruption to an IT service orreduction in the quality of an IT service that affects the Users and the Business. The main goalof Incident Management process is to provide a quick fix / workarounds or solutions thatresolves the interruption and restores the service to its full capacity to ensure no businessimpact.In most of the organizations, incidents are created by various Business and IT Users, End Users/ Vendors if they have access to ticketing systems, and from the integrated monitoringsystems and tools. Assigning the incidents to the appropriate person or unit in the support team has critical importance to provide improved user satisfaction while ensuring better allocation of support resources. The assignment of incidents to appropriate IT groups is still a manual process in many of the IT organizations.Manual assignment of incidents is time consuming and requires humanefforts. There may bemistakes due to human errors and resource consumption is carried out ineffectively because ofthe misaddressing. On the other hand, manual assignment increases the response and resolution times which result in user satisfaction deterioration / poor customer service"
      ],
      "metadata": {
        "id": "o4BsdK8pQc7I"
      }
    },
    {
      "cell_type": "markdown",
      "source": [
        "**Business Domain Value:** In the support process, incoming incidents are analyzed and assessed by organization’s support teams to fulfill the request. In many organizations, better allocation and effective usage of the valuable support resources will directly result in substantial cost savings.Currently the incidents are created by various stakeholders (Business Users, IT Users and Monitoring Tools) within IT Service Management Tool and are assigned to Service Desk teams (L1/ L2 teams). This team will review the incidents for right ticket categorization, priorities and then carry out initial diagnosis to see if they can resolve. Around ~54% of the incidents are resolved by L1 / L2 teams. Incase L1 / L2 is unable to resolve, they will then escalate / assign the tickets to Functional teams from Applications and Infrastructure (L3 teams). Some portions of incidents are directly assigned to L3 teams by either Monitoring tools or Callers / Requestors. L3 teams will carry out detailed diagnosis and resolve the incidents. Around ~56% of incidents are resolved by Functional / L3 teams. Incase if vendor support is needed, they will reach out for their support towards incident closure.L1 / L2 needs to spend time reviewing Standard Operating Procedures (SOPs) before assigning to Functional teams (Minimum ~25-30% of incidents needs to be reviewed for SOPs before ticket assignment). 15 min is being spent for SOP review for each incident. Minimum of ~1 FTE effort needed only for incident assignment to L3 teams.\n",
        " "
      ],
      "metadata": {
        "id": "UgdlTEGpQrE-"
      }
    },
    {
      "cell_type": "markdown",
      "source": [
        "**Project Goal:**\n",
        "In this capstone project, the goal is to build a classifier that can classify the tickets by analyzingtext."
      ],
      "metadata": {
        "id": "tOn_pPZ9QvOU"
      }
    },
    {
      "cell_type": "markdown",
      "source": [
        "**Pre-Processing, Data Visualizationand EDA**\n",
        "\n",
        "\n",
        "*   Exploring the given Data files\n",
        "*   Understanding the structure of data\n",
        "*   Exploring the given Data files\n",
        "*   Missing points in data\n",
        "*   Finding inconsistencies in the data\n",
        "*   Visualizing different patterns \n",
        "*   Visualizing different text features\n",
        "*   Dealing with missing values\n",
        "*   Text preprocessing \n",
        "*   Creating word vocabulary from the corpus of report text data\n",
        "*   Creating tokens as required\n"
      ],
      "metadata": {
        "id": "Hthxoo7CQ-xi"
      }
    },
    {
      "cell_type": "code",
      "execution_count": null,
      "metadata": {
        "colab": {
          "base_uri": "https://localhost:8080/"
        },
        "id": "-B8wnUaAP7Mu",
        "outputId": "a808cd04-f432-46be-8e97-a8eec7bc6d21"
      },
      "outputs": [
        {
          "output_type": "stream",
          "name": "stdout",
          "text": [
            "Mounted at /content/drive\n"
          ]
        }
      ],
      "source": [
        "#Moount Google Drive\n",
        "from google.colab import drive\n",
        "drive.mount('/content/drive')"
      ]
    },
    {
      "cell_type": "code",
      "source": [
        "# Path where the images are located\n",
        "path = '/content/drive/MyDrive/COLAB/AIML/Capstone Project/Data/'"
      ],
      "metadata": {
        "id": "TEHouu7yTCKH"
      },
      "execution_count": null,
      "outputs": []
    },
    {
      "cell_type": "code",
      "source": [
        "#Import required libraries\n",
        "import numpy as np\n",
        "import pandas as pd\n",
        "import random\n",
        "\n",
        "import matplotlib.pyplot as plt\n",
        "%matplotlib inline"
      ],
      "metadata": {
        "id": "kP--ZLY6TgmW"
      },
      "execution_count": null,
      "outputs": []
    },
    {
      "cell_type": "code",
      "source": [
        "import re"
      ],
      "metadata": {
        "id": "Yl_9-zsK9Bw8"
      },
      "execution_count": null,
      "outputs": []
    },
    {
      "cell_type": "code",
      "source": [
        "pip install langdetect"
      ],
      "metadata": {
        "colab": {
          "base_uri": "https://localhost:8080/"
        },
        "id": "VYFqIN97tCBR",
        "outputId": "4eb401e0-bb93-42f2-9969-fa0ccb19b3c5"
      },
      "execution_count": null,
      "outputs": [
        {
          "output_type": "stream",
          "name": "stdout",
          "text": [
            "Collecting langdetect\n",
            "  Downloading langdetect-1.0.9.tar.gz (981 kB)\n",
            "\u001b[?25l\r\u001b[K     |▍                               | 10 kB 25.8 MB/s eta 0:00:01\r\u001b[K     |▊                               | 20 kB 31.9 MB/s eta 0:00:01\r\u001b[K     |█                               | 30 kB 37.7 MB/s eta 0:00:01\r\u001b[K     |█▍                              | 40 kB 28.7 MB/s eta 0:00:01\r\u001b[K     |█▊                              | 51 kB 20.2 MB/s eta 0:00:01\r\u001b[K     |██                              | 61 kB 22.3 MB/s eta 0:00:01\r\u001b[K     |██▍                             | 71 kB 22.4 MB/s eta 0:00:01\r\u001b[K     |██▊                             | 81 kB 22.3 MB/s eta 0:00:01\r\u001b[K     |███                             | 92 kB 24.2 MB/s eta 0:00:01\r\u001b[K     |███▍                            | 102 kB 21.7 MB/s eta 0:00:01\r\u001b[K     |███▊                            | 112 kB 21.7 MB/s eta 0:00:01\r\u001b[K     |████                            | 122 kB 21.7 MB/s eta 0:00:01\r\u001b[K     |████▍                           | 133 kB 21.7 MB/s eta 0:00:01\r\u001b[K     |████▊                           | 143 kB 21.7 MB/s eta 0:00:01\r\u001b[K     |█████                           | 153 kB 21.7 MB/s eta 0:00:01\r\u001b[K     |█████▍                          | 163 kB 21.7 MB/s eta 0:00:01\r\u001b[K     |█████▊                          | 174 kB 21.7 MB/s eta 0:00:01\r\u001b[K     |██████                          | 184 kB 21.7 MB/s eta 0:00:01\r\u001b[K     |██████▍                         | 194 kB 21.7 MB/s eta 0:00:01\r\u001b[K     |██████▊                         | 204 kB 21.7 MB/s eta 0:00:01\r\u001b[K     |███████                         | 215 kB 21.7 MB/s eta 0:00:01\r\u001b[K     |███████▍                        | 225 kB 21.7 MB/s eta 0:00:01\r\u001b[K     |███████▊                        | 235 kB 21.7 MB/s eta 0:00:01\r\u001b[K     |████████                        | 245 kB 21.7 MB/s eta 0:00:01\r\u001b[K     |████████▍                       | 256 kB 21.7 MB/s eta 0:00:01\r\u001b[K     |████████▊                       | 266 kB 21.7 MB/s eta 0:00:01\r\u001b[K     |█████████                       | 276 kB 21.7 MB/s eta 0:00:01\r\u001b[K     |█████████▍                      | 286 kB 21.7 MB/s eta 0:00:01\r\u001b[K     |█████████▊                      | 296 kB 21.7 MB/s eta 0:00:01\r\u001b[K     |██████████                      | 307 kB 21.7 MB/s eta 0:00:01\r\u001b[K     |██████████▍                     | 317 kB 21.7 MB/s eta 0:00:01\r\u001b[K     |██████████▊                     | 327 kB 21.7 MB/s eta 0:00:01\r\u001b[K     |███████████                     | 337 kB 21.7 MB/s eta 0:00:01\r\u001b[K     |███████████▍                    | 348 kB 21.7 MB/s eta 0:00:01\r\u001b[K     |███████████▊                    | 358 kB 21.7 MB/s eta 0:00:01\r\u001b[K     |████████████                    | 368 kB 21.7 MB/s eta 0:00:01\r\u001b[K     |████████████▍                   | 378 kB 21.7 MB/s eta 0:00:01\r\u001b[K     |████████████▊                   | 389 kB 21.7 MB/s eta 0:00:01\r\u001b[K     |█████████████                   | 399 kB 21.7 MB/s eta 0:00:01\r\u001b[K     |█████████████▍                  | 409 kB 21.7 MB/s eta 0:00:01\r\u001b[K     |█████████████▊                  | 419 kB 21.7 MB/s eta 0:00:01\r\u001b[K     |██████████████                  | 430 kB 21.7 MB/s eta 0:00:01\r\u001b[K     |██████████████▍                 | 440 kB 21.7 MB/s eta 0:00:01\r\u001b[K     |██████████████▊                 | 450 kB 21.7 MB/s eta 0:00:01\r\u001b[K     |███████████████                 | 460 kB 21.7 MB/s eta 0:00:01\r\u001b[K     |███████████████▍                | 471 kB 21.7 MB/s eta 0:00:01\r\u001b[K     |███████████████▊                | 481 kB 21.7 MB/s eta 0:00:01\r\u001b[K     |████████████████                | 491 kB 21.7 MB/s eta 0:00:01\r\u001b[K     |████████████████▍               | 501 kB 21.7 MB/s eta 0:00:01\r\u001b[K     |████████████████▊               | 512 kB 21.7 MB/s eta 0:00:01\r\u001b[K     |█████████████████               | 522 kB 21.7 MB/s eta 0:00:01\r\u001b[K     |█████████████████▍              | 532 kB 21.7 MB/s eta 0:00:01\r\u001b[K     |█████████████████▊              | 542 kB 21.7 MB/s eta 0:00:01\r\u001b[K     |██████████████████              | 552 kB 21.7 MB/s eta 0:00:01\r\u001b[K     |██████████████████▍             | 563 kB 21.7 MB/s eta 0:00:01\r\u001b[K     |██████████████████▊             | 573 kB 21.7 MB/s eta 0:00:01\r\u001b[K     |███████████████████             | 583 kB 21.7 MB/s eta 0:00:01\r\u001b[K     |███████████████████▍            | 593 kB 21.7 MB/s eta 0:00:01\r\u001b[K     |███████████████████▊            | 604 kB 21.7 MB/s eta 0:00:01\r\u001b[K     |████████████████████            | 614 kB 21.7 MB/s eta 0:00:01\r\u001b[K     |████████████████████▍           | 624 kB 21.7 MB/s eta 0:00:01\r\u001b[K     |████████████████████▊           | 634 kB 21.7 MB/s eta 0:00:01\r\u001b[K     |█████████████████████           | 645 kB 21.7 MB/s eta 0:00:01\r\u001b[K     |█████████████████████▍          | 655 kB 21.7 MB/s eta 0:00:01\r\u001b[K     |█████████████████████▊          | 665 kB 21.7 MB/s eta 0:00:01\r\u001b[K     |██████████████████████          | 675 kB 21.7 MB/s eta 0:00:01\r\u001b[K     |██████████████████████▍         | 686 kB 21.7 MB/s eta 0:00:01\r\u001b[K     |██████████████████████▊         | 696 kB 21.7 MB/s eta 0:00:01\r\u001b[K     |███████████████████████         | 706 kB 21.7 MB/s eta 0:00:01\r\u001b[K     |███████████████████████▍        | 716 kB 21.7 MB/s eta 0:00:01\r\u001b[K     |███████████████████████▊        | 727 kB 21.7 MB/s eta 0:00:01\r\u001b[K     |████████████████████████        | 737 kB 21.7 MB/s eta 0:00:01\r\u001b[K     |████████████████████████▍       | 747 kB 21.7 MB/s eta 0:00:01\r\u001b[K     |████████████████████████▊       | 757 kB 21.7 MB/s eta 0:00:01\r\u001b[K     |█████████████████████████       | 768 kB 21.7 MB/s eta 0:00:01\r\u001b[K     |█████████████████████████▍      | 778 kB 21.7 MB/s eta 0:00:01\r\u001b[K     |█████████████████████████▊      | 788 kB 21.7 MB/s eta 0:00:01\r\u001b[K     |██████████████████████████      | 798 kB 21.7 MB/s eta 0:00:01\r\u001b[K     |██████████████████████████▍     | 808 kB 21.7 MB/s eta 0:00:01\r\u001b[K     |██████████████████████████▊     | 819 kB 21.7 MB/s eta 0:00:01\r\u001b[K     |███████████████████████████     | 829 kB 21.7 MB/s eta 0:00:01\r\u001b[K     |███████████████████████████▍    | 839 kB 21.7 MB/s eta 0:00:01\r\u001b[K     |███████████████████████████▊    | 849 kB 21.7 MB/s eta 0:00:01\r\u001b[K     |████████████████████████████    | 860 kB 21.7 MB/s eta 0:00:01\r\u001b[K     |████████████████████████████▍   | 870 kB 21.7 MB/s eta 0:00:01\r\u001b[K     |████████████████████████████▊   | 880 kB 21.7 MB/s eta 0:00:01\r\u001b[K     |█████████████████████████████   | 890 kB 21.7 MB/s eta 0:00:01\r\u001b[K     |█████████████████████████████▍  | 901 kB 21.7 MB/s eta 0:00:01\r\u001b[K     |█████████████████████████████▊  | 911 kB 21.7 MB/s eta 0:00:01\r\u001b[K     |██████████████████████████████  | 921 kB 21.7 MB/s eta 0:00:01\r\u001b[K     |██████████████████████████████▍ | 931 kB 21.7 MB/s eta 0:00:01\r\u001b[K     |██████████████████████████████▊ | 942 kB 21.7 MB/s eta 0:00:01\r\u001b[K     |███████████████████████████████ | 952 kB 21.7 MB/s eta 0:00:01\r\u001b[K     |███████████████████████████████▍| 962 kB 21.7 MB/s eta 0:00:01\r\u001b[K     |███████████████████████████████▊| 972 kB 21.7 MB/s eta 0:00:01\r\u001b[K     |████████████████████████████████| 981 kB 21.7 MB/s \n",
            "\u001b[?25hRequirement already satisfied: six in /usr/local/lib/python3.7/dist-packages (from langdetect) (1.15.0)\n",
            "Building wheels for collected packages: langdetect\n",
            "  Building wheel for langdetect (setup.py) ... \u001b[?25l\u001b[?25hdone\n",
            "  Created wheel for langdetect: filename=langdetect-1.0.9-py3-none-any.whl size=993242 sha256=3f9d770a2867a22c77d119cb9282efcb489669cf401511b48dad16357279fef1\n",
            "  Stored in directory: /root/.cache/pip/wheels/c5/96/8a/f90c59ed25d75e50a8c10a1b1c2d4c402e4dacfa87f3aff36a\n",
            "Successfully built langdetect\n",
            "Installing collected packages: langdetect\n",
            "Successfully installed langdetect-1.0.9\n"
          ]
        }
      ]
    },
    {
      "cell_type": "code",
      "source": [
        "import langdetect"
      ],
      "metadata": {
        "id": "j-8x4obxtH8j"
      },
      "execution_count": null,
      "outputs": []
    },
    {
      "cell_type": "code",
      "source": [
        "from langdetect import detect"
      ],
      "metadata": {
        "id": "Z33B6ncOtL-B"
      },
      "execution_count": null,
      "outputs": []
    },
    {
      "cell_type": "code",
      "source": [
        "# Initialize the random number generator\n",
        "random.seed(0)"
      ],
      "metadata": {
        "id": "tSK615_9Tsr4"
      },
      "execution_count": null,
      "outputs": []
    },
    {
      "cell_type": "code",
      "source": [
        "# Data frame of blog text\n",
        "df = pd.read_excel(path+'InputData.xlsx')"
      ],
      "metadata": {
        "id": "0oi0mCYqTzWh"
      },
      "execution_count": null,
      "outputs": []
    },
    {
      "cell_type": "code",
      "source": [
        "#Exploring the given Data files\n",
        "df.head()"
      ],
      "metadata": {
        "colab": {
          "base_uri": "https://localhost:8080/",
          "height": 206
        },
        "id": "7D-epEQRUOw5",
        "outputId": "ea56ff7d-0bf0-4fba-cfbe-561077e40e22"
      },
      "execution_count": null,
      "outputs": [
        {
          "output_type": "execute_result",
          "data": {
            "text/html": [
              "\n",
              "  <div id=\"df-d44f8f8f-732e-4d9e-a2c8-6750b2a2ddc4\">\n",
              "    <div class=\"colab-df-container\">\n",
              "      <div>\n",
              "<style scoped>\n",
              "    .dataframe tbody tr th:only-of-type {\n",
              "        vertical-align: middle;\n",
              "    }\n",
              "\n",
              "    .dataframe tbody tr th {\n",
              "        vertical-align: top;\n",
              "    }\n",
              "\n",
              "    .dataframe thead th {\n",
              "        text-align: right;\n",
              "    }\n",
              "</style>\n",
              "<table border=\"1\" class=\"dataframe\">\n",
              "  <thead>\n",
              "    <tr style=\"text-align: right;\">\n",
              "      <th></th>\n",
              "      <th>Short description</th>\n",
              "      <th>Description</th>\n",
              "      <th>Caller</th>\n",
              "      <th>Assignment group</th>\n",
              "    </tr>\n",
              "  </thead>\n",
              "  <tbody>\n",
              "    <tr>\n",
              "      <th>0</th>\n",
              "      <td>login issue</td>\n",
              "      <td>-verified user details.(employee# &amp; manager na...</td>\n",
              "      <td>spxjnwir pjlcoqds</td>\n",
              "      <td>GRP_0</td>\n",
              "    </tr>\n",
              "    <tr>\n",
              "      <th>1</th>\n",
              "      <td>outlook</td>\n",
              "      <td>_x000D_\\n_x000D_\\nreceived from: hmjdrvpb.komu...</td>\n",
              "      <td>hmjdrvpb komuaywn</td>\n",
              "      <td>GRP_0</td>\n",
              "    </tr>\n",
              "    <tr>\n",
              "      <th>2</th>\n",
              "      <td>cant log in to vpn</td>\n",
              "      <td>_x000D_\\n_x000D_\\nreceived from: eylqgodm.ybqk...</td>\n",
              "      <td>eylqgodm ybqkwiam</td>\n",
              "      <td>GRP_0</td>\n",
              "    </tr>\n",
              "    <tr>\n",
              "      <th>3</th>\n",
              "      <td>unable to access hr_tool page</td>\n",
              "      <td>unable to access hr_tool page</td>\n",
              "      <td>xbkucsvz gcpydteq</td>\n",
              "      <td>GRP_0</td>\n",
              "    </tr>\n",
              "    <tr>\n",
              "      <th>4</th>\n",
              "      <td>skype error</td>\n",
              "      <td>skype error</td>\n",
              "      <td>owlgqjme qhcozdfx</td>\n",
              "      <td>GRP_0</td>\n",
              "    </tr>\n",
              "  </tbody>\n",
              "</table>\n",
              "</div>\n",
              "      <button class=\"colab-df-convert\" onclick=\"convertToInteractive('df-d44f8f8f-732e-4d9e-a2c8-6750b2a2ddc4')\"\n",
              "              title=\"Convert this dataframe to an interactive table.\"\n",
              "              style=\"display:none;\">\n",
              "        \n",
              "  <svg xmlns=\"http://www.w3.org/2000/svg\" height=\"24px\"viewBox=\"0 0 24 24\"\n",
              "       width=\"24px\">\n",
              "    <path d=\"M0 0h24v24H0V0z\" fill=\"none\"/>\n",
              "    <path d=\"M18.56 5.44l.94 2.06.94-2.06 2.06-.94-2.06-.94-.94-2.06-.94 2.06-2.06.94zm-11 1L8.5 8.5l.94-2.06 2.06-.94-2.06-.94L8.5 2.5l-.94 2.06-2.06.94zm10 10l.94 2.06.94-2.06 2.06-.94-2.06-.94-.94-2.06-.94 2.06-2.06.94z\"/><path d=\"M17.41 7.96l-1.37-1.37c-.4-.4-.92-.59-1.43-.59-.52 0-1.04.2-1.43.59L10.3 9.45l-7.72 7.72c-.78.78-.78 2.05 0 2.83L4 21.41c.39.39.9.59 1.41.59.51 0 1.02-.2 1.41-.59l7.78-7.78 2.81-2.81c.8-.78.8-2.07 0-2.86zM5.41 20L4 18.59l7.72-7.72 1.47 1.35L5.41 20z\"/>\n",
              "  </svg>\n",
              "      </button>\n",
              "      \n",
              "  <style>\n",
              "    .colab-df-container {\n",
              "      display:flex;\n",
              "      flex-wrap:wrap;\n",
              "      gap: 12px;\n",
              "    }\n",
              "\n",
              "    .colab-df-convert {\n",
              "      background-color: #E8F0FE;\n",
              "      border: none;\n",
              "      border-radius: 50%;\n",
              "      cursor: pointer;\n",
              "      display: none;\n",
              "      fill: #1967D2;\n",
              "      height: 32px;\n",
              "      padding: 0 0 0 0;\n",
              "      width: 32px;\n",
              "    }\n",
              "\n",
              "    .colab-df-convert:hover {\n",
              "      background-color: #E2EBFA;\n",
              "      box-shadow: 0px 1px 2px rgba(60, 64, 67, 0.3), 0px 1px 3px 1px rgba(60, 64, 67, 0.15);\n",
              "      fill: #174EA6;\n",
              "    }\n",
              "\n",
              "    [theme=dark] .colab-df-convert {\n",
              "      background-color: #3B4455;\n",
              "      fill: #D2E3FC;\n",
              "    }\n",
              "\n",
              "    [theme=dark] .colab-df-convert:hover {\n",
              "      background-color: #434B5C;\n",
              "      box-shadow: 0px 1px 3px 1px rgba(0, 0, 0, 0.15);\n",
              "      filter: drop-shadow(0px 1px 2px rgba(0, 0, 0, 0.3));\n",
              "      fill: #FFFFFF;\n",
              "    }\n",
              "  </style>\n",
              "\n",
              "      <script>\n",
              "        const buttonEl =\n",
              "          document.querySelector('#df-d44f8f8f-732e-4d9e-a2c8-6750b2a2ddc4 button.colab-df-convert');\n",
              "        buttonEl.style.display =\n",
              "          google.colab.kernel.accessAllowed ? 'block' : 'none';\n",
              "\n",
              "        async function convertToInteractive(key) {\n",
              "          const element = document.querySelector('#df-d44f8f8f-732e-4d9e-a2c8-6750b2a2ddc4');\n",
              "          const dataTable =\n",
              "            await google.colab.kernel.invokeFunction('convertToInteractive',\n",
              "                                                     [key], {});\n",
              "          if (!dataTable) return;\n",
              "\n",
              "          const docLinkHtml = 'Like what you see? Visit the ' +\n",
              "            '<a target=\"_blank\" href=https://colab.research.google.com/notebooks/data_table.ipynb>data table notebook</a>'\n",
              "            + ' to learn more about interactive tables.';\n",
              "          element.innerHTML = '';\n",
              "          dataTable['output_type'] = 'display_data';\n",
              "          await google.colab.output.renderOutput(dataTable, element);\n",
              "          const docLink = document.createElement('div');\n",
              "          docLink.innerHTML = docLinkHtml;\n",
              "          element.appendChild(docLink);\n",
              "        }\n",
              "      </script>\n",
              "    </div>\n",
              "  </div>\n",
              "  "
            ],
            "text/plain": [
              "               Short description  ... Assignment group\n",
              "0                    login issue  ...            GRP_0\n",
              "1                        outlook  ...            GRP_0\n",
              "2             cant log in to vpn  ...            GRP_0\n",
              "3  unable to access hr_tool page  ...            GRP_0\n",
              "4                   skype error   ...            GRP_0\n",
              "\n",
              "[5 rows x 4 columns]"
            ]
          },
          "metadata": {},
          "execution_count": 11
        }
      ]
    },
    {
      "cell_type": "markdown",
      "source": [
        "Given file is having 4 columns, short description, descrption, caller and assignment group. For our objective, caller is not required we can drop the column."
      ],
      "metadata": {
        "id": "b1ac5DJzdh8O"
      }
    },
    {
      "cell_type": "code",
      "source": [
        "df.drop(\"Caller\",axis='columns', inplace=True)"
      ],
      "metadata": {
        "id": "yhQqgh0fd1az"
      },
      "execution_count": null,
      "outputs": []
    },
    {
      "cell_type": "code",
      "source": [
        "#Shape of data set\n",
        "df.shape"
      ],
      "metadata": {
        "colab": {
          "base_uri": "https://localhost:8080/"
        },
        "id": "EQufJi3mUX8C",
        "outputId": "081bb415-116c-4525-c7b7-30a4196eaabf"
      },
      "execution_count": null,
      "outputs": [
        {
          "output_type": "execute_result",
          "data": {
            "text/plain": [
              "(8500, 3)"
            ]
          },
          "metadata": {},
          "execution_count": 13
        }
      ]
    },
    {
      "cell_type": "code",
      "source": [
        "#As this is clasification problem of identifying group based on message, we have to see the distribution based on group\n",
        "# creating the bar plot\n",
        "plt.bar(df['Assignment group'].value_counts().index, df['Assignment group'].value_counts(), color ='blue',\n",
        "        width = 1)\n",
        "plt.xlabel(\"Assignment Group\")\n",
        "plt.ylabel(\"No. of messages\")\n",
        "plt.title(\"Messages in each group\")\n",
        "plt.show()"
      ],
      "metadata": {
        "colab": {
          "base_uri": "https://localhost:8080/",
          "height": 296
        },
        "id": "Znrapo0LXL8s",
        "outputId": "1d38863c-f242-491b-c207-e5149d6de5cb"
      },
      "execution_count": null,
      "outputs": [
        {
          "output_type": "display_data",
          "data": {
            "image/png": "[encoded data removed]",
            "text/plain": [
              "<Figure size 432x288 with 1 Axes>"
            ]
          },
          "metadata": {
            "needs_background": "light"
          }
        }
      ]
    },
    {
      "cell_type": "markdown",
      "source": [
        "Only one group group_0 is showing high value than other groups, we have class imbalance problem in data. "
      ],
      "metadata": {
        "id": "nVv7uQykbFfP"
      }
    },
    {
      "cell_type": "code",
      "source": [
        "#identify any null values in the data set\n",
        "df.isna().sum()"
      ],
      "metadata": {
        "colab": {
          "base_uri": "https://localhost:8080/"
        },
        "id": "blH0YarzuNaM",
        "outputId": "a27e57c9-4a53-4090-a982-91ad7ceedd90"
      },
      "execution_count": null,
      "outputs": [
        {
          "output_type": "execute_result",
          "data": {
            "text/plain": [
              "Short description    8\n",
              "Description          1\n",
              "Assignment group     0\n",
              "dtype: int64"
            ]
          },
          "metadata": {},
          "execution_count": 15
        }
      ]
    },
    {
      "cell_type": "code",
      "source": [
        "#droppping the values having na\n",
        "df = df.dropna()"
      ],
      "metadata": {
        "id": "5SPrlBa5uUaw"
      },
      "execution_count": null,
      "outputs": []
    },
    {
      "cell_type": "code",
      "source": [
        "df['Description'].apply(lambda x : len(x)).max()\n",
        "#df['Description'].apply(len)"
      ],
      "metadata": {
        "colab": {
          "base_uri": "https://localhost:8080/"
        },
        "id": "lKpIbbQo0g4A",
        "outputId": "9bbc56df-a1ef-43e6-9dc9-d7c7ead4b159"
      },
      "execution_count": null,
      "outputs": [
        {
          "output_type": "execute_result",
          "data": {
            "text/plain": [
              "14441"
            ]
          },
          "metadata": {},
          "execution_count": 17
        }
      ]
    },
    {
      "cell_type": "code",
      "source": [
        "#Check the max and min length of description\n",
        "print('Maximum length in descrption column {}'.format(df['Description'].apply(lambda x : len(x)).max()))\n",
        "print('Minimum length in description column {}'.format(df['Description'].apply(lambda x : len(x)).min()))"
      ],
      "metadata": {
        "colab": {
          "base_uri": "https://localhost:8080/"
        },
        "id": "oK69-AY2vDeO",
        "outputId": "0eac3d08-ddda-4242-a42d-eb0863b6ba4e"
      },
      "execution_count": null,
      "outputs": [
        {
          "output_type": "stream",
          "name": "stdout",
          "text": [
            "Maximum length in descrption column 14441\n",
            "Minimum length in description column 1\n"
          ]
        }
      ]
    },
    {
      "cell_type": "code",
      "source": [
        "#Removing special char functions\n",
        "df['Description']=df['Description'].apply(lambda x : re.sub(r\"[^A-Za-z \\s]\",\"\",x))"
      ],
      "metadata": {
        "id": "Z9-Smku02zf8"
      },
      "execution_count": null,
      "outputs": []
    },
    {
      "cell_type": "code",
      "source": [
        "df[df['Description'].apply(lambda x : len(re.findall(r\"xD\\n\",x))) == 0].count();"
      ],
      "metadata": {
        "id": "pQI2GjrdDvpD"
      },
      "execution_count": null,
      "outputs": []
    },
    {
      "cell_type": "code",
      "source": [
        "#Found \"xD\\n\" string which is not a meaningfull text, need to remove\n",
        "df['Description']=df['Description'].apply(lambda x : re.sub(r\"xD\\n\",\"\",x))"
      ],
      "metadata": {
        "id": "jvCYJznzG27B"
      },
      "execution_count": null,
      "outputs": []
    },
    {
      "cell_type": "code",
      "source": [
        "#Check the max and min words of description\n",
        "print('Maximum word length in descrption column {}'.format(df['Description'].apply(lambda x : len(x.split())).max()))\n",
        "print('Minimum word length in description column {}'.format(df['Description'].apply(lambda x : len(x.split())).min()))"
      ],
      "metadata": {
        "colab": {
          "base_uri": "https://localhost:8080/"
        },
        "id": "Ls5blI_8HCdt",
        "outputId": "4f4c6581-ef33-4e7b-b7f7-27bf0823a7c6"
      },
      "execution_count": null,
      "outputs": [
        {
          "output_type": "stream",
          "name": "stdout",
          "text": [
            "Maximum word length in descrption column 1049\n",
            "Minimum word length in description column 0\n"
          ]
        }
      ]
    },
    {
      "cell_type": "code",
      "source": [
        "#Identify the word length in each description\n",
        "df['word_length'] = df['Description'].apply(lambda x : len(x.split()))"
      ],
      "metadata": {
        "id": "Tm4kNyPPBEBV"
      },
      "execution_count": null,
      "outputs": []
    },
    {
      "cell_type": "code",
      "source": [
        "#Remove the records which are having word length 0 and 1 as we can't classify based on 1 word.\n",
        "df = df.drop(df[df['word_length']<=1].index)"
      ],
      "metadata": {
        "id": "TNMXmXVwH0Iv"
      },
      "execution_count": null,
      "outputs": []
    },
    {
      "cell_type": "code",
      "source": [
        "df.shape"
      ],
      "metadata": {
        "colab": {
          "base_uri": "https://localhost:8080/"
        },
        "id": "TF6-gNlhJMgl",
        "outputId": "66cd2bb9-4a30-407a-caa1-914ce9ece0c5"
      },
      "execution_count": null,
      "outputs": [
        {
          "output_type": "execute_result",
          "data": {
            "text/plain": [
              "(8337, 4)"
            ]
          },
          "metadata": {},
          "execution_count": 25
        }
      ]
    },
    {
      "cell_type": "code",
      "source": [
        "#Identify lang for each message\n",
        "df['desc_lang']=df['Description'].apply(lambda x : detect(x))"
      ],
      "metadata": {
        "id": "fxgXaDfYmjGP"
      },
      "execution_count": null,
      "outputs": []
    },
    {
      "cell_type": "code",
      "source": [
        "df['desc_lang'].value_counts();"
      ],
      "metadata": {
        "id": "zghNfWnfuDTB"
      },
      "execution_count": null,
      "outputs": []
    },
    {
      "cell_type": "code",
      "source": [
        "df[df['desc_lang'] == 'de']"
      ],
      "metadata": {
        "colab": {
          "base_uri": "https://localhost:8080/",
          "height": 165
        },
        "id": "s2IsPtPNB2pD",
        "outputId": "155861c4-07e3-4abd-9497-2e215ceed8d2"
      },
      "execution_count": null,
      "outputs": [
        {
          "output_type": "error",
          "ename": "NameError",
          "evalue": "ignored",
          "traceback": [
            "\u001b[0;31m---------------------------------------------------------------------------\u001b[0m",
            "\u001b[0;31mNameError\u001b[0m                                 Traceback (most recent call last)",
            "\u001b[0;32m<ipython-input-1-d20925b59c24>\u001b[0m in \u001b[0;36m<module>\u001b[0;34m()\u001b[0m\n\u001b[0;32m----> 1\u001b[0;31m \u001b[0mdf\u001b[0m\u001b[0;34m[\u001b[0m\u001b[0mdf\u001b[0m\u001b[0;34m[\u001b[0m\u001b[0;34m'desc_lang'\u001b[0m\u001b[0;34m]\u001b[0m \u001b[0;34m==\u001b[0m \u001b[0;34m'de'\u001b[0m\u001b[0;34m]\u001b[0m\u001b[0;34m\u001b[0m\u001b[0;34m\u001b[0m\u001b[0m\n\u001b[0m",
            "\u001b[0;31mNameError\u001b[0m: name 'df' is not defined"
          ]
        }
      ]
    },
    {
      "cell_type": "code",
      "source": [
        "from translate import Translator\n",
        "translator= Translator(from_lang=\"german\",to_lang=\"english\")\n",
        "\n",
        "translator.translate(\"Guten Morgen\")"
      ],
      "metadata": {
        "id": "8dqbMSj4Tior"
      },
      "execution_count": null,
      "outputs": []
    }
  ]
}