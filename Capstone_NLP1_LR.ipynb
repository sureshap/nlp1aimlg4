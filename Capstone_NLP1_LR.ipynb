{
 "cells": [
  {
   "cell_type": "markdown",
   "metadata": {
    "id": "0l7R-nFrlxr7"
   },
   "source": [
    "# Part 4 - Build Logistic Regression Model"
   ]
  },
  {
   "cell_type": "markdown",
   "metadata": {
    "id": "78zNPWVTl7jr"
   },
   "source": [
    "## 1. Import and analyse the data set."
   ]
  },
  {
   "cell_type": "code",
   "execution_count": 1,
   "metadata": {
    "executionInfo": {
     "elapsed": 1785,
     "status": "ok",
     "timestamp": 1646501877265,
     "user": {
      "displayName": "Suresh Kumar AP",
      "photoUrl": "https://lh3.googleusercontent.com/a/default-user=s64",
      "userId": "06815030131346327317"
     },
     "user_tz": -330
    },
    "id": "IbetoG6fG6MU"
   },
   "outputs": [],
   "source": [
    "import pandas as pd # read data file, data processing\n",
    "import numpy as np # linear algebra\n",
    "import matplotlib.pyplot as plt # plotting graph for EDA , Metrics analysis\n",
    "%matplotlib inline\n",
    "import seaborn as sns # plotting graph for EDA , Metrics analysis"
   ]
  },
  {
   "cell_type": "markdown",
   "metadata": {
    "id": "eQZo4ZW8kmRT"
   },
   "source": [
    "### Load the data "
   ]
  },
  {
   "cell_type": "code",
   "execution_count": 2,
   "metadata": {
    "colab": {
     "base_uri": "https://localhost:8080/"
    },
    "executionInfo": {
     "elapsed": 2606,
     "status": "ok",
     "timestamp": 1646501879863,
     "user": {
      "displayName": "Suresh Kumar AP",
      "photoUrl": "https://lh3.googleusercontent.com/a/default-user=s64",
      "userId": "06815030131346327317"
     },
     "user_tz": -330
    },
    "id": "nIaMSFxiCsrG",
    "outputId": "9c88b1a0-a820-40a0-f5fb-1c196e3d1179"
   },
   "outputs": [
    {
     "name": "stdout",
     "output_type": "stream",
     "text": [
      "Drive already mounted at /content/drive; to attempt to forcibly remount, call drive.mount(\"/content/drive\", force_remount=True).\n"
     ]
    }
   ],
   "source": [
    "from google.colab import drive\n",
    "drive.mount('/content/drive')"
   ]
  },
  {
   "cell_type": "code",
   "execution_count": 3,
   "metadata": {
    "colab": {
     "base_uri": "https://localhost:8080/",
     "height": 35
    },
    "executionInfo": {
     "elapsed": 5,
     "status": "ok",
     "timestamp": 1646501879863,
     "user": {
      "displayName": "Suresh Kumar AP",
      "photoUrl": "https://lh3.googleusercontent.com/a/default-user=s64",
      "userId": "06815030131346327317"
     },
     "user_tz": -330
    },
    "id": "LQz4u8UuGY93",
    "outputId": "7b053ff4-a684-4b46-aff6-94d74c1a6ff5"
   },
   "outputs": [
    {
     "data": {
      "application/vnd.google.colaboratory.intrinsic+json": {
       "type": "string"
      },
      "text/plain": [
       "'/content/drive/MyDrive/AIML/projects/Capstone-NLP-Ticketing/input_data_trans_preprocess.csv'"
      ]
     },
     "execution_count": 3,
     "metadata": {},
     "output_type": "execute_result"
    }
   ],
   "source": [
    "# Input data files has been processed for \n",
    "# 1. carriage return characters like '_x000D_' and \\n \n",
    "# 2. Accented encoding character like äº§å“æ‰€åœ¨ä»“åº“å‡ºé”™ã€ , è¿žæŽ¥åŽè‡ªåŠ¨æ–­å¼€ï¼Œæ\n",
    "# 3. Translation of words in non english language especially German, Italian, French\n",
    "# Above 3 steps are done separately and output from these steps are used for further processing in Part 2\n",
    "# 4. Update of Assigment group - fewer data groups , grouped to Group others\n",
    "# 5. Pre-process for having only English data after translation, removal of spaces \n",
    "# 6. Treatment of Null values\n",
    "# Above step 4,5,6 are done in part2 and processed data is stored in input_data_trans_preprocess.csv\n",
    "\n",
    "data_dir = \"/content/drive/MyDrive/AIML/projects/Capstone-NLP-Ticketing/\"\n",
    "data_file_name='input_data_trans_preprocess.csv'\n",
    "data_file_path = data_dir+data_file_name\n",
    "data_file_path"
   ]
  },
  {
   "cell_type": "code",
   "execution_count": 4,
   "metadata": {
    "executionInfo": {
     "elapsed": 580,
     "status": "ok",
     "timestamp": 1646501880439,
     "user": {
      "displayName": "Suresh Kumar AP",
      "photoUrl": "https://lh3.googleusercontent.com/a/default-user=s64",
      "userId": "06815030131346327317"
     },
     "user_tz": -330
    },
    "id": "1OBrsuRlG7hu"
   },
   "outputs": [],
   "source": [
    "#df_data = pd.read_excel(data_file_path)\n",
    "df_data = pd.read_csv(data_file_path)"
   ]
  },
  {
   "cell_type": "code",
   "execution_count": 5,
   "metadata": {
    "colab": {
     "base_uri": "https://localhost:8080/"
    },
    "executionInfo": {
     "elapsed": 3,
     "status": "ok",
     "timestamp": 1646501880439,
     "user": {
      "displayName": "Suresh Kumar AP",
      "photoUrl": "https://lh3.googleusercontent.com/a/default-user=s64",
      "userId": "06815030131346327317"
     },
     "user_tz": -330
    },
    "id": "gruedr4GTWq1",
    "outputId": "7fd14a70-991b-44cf-e343-2e254b86955a"
   },
   "outputs": [
    {
     "name": "stdout",
     "output_type": "stream",
     "text": [
      "<class 'pandas.core.frame.DataFrame'>\n",
      "RangeIndex: 8467 entries, 0 to 8466\n",
      "Data columns (total 10 columns):\n",
      " #   Column                  Non-Null Count  Dtype \n",
      "---  ------                  --------------  ----- \n",
      " 0   Short description       8467 non-null   object\n",
      " 1   Description             8467 non-null   object\n",
      " 2   Caller                  8467 non-null   object\n",
      " 3   Assignment group        8467 non-null   object\n",
      " 4   orig_desc               8466 non-null   object\n",
      " 5   orig_short_desc         8459 non-null   object\n",
      " 6   Lang                    8467 non-null   object\n",
      " 7   Translated_ShortDesc    8450 non-null   object\n",
      " 8   Translated_Description  8467 non-null   object\n",
      " 9   orig_assign_group       8467 non-null   object\n",
      "dtypes: object(10)\n",
      "memory usage: 661.6+ KB\n"
     ]
    }
   ],
   "source": [
    "df_data.info()"
   ]
  },
  {
   "cell_type": "markdown",
   "metadata": {
    "id": "AnhACVkZbhp9"
   },
   "source": [
    "**Feature with both description - Merging both Description and Short description**"
   ]
  },
  {
   "cell_type": "code",
   "execution_count": 6,
   "metadata": {
    "executionInfo": {
     "elapsed": 3,
     "status": "ok",
     "timestamp": 1646501880440,
     "user": {
      "displayName": "Suresh Kumar AP",
      "photoUrl": "https://lh3.googleusercontent.com/a/default-user=s64",
      "userId": "06815030131346327317"
     },
     "user_tz": -330
    },
    "id": "T6yk3HrQbUqB"
   },
   "outputs": [],
   "source": [
    "df_data['Desc_All'] = df_data['Short description'] + ' '+ df_data['Description']\n",
    "# Strip unwanted spaces\n",
    "df_data['Desc_All'] = df_data['Desc_All'].apply(lambda x: x.strip())"
   ]
  },
  {
   "cell_type": "markdown",
   "metadata": {
    "id": "51jATjAjELBM"
   },
   "source": [
    "**Feature with description and caller - Merging both Description ,  Short description and Caller**"
   ]
  },
  {
   "cell_type": "code",
   "execution_count": 7,
   "metadata": {
    "executionInfo": {
     "elapsed": 3,
     "status": "ok",
     "timestamp": 1646501880440,
     "user": {
      "displayName": "Suresh Kumar AP",
      "photoUrl": "https://lh3.googleusercontent.com/a/default-user=s64",
      "userId": "06815030131346327317"
     },
     "user_tz": -330
    },
    "id": "zK1aJh5vgLDC"
   },
   "outputs": [],
   "source": [
    "# Merge Desc, Short Desc and Caller \n",
    "df_data['Desc_all_Caller'] = df_data['Desc_All']  + ' '+ df_data['Caller']"
   ]
  },
  {
   "cell_type": "code",
   "execution_count": 8,
   "metadata": {
    "colab": {
     "base_uri": "https://localhost:8080/"
    },
    "executionInfo": {
     "elapsed": 491,
     "status": "ok",
     "timestamp": 1646501880928,
     "user": {
      "displayName": "Suresh Kumar AP",
      "photoUrl": "https://lh3.googleusercontent.com/a/default-user=s64",
      "userId": "06815030131346327317"
     },
     "user_tz": -330
    },
    "id": "Tuq1McKvWTD-",
    "outputId": "bc8010fe-ba81-43ac-fc1d-99a8b68459a8"
   },
   "outputs": [
    {
     "name": "stdout",
     "output_type": "stream",
     "text": [
      "[nltk_data] Downloading package stopwords to /root/nltk_data...\n",
      "[nltk_data]   Package stopwords is already up-to-date!\n"
     ]
    }
   ],
   "source": [
    "# Import stop words list from NLTK\n",
    "import nltk\n",
    "nltk.download('stopwords')\n",
    "from nltk.corpus import stopwords # Import stop words\n",
    "stop_words = set(stopwords.words('english'))"
   ]
  },
  {
   "cell_type": "code",
   "execution_count": 9,
   "metadata": {
    "colab": {
     "base_uri": "https://localhost:8080/"
    },
    "executionInfo": {
     "elapsed": 513,
     "status": "ok",
     "timestamp": 1646501881440,
     "user": {
      "displayName": "Suresh Kumar AP",
      "photoUrl": "https://lh3.googleusercontent.com/a/default-user=s64",
      "userId": "06815030131346327317"
     },
     "user_tz": -330
    },
    "id": "JllPo8L5hYUx",
    "outputId": "781e3b56-1544-47d2-efc0-1f3ddab1dd93"
   },
   "outputs": [
    {
     "name": "stdout",
     "output_type": "stream",
     "text": [
      "[nltk_data] Downloading package punkt to /root/nltk_data...\n",
      "[nltk_data]   Package punkt is already up-to-date!\n"
     ]
    },
    {
     "data": {
      "text/plain": [
       "True"
      ]
     },
     "execution_count": 9,
     "metadata": {},
     "output_type": "execute_result"
    }
   ],
   "source": [
    "nltk.download('punkt')"
   ]
  },
  {
   "cell_type": "code",
   "execution_count": 10,
   "metadata": {
    "colab": {
     "base_uri": "https://localhost:8080/"
    },
    "executionInfo": {
     "elapsed": 3,
     "status": "ok",
     "timestamp": 1646501881440,
     "user": {
      "displayName": "Suresh Kumar AP",
      "photoUrl": "https://lh3.googleusercontent.com/a/default-user=s64",
      "userId": "06815030131346327317"
     },
     "user_tz": -330
    },
    "id": "Wn3WuEg3ha4-",
    "outputId": "1a8da3bf-85b2-4f0b-8a93-97b02abd3528"
   },
   "outputs": [
    {
     "name": "stdout",
     "output_type": "stream",
     "text": [
      "[nltk_data] Downloading package wordnet to /root/nltk_data...\n",
      "[nltk_data]   Package wordnet is already up-to-date!\n"
     ]
    },
    {
     "data": {
      "text/plain": [
       "True"
      ]
     },
     "execution_count": 10,
     "metadata": {},
     "output_type": "execute_result"
    }
   ],
   "source": [
    "nltk.download('wordnet')"
   ]
  },
  {
   "cell_type": "markdown",
   "metadata": {
    "id": "IPkTDULEnG_C"
   },
   "source": [
    "● Text preprocessing\n",
    "include lemmatization"
   ]
  },
  {
   "cell_type": "code",
   "execution_count": 29,
   "metadata": {
    "executionInfo": {
     "elapsed": 300,
     "status": "ok",
     "timestamp": 1646503298329,
     "user": {
      "displayName": "Suresh Kumar AP",
      "photoUrl": "https://lh3.googleusercontent.com/a/default-user=s64",
      "userId": "06815030131346327317"
     },
     "user_tz": -330
    },
    "id": "XfFuKQT7JSug"
   },
   "outputs": [],
   "source": [
    "\n",
    "from nltk.stem import WordNetLemmatizer,PorterStemmer\n",
    "from nltk.tokenize import word_tokenize\n",
    "    \n",
    "def preprocess_vocab(df_column):\n",
    "    corpus=[]\n",
    "    stop_words=set(stopwords.words('english'))\n",
    "    #stem=PorterStemmer()\n",
    "    lem=WordNetLemmatizer()\n",
    "    for tickets in df_column:\n",
    "      words=[w for w in word_tokenize(tickets) if (w not in stop_words)]\n",
    "      words=[lem.lemmatize(w) for w in words if len(w)>2]\n",
    "      corpus.append(words)\n",
    "\n",
    "    df_column_upd = df_column.apply(lambda x: ' '.join([word for word in x.split() if word not in stop_words]))\n",
    "    \n",
    "    return  df_column_upd, corpus\n"
   ]
  },
  {
   "cell_type": "markdown",
   "metadata": {
    "id": "WS3ArptlT_z4"
   },
   "source": [
    "## Train a simple ML Model - Logistic Regression"
   ]
  },
  {
   "cell_type": "code",
   "execution_count": 92,
   "metadata": {
    "executionInfo": {
     "elapsed": 289,
     "status": "ok",
     "timestamp": 1646508940350,
     "user": {
      "displayName": "Suresh Kumar AP",
      "photoUrl": "https://lh3.googleusercontent.com/a/default-user=s64",
      "userId": "06815030131346327317"
     },
     "user_tz": -330
    },
    "id": "TWW60A1QRskn"
   },
   "outputs": [],
   "source": [
    "from sklearn.metrics import accuracy_score\n",
    "from sklearn.metrics import f1_score\n",
    "from sklearn.metrics import precision_score\n",
    "from sklearn.metrics import recall_score\n",
    "from sklearn.metrics import classification_report\n",
    "\n",
    "def calc_metrics(actual,predicted):\n",
    "  print('Accuracy score: ', round(accuracy_score(actual, predicted),2))\n",
    "  print(\"precision_weighted:\", round(precision_score(actual, predicted,average='weighted', zero_division=1),2))\n",
    "  print(\"recall_weighted:\", round(recall_score(actual, predicted,average='weighted', zero_division=1 ),2))\n",
    "  print(\"f1_weighted:\", round(f1_score(actual, predicted,average='weighted', zero_division=1 ),2))\n",
    "  #print(\"Classification Report:\")\n",
    "  #print(classification_report(y_test_mdl_cat, y_pred_bow,zero_division=1))"
   ]
  },
  {
   "cell_type": "code",
   "execution_count": 93,
   "metadata": {
    "executionInfo": {
     "elapsed": 5,
     "status": "ok",
     "timestamp": 1646508943254,
     "user": {
      "displayName": "Suresh Kumar AP",
      "photoUrl": "https://lh3.googleusercontent.com/a/default-user=s64",
      "userId": "06815030131346327317"
     },
     "user_tz": -330
    },
    "id": "ZJrtRlEpZgWH"
   },
   "outputs": [],
   "source": [
    "from sklearn.model_selection import train_test_split\n",
    "from sklearn.feature_extraction.text import CountVectorizer\n",
    "from sklearn import preprocessing\n",
    "from tensorflow.keras.utils import to_categorical\n",
    "\n",
    "def run_model(model, X_train, X_val, y_train, y_val):\n",
    "\n",
    "  # convert X_train to BOW values  - Featurization\n",
    "  vectorizer = CountVectorizer(binary=True)\n",
    "  X_train_bow = vectorizer.fit_transform(X_train)\n",
    "  X_val_bow = vectorizer.transform(X_val)\n",
    "\n",
    "  # Convert Target variable to categorical value using label encoding\n",
    "  y = df_data['Assignment group'].values\n",
    "  le = preprocessing.LabelEncoder()\n",
    "  le.fit(y)\n",
    "  y_train_mdl_lbl_enc = le.transform(y_train)\n",
    "  y_train_mdl_cat = to_categorical(y_train_mdl_lbl_enc)\n",
    "  y_val_mdl_lbl_enc = le.transform(y_val)\n",
    "  y_val_mdl_cat = to_categorical(y_val_mdl_lbl_enc)\n",
    "\n",
    "  # Train the model\n",
    "  history = model.fit(X_train_bow, y_train_mdl_cat)\n",
    "  print(\"Model trainded\")\n",
    "  # Predict for given validation value\n",
    "\n",
    "  y_pred_bow = model.predict(X_val_bow)\n",
    "  print(\"Model Prediction completed\")\n",
    "  actual = y_val_mdl_cat\n",
    "  predicted = y_pred_bow\n",
    "\n",
    "  calc_metrics(actual,predicted)\n",
    "  return history"
   ]
  },
  {
   "cell_type": "code",
   "execution_count": 94,
   "metadata": {
    "executionInfo": {
     "elapsed": 335,
     "status": "ok",
     "timestamp": 1646508946975,
     "user": {
      "displayName": "Suresh Kumar AP",
      "photoUrl": "https://lh3.googleusercontent.com/a/default-user=s64",
      "userId": "06815030131346327317"
     },
     "user_tz": -330
    },
    "id": "rtw8E2nGLeQZ"
   },
   "outputs": [],
   "source": [
    "from sklearn.multiclass import OneVsRestClassifier\n",
    "from sklearn.linear_model import LogisticRegression\n",
    "\n",
    "def run_LR_model(X_train, X_val, y_train, y_val):\n",
    "  clf = LogisticRegression(solver='lbfgs', max_iter=250)\n",
    "  clf = OneVsRestClassifier(clf)\n",
    "  #model = clf\n",
    "  history = run_model(clf, X_train, X_val, y_train, y_val)\n",
    "  return clf, history"
   ]
  },
  {
   "cell_type": "code",
   "execution_count": 62,
   "metadata": {
    "colab": {
     "base_uri": "https://localhost:8080/"
    },
    "executionInfo": {
     "elapsed": 310,
     "status": "ok",
     "timestamp": 1646506098359,
     "user": {
      "displayName": "Suresh Kumar AP",
      "photoUrl": "https://lh3.googleusercontent.com/a/default-user=s64",
      "userId": "06815030131346327317"
     },
     "user_tz": -330
    },
    "id": "JbGK_4FTNoIm",
    "outputId": "3d187f61-c1e8-4d62-9517-e69a5b7f4b50"
   },
   "outputs": [
    {
     "name": "stdout",
     "output_type": "stream",
     "text": [
      "<class 'pandas.core.frame.DataFrame'>\n",
      "RangeIndex: 8467 entries, 0 to 8466\n",
      "Data columns (total 12 columns):\n",
      " #   Column                  Non-Null Count  Dtype \n",
      "---  ------                  --------------  ----- \n",
      " 0   Short description       8467 non-null   object\n",
      " 1   Description             8467 non-null   object\n",
      " 2   Caller                  8467 non-null   object\n",
      " 3   Assignment group        8467 non-null   object\n",
      " 4   orig_desc               8466 non-null   object\n",
      " 5   orig_short_desc         8459 non-null   object\n",
      " 6   Lang                    8467 non-null   object\n",
      " 7   Translated_ShortDesc    8450 non-null   object\n",
      " 8   Translated_Description  8467 non-null   object\n",
      " 9   orig_assign_group       8467 non-null   object\n",
      " 10  Desc_All                8467 non-null   object\n",
      " 11  Desc_all_Caller         8467 non-null   object\n",
      "dtypes: object(12)\n",
      "memory usage: 793.9+ KB\n"
     ]
    }
   ],
   "source": [
    "df_data.info()"
   ]
  },
  {
   "cell_type": "code",
   "execution_count": null,
   "metadata": {
    "id": "KgOb8UIGYoG-"
   },
   "outputs": [],
   "source": []
  },
  {
   "cell_type": "markdown",
   "metadata": {
    "id": "fmZhT5BLLMbz"
   },
   "source": [
    "####Model : Logistic Regression ; Feature type : Bag of words;  Features : Description\n"
   ]
  },
  {
   "cell_type": "code",
   "execution_count": 80,
   "metadata": {
    "colab": {
     "base_uri": "https://localhost:8080/"
    },
    "executionInfo": {
     "elapsed": 28239,
     "status": "ok",
     "timestamp": 1646507015376,
     "user": {
      "displayName": "Suresh Kumar AP",
      "photoUrl": "https://lh3.googleusercontent.com/a/default-user=s64",
      "userId": "06815030131346327317"
     },
     "user_tz": -330
    },
    "id": "L8fy0f86LMb5",
    "outputId": "eccea212-87dc-42d7-ac98-d742ed955008"
   },
   "outputs": [
    {
     "name": "stdout",
     "output_type": "stream",
     "text": [
      "feature is Description\n",
      "Prod Shape (424,)\n",
      "Train shape 6032\n",
      "Val shape 2011\n",
      "Model trainded\n",
      "Model Prediction completed\n",
      "Accuracy score:  0.52\n",
      "precision_weighted: 0.78\n",
      "recall_weighted: 0.53\n",
      "f1_weighted: 0.56\n"
     ]
    }
   ],
   "source": [
    "feature_name = \"Description\"\n",
    "model1, history1, xp, yp = run_LR_model(feature_name)\n"
   ]
  },
  {
   "cell_type": "markdown",
   "metadata": {
    "id": "lZAR1s26WNX7"
   },
   "source": [
    "####Model : Logistic Regression ; Feature type : Bag of words;  Features : Short Description\n"
   ]
  },
  {
   "cell_type": "code",
   "execution_count": 67,
   "metadata": {
    "colab": {
     "base_uri": "https://localhost:8080/"
    },
    "executionInfo": {
     "elapsed": 6990,
     "status": "ok",
     "timestamp": 1646506191591,
     "user": {
      "displayName": "Suresh Kumar AP",
      "photoUrl": "https://lh3.googleusercontent.com/a/default-user=s64",
      "userId": "06815030131346327317"
     },
     "user_tz": -330
    },
    "id": "dU9mRiaAVzsn",
    "outputId": "c1db70a4-8575-4328-ad3e-bd493e52010f"
   },
   "outputs": [
    {
     "name": "stdout",
     "output_type": "stream",
     "text": [
      "feature is Short description\n",
      "Prod Shape (424,)\n",
      "Train shape 6032\n",
      "Val shape 2011\n",
      "Model trainded\n",
      "Model Prediction completed\n",
      "Accuracy score:  0.52\n",
      "precision_weighted: 0.83\n",
      "recall_weighted: 0.53\n",
      "f1_weighted: 0.56\n"
     ]
    }
   ],
   "source": [
    "feature_name = \"Short description\"\n",
    "model2, history2, xp, yp = run_LR_model(feature_name)\n"
   ]
  },
  {
   "cell_type": "markdown",
   "metadata": {
    "id": "dOWMXiXRDY_w"
   },
   "source": [
    "####Model : Logistic Regression ; Feature type : Bag of words;  Features :  Description & Short Description\n"
   ]
  },
  {
   "cell_type": "code",
   "execution_count": 68,
   "metadata": {
    "colab": {
     "base_uri": "https://localhost:8080/"
    },
    "executionInfo": {
     "elapsed": 17575,
     "status": "ok",
     "timestamp": 1646506221206,
     "user": {
      "displayName": "Suresh Kumar AP",
      "photoUrl": "https://lh3.googleusercontent.com/a/default-user=s64",
      "userId": "06815030131346327317"
     },
     "user_tz": -330
    },
    "id": "C-AgUpqINs7i",
    "outputId": "b57a3ed8-4b8a-4e78-b81c-317afc9fb32f"
   },
   "outputs": [
    {
     "name": "stdout",
     "output_type": "stream",
     "text": [
      "feature is Desc_All\n",
      "Prod Shape (424,)\n",
      "Train shape 6032\n",
      "Val shape 2011\n",
      "Model trainded\n",
      "Model Prediction completed\n",
      "Accuracy score:  0.55\n",
      "precision_weighted: 0.82\n",
      "recall_weighted: 0.57\n",
      "f1_weighted: 0.6\n"
     ]
    }
   ],
   "source": [
    "feature_name = \"Desc_All\"\n",
    "model3, history3, xp, yp = run_LR_model(feature_name)"
   ]
  },
  {
   "cell_type": "markdown",
   "metadata": {
    "id": "qhsbDOTfWZx2"
   },
   "source": [
    "####Model : Logistic Regression ; Feature type : Bag of words;  Features :  Description & Short Description & Caller\n"
   ]
  },
  {
   "cell_type": "code",
   "execution_count": 95,
   "metadata": {
    "colab": {
     "base_uri": "https://localhost:8080/"
    },
    "executionInfo": {
     "elapsed": 16902,
     "status": "ok",
     "timestamp": 1646508976641,
     "user": {
      "displayName": "Suresh Kumar AP",
      "photoUrl": "https://lh3.googleusercontent.com/a/default-user=s64",
      "userId": "06815030131346327317"
     },
     "user_tz": -330
    },
    "id": "4HATKQVCWZx2",
    "outputId": "4f377cbf-69c3-4344-c698-9025a0157a5e"
   },
   "outputs": [
    {
     "name": "stdout",
     "output_type": "stream",
     "text": [
      "Prod Shape (424,)\n",
      "Train shape 6350\n",
      "Val shape 2117\n",
      "Model trainded\n",
      "Model Prediction completed\n",
      "Accuracy score:  0.55\n",
      "precision_weighted: 0.81\n",
      "recall_weighted: 0.56\n",
      "f1_weighted: 0.6\n"
     ]
    }
   ],
   "source": [
    "feature_name = \"Desc_all_Caller\"\n",
    "X, corpus = preprocess_vocab(df_data[feature_name])\n",
    "y = df_data['Assignment group'].values\n",
    "# Split data into Train, and Test - Test data would be used for testing the model \n",
    "X_train, X_prod, y_train, y_prod = train_test_split(X, y, test_size=0.05, random_state=0, stratify=y)\n",
    "print('Prod Shape', X_prod.shape )\n",
    "X_train, X_val, y_train, y_val = train_test_split(X, y, random_state=0, stratify=y)\n",
    "print('Train shape', len(X_train))\n",
    "print('Val shape', len(X_val))\n",
    "model4, history4 = run_LR_model(X_train, X_val, y_train, y_val )"
   ]
  },
  {
   "cell_type": "markdown",
   "metadata": {
    "id": "ucHfcvkga9xF"
   },
   "source": [
    "Test model with best model metrics"
   ]
  },
  {
   "cell_type": "code",
   "execution_count": 135,
   "metadata": {
    "colab": {
     "base_uri": "https://localhost:8080/"
    },
    "executionInfo": {
     "elapsed": 556,
     "status": "ok",
     "timestamp": 1646511553474,
     "user": {
      "displayName": "Suresh Kumar AP",
      "photoUrl": "https://lh3.googleusercontent.com/a/default-user=s64",
      "userId": "06815030131346327317"
     },
     "user_tz": -330
    },
    "id": "6wrPjvQTRkJO",
    "outputId": "d75039df-b573-439e-db2a-7a1c0fb167e6"
   },
   "outputs": [
    {
     "name": "stdout",
     "output_type": "stream",
     "text": [
      "Model Prediction completed\n",
      "6053    scanning recording comes message path exist sc...\n",
      "4145    expense report error manager needs authorizati...\n",
      "4252    dell system slow mscrm slow dell system slow c...\n",
      "2624    unable inwarehouse tool received nuhfwplj ojcw...\n",
      "3426    erp pur wrong subcontracting demand nd materia...\n",
      "7629    customer service enters order acct get error s...\n",
      "6755    job job failed job scheduler received monitori...\n",
      "140     prtgghj k password reset please reset hr tool ...\n",
      "6550    cannot open pptx file attached email gives rep...\n",
      "127       update inplant update inplant rbozivdq gmlhrtvp\n",
      "Name: Desc_all_Caller, dtype: object\n",
      "['GRP_33' 'GRP_2' 'GRP_0' 'GRP_13' 'GRP_29' 'GRP_13' 'GRP_8' 'GRP_0'\n",
      " 'GRP_3' 'GRP_0']\n",
      "Input ticket dell system slow mscrm slow dell system slow connected user system using teamviewer cleared cache cookies temp files updated symantec user updated system bios restarted pc advised user try check user launched mscrm working fine issue resolved c jziwhldq qslwyozu\n",
      "Actual assignment group GRP_0\n",
      "[1 0 0 0 0 0 0 0 0 0 0 0 0 0 0 0 0 0 0 0 0 0 0 0 0 0 0 0 0 0 0 0 0 0 0 0 0\n",
      " 0 0 0 0 0 0 0 0 0 0 0 0 0]\n"
     ]
    }
   ],
   "source": [
    "vectorizer4 = CountVectorizer(binary=True)\n",
    "vectorizer4.fit(X_train)\n",
    "#print(X_prod)\n",
    "X_prod_bow = vectorizer4.transform(X_prod)\n",
    "#print(X_prod_bow)\n",
    "y_pred_bow = model4.predict(X_prod_bow)\n",
    "print(\"Model Prediction completed\")\n",
    "\n",
    "y = df_data['Assignment group'].values\n",
    "le = preprocessing.LabelEncoder()\n",
    "le.fit(y)\n",
    "y_prod_mdl_lbl_enc = le.transform(y_prod)\n",
    "y_prod_mdl_cat = to_categorical(y_prod_mdl_lbl_enc)\n",
    "\n",
    "actual = y_prod_mdl_cat\n",
    "predicted = y_pred_bow\n",
    "\n",
    "print(X_prod[:10])\n",
    "print(y_prod[:10])\n",
    "\n",
    "print(\"Input ticket\", X_prod.iloc[2])\n",
    "print(\"Actual assignment group\", y_prod[2])\n",
    "print(predicted[2])\n",
    "\n"
   ]
  },
  {
   "cell_type": "code",
   "execution_count": 124,
   "metadata": {
    "colab": {
     "base_uri": "https://localhost:8080/"
    },
    "executionInfo": {
     "elapsed": 306,
     "status": "ok",
     "timestamp": 1646510953339,
     "user": {
      "displayName": "Suresh Kumar AP",
      "photoUrl": "https://lh3.googleusercontent.com/a/default-user=s64",
      "userId": "06815030131346327317"
     },
     "user_tz": -330
    },
    "id": "SRl09c6JsqwN",
    "outputId": "2df652ff-d621-4bd2-cb5c-49e1ca6e5949"
   },
   "outputs": [
    {
     "data": {
      "text/plain": [
       "array(['GRP_0'], dtype=object)"
      ]
     },
     "execution_count": 124,
     "metadata": {},
     "output_type": "execute_result"
    }
   ],
   "source": [
    "le.inverse_transform([0])"
   ]
  },
  {
   "cell_type": "code",
   "execution_count": null,
   "metadata": {
    "id": "PbjmHjN5lk6t"
   },
   "outputs": [],
   "source": []
  }
 ],
 "metadata": {
  "colab": {
   "collapsed_sections": [],
   "name": "Capstone_NLP1_LR_Suresh.ipynb",
   "provenance": [
    {
     "file_id": "1_QLjjfqcdeXluTIhBAk9_J4hSDSpxlQO",
     "timestamp": 1645906613745
    },
    {
     "file_id": "1EaL_2MYS5UymbT7BQa2O70tmqN-ZespF",
     "timestamp": 1645887403516
    },
    {
     "file_id": "1uu6Rl3gUi68M2jqadqnpSb6ZIzUke6Pu",
     "timestamp": 1645851274173
    }
   ]
  },
  "kernelspec": {
   "display_name": "Python 3",
   "language": "python",
   "name": "python3"
  },
  "language_info": {
   "codemirror_mode": {
    "name": "ipython",
    "version": 3
   },
   "file_extension": ".py",
   "mimetype": "text/x-python",
   "name": "python",
   "nbconvert_exporter": "python",
   "pygments_lexer": "ipython3",
   "version": "3.8.5"
  }
 },
 "nbformat": 4,
 "nbformat_minor": 1
}
