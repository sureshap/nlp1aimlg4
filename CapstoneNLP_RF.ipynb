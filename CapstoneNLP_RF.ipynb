{
 "cells": [
  {
   "cell_type": "markdown",
   "metadata": {},
   "source": [
    "# Part 5 - Build Random Forest Model"
   ]
  },
  {
   "cell_type": "code",
   "execution_count": 2,
   "metadata": {
    "id": "oYnw58iMzeR-"
   },
   "outputs": [],
   "source": [
    "#import the libraries\n",
    "import pandas as pd\n",
    "import numpy as np\n",
    "from google.colab import drive\n",
    "\n",
    "import matplotlib.pyplot as plt"
   ]
  },
  {
   "cell_type": "code",
   "execution_count": 3,
   "metadata": {
    "colab": {
     "base_uri": "https://localhost:8080/"
    },
    "id": "gpuFuGUuzhvP",
    "outputId": "82f7f03e-6531-4294-e8a5-25cdf721e01f"
   },
   "outputs": [
    {
     "name": "stdout",
     "output_type": "stream",
     "text": [
      "Mounted at /content/drive\n"
     ]
    }
   ],
   "source": [
    "drive.mount('/content/drive')"
   ]
  },
  {
   "cell_type": "code",
   "execution_count": 4,
   "metadata": {
    "id": "PjvX_oC5ziUc"
   },
   "outputs": [],
   "source": [
    "project_path = \"/content/drive/MyDrive/AIML/Projects/Capstone/\""
   ]
  },
  {
   "cell_type": "code",
   "execution_count": 9,
   "metadata": {
    "id": "sFSypSU2z6ef"
   },
   "outputs": [],
   "source": [
    "df_data = pd.read_csv(project_path+'input_data_trans_preprocess.csv')"
   ]
  },
  {
   "cell_type": "code",
   "execution_count": 10,
   "metadata": {
    "colab": {
     "base_uri": "https://localhost:8080/",
     "height": 406
    },
    "id": "TmkOmJsLz8g8",
    "outputId": "1e794b8a-d20b-41fa-88a4-2fced58078cf"
   },
   "outputs": [
    {
     "data": {
      "text/html": [
       "\n",
       "  <div id=\"df-ae1dbff4-4e01-4cc7-8936-5e6eb0b4f93d\">\n",
       "    <div class=\"colab-df-container\">\n",
       "      <div>\n",
       "<style scoped>\n",
       "    .dataframe tbody tr th:only-of-type {\n",
       "        vertical-align: middle;\n",
       "    }\n",
       "\n",
       "    .dataframe tbody tr th {\n",
       "        vertical-align: top;\n",
       "    }\n",
       "\n",
       "    .dataframe thead th {\n",
       "        text-align: right;\n",
       "    }\n",
       "</style>\n",
       "<table border=\"1\" class=\"dataframe\">\n",
       "  <thead>\n",
       "    <tr style=\"text-align: right;\">\n",
       "      <th></th>\n",
       "      <th>Short description</th>\n",
       "      <th>Description</th>\n",
       "      <th>Caller</th>\n",
       "      <th>Assignment group</th>\n",
       "      <th>orig_desc</th>\n",
       "      <th>orig_short_desc</th>\n",
       "      <th>Lang</th>\n",
       "      <th>Translated_ShortDesc</th>\n",
       "      <th>Translated_Description</th>\n",
       "      <th>orig_assign_group</th>\n",
       "    </tr>\n",
       "  </thead>\n",
       "  <tbody>\n",
       "    <tr>\n",
       "      <th>0</th>\n",
       "      <td>login issue</td>\n",
       "      <td>verified user details employee manager name ch...</td>\n",
       "      <td>spxjnwir pjlcoqds</td>\n",
       "      <td>GRP_0</td>\n",
       "      <td>-verified user details.(employee# &amp; manager na...</td>\n",
       "      <td>login issue</td>\n",
       "      <td>en</td>\n",
       "      <td>login issue</td>\n",
       "      <td>-verified user details.(employee# &amp; manager na...</td>\n",
       "      <td>GRP_0</td>\n",
       "    </tr>\n",
       "    <tr>\n",
       "      <th>1</th>\n",
       "      <td>outlook</td>\n",
       "      <td>received from hmjdrvpb komuaywn gmail com hell...</td>\n",
       "      <td>hmjdrvpb komuaywn</td>\n",
       "      <td>GRP_0</td>\n",
       "      <td>_x000D_\\n_x000D_\\nreceived from: hmjdrvpb.komu...</td>\n",
       "      <td>outlook</td>\n",
       "      <td>en</td>\n",
       "      <td>outlook</td>\n",
       "      <td>received from: hmjdrvpb.komuaywn@gmail.com...</td>\n",
       "      <td>GRP_0</td>\n",
       "    </tr>\n",
       "    <tr>\n",
       "      <th>2</th>\n",
       "      <td>cant log in to vpn</td>\n",
       "      <td>received from eylqgodm ybqkwiam gmail com hi i...</td>\n",
       "      <td>eylqgodm ybqkwiam</td>\n",
       "      <td>GRP_0</td>\n",
       "      <td>_x000D_\\n_x000D_\\nreceived from: eylqgodm.ybqk...</td>\n",
       "      <td>cant log in to vpn</td>\n",
       "      <td>en</td>\n",
       "      <td>cant log in to vpn</td>\n",
       "      <td>received from: eylqgodm.ybqkwiam@gmail.com...</td>\n",
       "      <td>GRP_0</td>\n",
       "    </tr>\n",
       "    <tr>\n",
       "      <th>3</th>\n",
       "      <td>unable to access hr tool page</td>\n",
       "      <td>unable to access hr tool page</td>\n",
       "      <td>xbkucsvz gcpydteq</td>\n",
       "      <td>GRP_0</td>\n",
       "      <td>unable to access hr_tool page</td>\n",
       "      <td>unable to access hr_tool page</td>\n",
       "      <td>en</td>\n",
       "      <td>unable to access hr_tool page</td>\n",
       "      <td>unable to access hr_tool page</td>\n",
       "      <td>GRP_0</td>\n",
       "    </tr>\n",
       "    <tr>\n",
       "      <th>4</th>\n",
       "      <td>skype error</td>\n",
       "      <td>skype error</td>\n",
       "      <td>owlgqjme qhcozdfx</td>\n",
       "      <td>GRP_0</td>\n",
       "      <td>skype error</td>\n",
       "      <td>skype error</td>\n",
       "      <td>no</td>\n",
       "      <td>skype error</td>\n",
       "      <td>skype error</td>\n",
       "      <td>GRP_0</td>\n",
       "    </tr>\n",
       "  </tbody>\n",
       "</table>\n",
       "</div>\n",
       "      <button class=\"colab-df-convert\" onclick=\"convertToInteractive('df-ae1dbff4-4e01-4cc7-8936-5e6eb0b4f93d')\"\n",
       "              title=\"Convert this dataframe to an interactive table.\"\n",
       "              style=\"display:none;\">\n",
       "        \n",
       "  <svg xmlns=\"http://www.w3.org/2000/svg\" height=\"24px\"viewBox=\"0 0 24 24\"\n",
       "       width=\"24px\">\n",
       "    <path d=\"M0 0h24v24H0V0z\" fill=\"none\"/>\n",
       "    <path d=\"M18.56 5.44l.94 2.06.94-2.06 2.06-.94-2.06-.94-.94-2.06-.94 2.06-2.06.94zm-11 1L8.5 8.5l.94-2.06 2.06-.94-2.06-.94L8.5 2.5l-.94 2.06-2.06.94zm10 10l.94 2.06.94-2.06 2.06-.94-2.06-.94-.94-2.06-.94 2.06-2.06.94z\"/><path d=\"M17.41 7.96l-1.37-1.37c-.4-.4-.92-.59-1.43-.59-.52 0-1.04.2-1.43.59L10.3 9.45l-7.72 7.72c-.78.78-.78 2.05 0 2.83L4 21.41c.39.39.9.59 1.41.59.51 0 1.02-.2 1.41-.59l7.78-7.78 2.81-2.81c.8-.78.8-2.07 0-2.86zM5.41 20L4 18.59l7.72-7.72 1.47 1.35L5.41 20z\"/>\n",
       "  </svg>\n",
       "      </button>\n",
       "      \n",
       "  <style>\n",
       "    .colab-df-container {\n",
       "      display:flex;\n",
       "      flex-wrap:wrap;\n",
       "      gap: 12px;\n",
       "    }\n",
       "\n",
       "    .colab-df-convert {\n",
       "      background-color: #E8F0FE;\n",
       "      border: none;\n",
       "      border-radius: 50%;\n",
       "      cursor: pointer;\n",
       "      display: none;\n",
       "      fill: #1967D2;\n",
       "      height: 32px;\n",
       "      padding: 0 0 0 0;\n",
       "      width: 32px;\n",
       "    }\n",
       "\n",
       "    .colab-df-convert:hover {\n",
       "      background-color: #E2EBFA;\n",
       "      box-shadow: 0px 1px 2px rgba(60, 64, 67, 0.3), 0px 1px 3px 1px rgba(60, 64, 67, 0.15);\n",
       "      fill: #174EA6;\n",
       "    }\n",
       "\n",
       "    [theme=dark] .colab-df-convert {\n",
       "      background-color: #3B4455;\n",
       "      fill: #D2E3FC;\n",
       "    }\n",
       "\n",
       "    [theme=dark] .colab-df-convert:hover {\n",
       "      background-color: #434B5C;\n",
       "      box-shadow: 0px 1px 3px 1px rgba(0, 0, 0, 0.15);\n",
       "      filter: drop-shadow(0px 1px 2px rgba(0, 0, 0, 0.3));\n",
       "      fill: #FFFFFF;\n",
       "    }\n",
       "  </style>\n",
       "\n",
       "      <script>\n",
       "        const buttonEl =\n",
       "          document.querySelector('#df-ae1dbff4-4e01-4cc7-8936-5e6eb0b4f93d button.colab-df-convert');\n",
       "        buttonEl.style.display =\n",
       "          google.colab.kernel.accessAllowed ? 'block' : 'none';\n",
       "\n",
       "        async function convertToInteractive(key) {\n",
       "          const element = document.querySelector('#df-ae1dbff4-4e01-4cc7-8936-5e6eb0b4f93d');\n",
       "          const dataTable =\n",
       "            await google.colab.kernel.invokeFunction('convertToInteractive',\n",
       "                                                     [key], {});\n",
       "          if (!dataTable) return;\n",
       "\n",
       "          const docLinkHtml = 'Like what you see? Visit the ' +\n",
       "            '<a target=\"_blank\" href=https://colab.research.google.com/notebooks/data_table.ipynb>data table notebook</a>'\n",
       "            + ' to learn more about interactive tables.';\n",
       "          element.innerHTML = '';\n",
       "          dataTable['output_type'] = 'display_data';\n",
       "          await google.colab.output.renderOutput(dataTable, element);\n",
       "          const docLink = document.createElement('div');\n",
       "          docLink.innerHTML = docLinkHtml;\n",
       "          element.appendChild(docLink);\n",
       "        }\n",
       "      </script>\n",
       "    </div>\n",
       "  </div>\n",
       "  "
      ],
      "text/plain": [
       "               Short description  \\\n",
       "0                    login issue   \n",
       "1                        outlook   \n",
       "2             cant log in to vpn   \n",
       "3  unable to access hr tool page   \n",
       "4                    skype error   \n",
       "\n",
       "                                         Description             Caller  \\\n",
       "0  verified user details employee manager name ch...  spxjnwir pjlcoqds   \n",
       "1  received from hmjdrvpb komuaywn gmail com hell...  hmjdrvpb komuaywn   \n",
       "2  received from eylqgodm ybqkwiam gmail com hi i...  eylqgodm ybqkwiam   \n",
       "3                      unable to access hr tool page  xbkucsvz gcpydteq   \n",
       "4                                        skype error  owlgqjme qhcozdfx   \n",
       "\n",
       "  Assignment group                                          orig_desc  \\\n",
       "0            GRP_0  -verified user details.(employee# & manager na...   \n",
       "1            GRP_0  _x000D_\\n_x000D_\\nreceived from: hmjdrvpb.komu...   \n",
       "2            GRP_0  _x000D_\\n_x000D_\\nreceived from: eylqgodm.ybqk...   \n",
       "3            GRP_0                      unable to access hr_tool page   \n",
       "4            GRP_0                                       skype error    \n",
       "\n",
       "                 orig_short_desc Lang           Translated_ShortDesc  \\\n",
       "0                    login issue   en                    login issue   \n",
       "1                        outlook   en                        outlook   \n",
       "2             cant log in to vpn   en             cant log in to vpn   \n",
       "3  unable to access hr_tool page   en  unable to access hr_tool page   \n",
       "4                   skype error    no                    skype error   \n",
       "\n",
       "                              Translated_Description orig_assign_group  \n",
       "0  -verified user details.(employee# & manager na...             GRP_0  \n",
       "1      received from: hmjdrvpb.komuaywn@gmail.com...             GRP_0  \n",
       "2      received from: eylqgodm.ybqkwiam@gmail.com...             GRP_0  \n",
       "3                      unable to access hr_tool page             GRP_0  \n",
       "4                                        skype error             GRP_0  "
      ]
     },
     "execution_count": 10,
     "metadata": {},
     "output_type": "execute_result"
    }
   ],
   "source": [
    "df_data.head()"
   ]
  },
  {
   "cell_type": "code",
   "execution_count": 11,
   "metadata": {
    "colab": {
     "base_uri": "https://localhost:8080/"
    },
    "id": "WG838aVuz-yO",
    "outputId": "95fef2e1-ec35-4b8f-a329-dda7993dacaf"
   },
   "outputs": [
    {
     "data": {
      "text/plain": [
       "(8467, 10)"
      ]
     },
     "execution_count": 11,
     "metadata": {},
     "output_type": "execute_result"
    }
   ],
   "source": [
    "df_data.shape"
   ]
  },
  {
   "cell_type": "code",
   "execution_count": 12,
   "metadata": {
    "colab": {
     "base_uri": "https://localhost:8080/"
    },
    "id": "daBpjgco0CI8",
    "outputId": "7ce8523e-c4d5-4691-bafa-3e48e89fe1dc"
   },
   "outputs": [
    {
     "name": "stdout",
     "output_type": "stream",
     "text": [
      "[nltk_data] Downloading package stopwords to /root/nltk_data...\n",
      "[nltk_data]   Unzipping corpora/stopwords.zip.\n"
     ]
    },
    {
     "data": {
      "text/plain": [
       "True"
      ]
     },
     "execution_count": 12,
     "metadata": {},
     "output_type": "execute_result"
    }
   ],
   "source": [
    "import nltk\n",
    "from nltk.corpus import stopwords\n",
    "nltk.download(\"stopwords\")\n"
   ]
  },
  {
   "cell_type": "code",
   "execution_count": 14,
   "metadata": {
    "id": "5SqYHrjR0Q2g"
   },
   "outputs": [],
   "source": [
    "stop_words=set(stopwords.words('english'))"
   ]
  },
  {
   "cell_type": "code",
   "execution_count": 15,
   "metadata": {
    "id": "VfsHpeGU0IAa"
   },
   "outputs": [],
   "source": [
    "df_data['txt_wo_stopwords'] = df_data['Translated_Description'].apply(lambda words: ' '.join(word.lower() for word in words.split() if word not in stop_words))"
   ]
  },
  {
   "cell_type": "code",
   "execution_count": 16,
   "metadata": {
    "id": "49LlUZLR0LvD"
   },
   "outputs": [],
   "source": [
    "X = df_data.txt_wo_stopwords\n"
   ]
  },
  {
   "cell_type": "code",
   "execution_count": 17,
   "metadata": {
    "id": "9UwQxorA0Ukk"
   },
   "outputs": [],
   "source": [
    "y=df_data['Assignment group']\n",
    "from sklearn import preprocessing\n",
    "le = preprocessing.LabelEncoder()\n",
    "y=le.fit(df_data['Assignment group'])\n",
    "y=le.transform(df_data['Assignment group'])\n",
    "y=le.transform(df_data['Assignment group'])"
   ]
  },
  {
   "cell_type": "code",
   "execution_count": 18,
   "metadata": {
    "id": "uMfbANV60Ycb"
   },
   "outputs": [],
   "source": [
    "from sklearn.model_selection import train_test_split\n",
    "# split X and y into training and testing sets\n",
    "X_train, X_test, y_train, y_test = train_test_split(X, y, random_state=42, stratify=y)"
   ]
  },
  {
   "cell_type": "code",
   "execution_count": 19,
   "metadata": {
    "colab": {
     "base_uri": "https://localhost:8080/"
    },
    "id": "qpvAghab0Z52",
    "outputId": "c8cc24a7-32c7-43b6-c90b-9def65898a80"
   },
   "outputs": [
    {
     "name": "stdout",
     "output_type": "stream",
     "text": [
      "X_train : (6350,)\n",
      "X_test : (2117,)\n",
      "y_train : (6350,)\n",
      "y_test : (2117,)\n"
     ]
    }
   ],
   "source": [
    "print('X_train : '+str(X_train.shape))\n",
    "print('X_test : '+str(X_test.shape))\n",
    "print('y_train : '+str(y_train.shape))\n",
    "print('y_test : '+str(y_test.shape))"
   ]
  },
  {
   "cell_type": "code",
   "execution_count": 20,
   "metadata": {
    "id": "_sS-d4WF0b0o"
   },
   "outputs": [],
   "source": [
    "# import and instantiate TF-IDF Vectorizer (with the default parameters)\n",
    "from sklearn.feature_extraction.text import TfidfVectorizer\n",
    "tvect = TfidfVectorizer()"
   ]
  },
  {
   "cell_type": "code",
   "execution_count": 21,
   "metadata": {
    "colab": {
     "base_uri": "https://localhost:8080/"
    },
    "id": "hfgzk4wm0d5p",
    "outputId": "f5da3b0c-fbb1-4e47-9fea-01355bf53ebe"
   },
   "outputs": [
    {
     "data": {
      "text/plain": [
       "TfidfVectorizer()"
      ]
     },
     "execution_count": 21,
     "metadata": {},
     "output_type": "execute_result"
    }
   ],
   "source": [
    "tvect.fit(X_train)"
   ]
  },
  {
   "cell_type": "code",
   "execution_count": 22,
   "metadata": {
    "colab": {
     "base_uri": "https://localhost:8080/"
    },
    "id": "yYuqc_kh0fQ3",
    "outputId": "c1f552a3-97a7-446d-9e89-f3e4cde723df"
   },
   "outputs": [
    {
     "data": {
      "text/plain": [
       "16873"
      ]
     },
     "execution_count": 22,
     "metadata": {},
     "output_type": "execute_result"
    }
   ],
   "source": [
    "len(tvect.vocabulary_)"
   ]
  },
  {
   "cell_type": "code",
   "execution_count": 23,
   "metadata": {
    "colab": {
     "base_uri": "https://localhost:8080/"
    },
    "id": "1js2p4dx0ght",
    "outputId": "5ae7b02e-259b-4310-bda0-182cc1102379"
   },
   "outputs": [
    {
     "data": {
      "text/plain": [
       "(6350, 16873)"
      ]
     },
     "execution_count": 23,
     "metadata": {},
     "output_type": "execute_result"
    }
   ],
   "source": [
    "X_train_tfidf = tvect.transform(X_train)\n",
    "X_train_tfidf.shape\n"
   ]
  },
  {
   "cell_type": "code",
   "execution_count": 24,
   "metadata": {
    "id": "lPCTQ1tR0h01"
   },
   "outputs": [],
   "source": [
    "X_test_tfidf = tvect.transform(X_test)"
   ]
  },
  {
   "cell_type": "code",
   "execution_count": 26,
   "metadata": {
    "id": "phUOVUH10sj3"
   },
   "outputs": [],
   "source": [
    "from sklearn.multiclass import OneVsRestClassifier\n",
    "from sklearn.ensemble import RandomForestClassifier"
   ]
  },
  {
   "cell_type": "code",
   "execution_count": 27,
   "metadata": {
    "id": "PWFyhLqz0xI1"
   },
   "outputs": [],
   "source": [
    "clf = RandomForestClassifier()\n",
    "clf = OneVsRestClassifier(clf)"
   ]
  },
  {
   "cell_type": "code",
   "execution_count": 28,
   "metadata": {
    "colab": {
     "base_uri": "https://localhost:8080/"
    },
    "id": "aOu2S9q-03oF",
    "outputId": "cb25ef08-ac3f-4440-f405-e4bfe8add234"
   },
   "outputs": [
    {
     "data": {
      "text/plain": [
       "OneVsRestClassifier(estimator=RandomForestClassifier())"
      ]
     },
     "execution_count": 28,
     "metadata": {},
     "output_type": "execute_result"
    }
   ],
   "source": [
    "clf.fit(X_train_tfidf, y_train)"
   ]
  },
  {
   "cell_type": "code",
   "execution_count": 29,
   "metadata": {
    "id": "Nc7X4MAS052i"
   },
   "outputs": [],
   "source": [
    "y_pred_tfidf = clf.predict(X_test_tfidf)"
   ]
  },
  {
   "cell_type": "code",
   "execution_count": 30,
   "metadata": {
    "colab": {
     "base_uri": "https://localhost:8080/"
    },
    "id": "p3kmYQkW072Z",
    "outputId": "c8798f0f-f2f1-4736-99a5-86f5337d46c3"
   },
   "outputs": [
    {
     "name": "stdout",
     "output_type": "stream",
     "text": [
      "              precision    recall  f1-score   support\n",
      "\n",
      "           0       0.65      0.97      0.78       994\n",
      "           1       1.00      0.00      0.00         8\n",
      "           2       0.88      0.40      0.55        35\n",
      "           3       1.00      0.00      0.00         8\n",
      "           4       0.61      0.42      0.50        64\n",
      "           5       0.73      0.31      0.43        36\n",
      "           6       0.71      0.33      0.45        30\n",
      "           7       1.00      0.10      0.18        10\n",
      "           8       0.00      0.00      0.00        21\n",
      "           9       0.21      0.70      0.32        20\n",
      "          10       0.64      0.32      0.42        22\n",
      "          11       0.71      0.09      0.16        54\n",
      "          12       0.64      0.27      0.38        60\n",
      "          13       1.00      0.00      0.00         9\n",
      "          14       1.00      0.14      0.25         7\n",
      "          15       1.00      0.12      0.22         8\n",
      "          16       1.00      0.00      0.00         6\n",
      "          17       0.89      0.88      0.88        72\n",
      "          18       0.33      0.03      0.06        29\n",
      "          19       1.00      0.00      0.00        14\n",
      "          20       1.00      0.00      0.00         4\n",
      "          21       1.00      0.00      0.00        11\n",
      "          22       0.71      0.21      0.32        24\n",
      "          23       0.23      0.06      0.10        50\n",
      "          24       0.00      0.00      0.00         6\n",
      "          25       0.36      0.24      0.29        17\n",
      "          26       1.00      0.15      0.26        27\n",
      "          27       0.33      0.12      0.18        16\n",
      "          28       1.00      0.25      0.40         4\n",
      "          29       1.00      0.00      0.00         4\n",
      "          30       0.50      0.20      0.29         5\n",
      "          31       1.00      0.16      0.28        25\n",
      "          32       1.00      0.00      0.00        11\n",
      "          33       1.00      0.10      0.18        10\n",
      "          34       1.00      0.00      0.00         9\n",
      "          35       1.00      0.00      0.00         4\n",
      "          36       1.00      0.11      0.20         9\n",
      "          37       0.50      0.14      0.22         7\n",
      "          38       1.00      0.00      0.00         2\n",
      "          39       0.56      0.16      0.24        32\n",
      "          40       1.00      0.00      0.00         3\n",
      "          41       1.00      0.00      0.00         3\n",
      "          42       0.40      0.13      0.20        46\n",
      "          43       1.00      0.20      0.33         5\n",
      "          44       1.00      0.00      0.00         6\n",
      "          45       1.00      0.00      0.00         3\n",
      "          46       0.67      0.12      0.20        17\n",
      "          47       0.58      0.88      0.70       165\n",
      "          48       0.81      0.41      0.55        63\n",
      "          49       0.50      0.09      0.15        22\n",
      "\n",
      "    accuracy                           0.64      2117\n",
      "   macro avg       0.76      0.18      0.21      2117\n",
      "weighted avg       0.66      0.64      0.56      2117\n",
      "\n"
     ]
    }
   ],
   "source": [
    "from sklearn.metrics import classification_report\n",
    "print(classification_report(y_test, y_pred_tfidf,zero_division=1))\n"
   ]
  },
  {
   "cell_type": "markdown",
   "metadata": {
    "id": "76t45ABz1SfZ"
   },
   "source": [
    "## Classification Based On Short Description"
   ]
  },
  {
   "cell_type": "code",
   "execution_count": 31,
   "metadata": {
    "id": "n29QI8Gy09Gv"
   },
   "outputs": [],
   "source": [
    "df_data = pd.read_csv(project_path+'input_data_trans_preprocess.csv')"
   ]
  },
  {
   "cell_type": "code",
   "execution_count": 32,
   "metadata": {
    "colab": {
     "base_uri": "https://localhost:8080/",
     "height": 406
    },
    "id": "SPy2GZGY1Rxk",
    "outputId": "13115794-ca31-4b6d-91f3-455f483e2602"
   },
   "outputs": [
    {
     "data": {
      "text/html": [
       "\n",
       "  <div id=\"df-c8cfc228-14b7-4565-8e14-d1730d5d12a3\">\n",
       "    <div class=\"colab-df-container\">\n",
       "      <div>\n",
       "<style scoped>\n",
       "    .dataframe tbody tr th:only-of-type {\n",
       "        vertical-align: middle;\n",
       "    }\n",
       "\n",
       "    .dataframe tbody tr th {\n",
       "        vertical-align: top;\n",
       "    }\n",
       "\n",
       "    .dataframe thead th {\n",
       "        text-align: right;\n",
       "    }\n",
       "</style>\n",
       "<table border=\"1\" class=\"dataframe\">\n",
       "  <thead>\n",
       "    <tr style=\"text-align: right;\">\n",
       "      <th></th>\n",
       "      <th>Short description</th>\n",
       "      <th>Description</th>\n",
       "      <th>Caller</th>\n",
       "      <th>Assignment group</th>\n",
       "      <th>orig_desc</th>\n",
       "      <th>orig_short_desc</th>\n",
       "      <th>Lang</th>\n",
       "      <th>Translated_ShortDesc</th>\n",
       "      <th>Translated_Description</th>\n",
       "      <th>orig_assign_group</th>\n",
       "    </tr>\n",
       "  </thead>\n",
       "  <tbody>\n",
       "    <tr>\n",
       "      <th>0</th>\n",
       "      <td>login issue</td>\n",
       "      <td>verified user details employee manager name ch...</td>\n",
       "      <td>spxjnwir pjlcoqds</td>\n",
       "      <td>GRP_0</td>\n",
       "      <td>-verified user details.(employee# &amp; manager na...</td>\n",
       "      <td>login issue</td>\n",
       "      <td>en</td>\n",
       "      <td>login issue</td>\n",
       "      <td>-verified user details.(employee# &amp; manager na...</td>\n",
       "      <td>GRP_0</td>\n",
       "    </tr>\n",
       "    <tr>\n",
       "      <th>1</th>\n",
       "      <td>outlook</td>\n",
       "      <td>received from hmjdrvpb komuaywn gmail com hell...</td>\n",
       "      <td>hmjdrvpb komuaywn</td>\n",
       "      <td>GRP_0</td>\n",
       "      <td>_x000D_\\n_x000D_\\nreceived from: hmjdrvpb.komu...</td>\n",
       "      <td>outlook</td>\n",
       "      <td>en</td>\n",
       "      <td>outlook</td>\n",
       "      <td>received from: hmjdrvpb.komuaywn@gmail.com...</td>\n",
       "      <td>GRP_0</td>\n",
       "    </tr>\n",
       "    <tr>\n",
       "      <th>2</th>\n",
       "      <td>cant log in to vpn</td>\n",
       "      <td>received from eylqgodm ybqkwiam gmail com hi i...</td>\n",
       "      <td>eylqgodm ybqkwiam</td>\n",
       "      <td>GRP_0</td>\n",
       "      <td>_x000D_\\n_x000D_\\nreceived from: eylqgodm.ybqk...</td>\n",
       "      <td>cant log in to vpn</td>\n",
       "      <td>en</td>\n",
       "      <td>cant log in to vpn</td>\n",
       "      <td>received from: eylqgodm.ybqkwiam@gmail.com...</td>\n",
       "      <td>GRP_0</td>\n",
       "    </tr>\n",
       "    <tr>\n",
       "      <th>3</th>\n",
       "      <td>unable to access hr tool page</td>\n",
       "      <td>unable to access hr tool page</td>\n",
       "      <td>xbkucsvz gcpydteq</td>\n",
       "      <td>GRP_0</td>\n",
       "      <td>unable to access hr_tool page</td>\n",
       "      <td>unable to access hr_tool page</td>\n",
       "      <td>en</td>\n",
       "      <td>unable to access hr_tool page</td>\n",
       "      <td>unable to access hr_tool page</td>\n",
       "      <td>GRP_0</td>\n",
       "    </tr>\n",
       "    <tr>\n",
       "      <th>4</th>\n",
       "      <td>skype error</td>\n",
       "      <td>skype error</td>\n",
       "      <td>owlgqjme qhcozdfx</td>\n",
       "      <td>GRP_0</td>\n",
       "      <td>skype error</td>\n",
       "      <td>skype error</td>\n",
       "      <td>no</td>\n",
       "      <td>skype error</td>\n",
       "      <td>skype error</td>\n",
       "      <td>GRP_0</td>\n",
       "    </tr>\n",
       "  </tbody>\n",
       "</table>\n",
       "</div>\n",
       "      <button class=\"colab-df-convert\" onclick=\"convertToInteractive('df-c8cfc228-14b7-4565-8e14-d1730d5d12a3')\"\n",
       "              title=\"Convert this dataframe to an interactive table.\"\n",
       "              style=\"display:none;\">\n",
       "        \n",
       "  <svg xmlns=\"http://www.w3.org/2000/svg\" height=\"24px\"viewBox=\"0 0 24 24\"\n",
       "       width=\"24px\">\n",
       "    <path d=\"M0 0h24v24H0V0z\" fill=\"none\"/>\n",
       "    <path d=\"M18.56 5.44l.94 2.06.94-2.06 2.06-.94-2.06-.94-.94-2.06-.94 2.06-2.06.94zm-11 1L8.5 8.5l.94-2.06 2.06-.94-2.06-.94L8.5 2.5l-.94 2.06-2.06.94zm10 10l.94 2.06.94-2.06 2.06-.94-2.06-.94-.94-2.06-.94 2.06-2.06.94z\"/><path d=\"M17.41 7.96l-1.37-1.37c-.4-.4-.92-.59-1.43-.59-.52 0-1.04.2-1.43.59L10.3 9.45l-7.72 7.72c-.78.78-.78 2.05 0 2.83L4 21.41c.39.39.9.59 1.41.59.51 0 1.02-.2 1.41-.59l7.78-7.78 2.81-2.81c.8-.78.8-2.07 0-2.86zM5.41 20L4 18.59l7.72-7.72 1.47 1.35L5.41 20z\"/>\n",
       "  </svg>\n",
       "      </button>\n",
       "      \n",
       "  <style>\n",
       "    .colab-df-container {\n",
       "      display:flex;\n",
       "      flex-wrap:wrap;\n",
       "      gap: 12px;\n",
       "    }\n",
       "\n",
       "    .colab-df-convert {\n",
       "      background-color: #E8F0FE;\n",
       "      border: none;\n",
       "      border-radius: 50%;\n",
       "      cursor: pointer;\n",
       "      display: none;\n",
       "      fill: #1967D2;\n",
       "      height: 32px;\n",
       "      padding: 0 0 0 0;\n",
       "      width: 32px;\n",
       "    }\n",
       "\n",
       "    .colab-df-convert:hover {\n",
       "      background-color: #E2EBFA;\n",
       "      box-shadow: 0px 1px 2px rgba(60, 64, 67, 0.3), 0px 1px 3px 1px rgba(60, 64, 67, 0.15);\n",
       "      fill: #174EA6;\n",
       "    }\n",
       "\n",
       "    [theme=dark] .colab-df-convert {\n",
       "      background-color: #3B4455;\n",
       "      fill: #D2E3FC;\n",
       "    }\n",
       "\n",
       "    [theme=dark] .colab-df-convert:hover {\n",
       "      background-color: #434B5C;\n",
       "      box-shadow: 0px 1px 3px 1px rgba(0, 0, 0, 0.15);\n",
       "      filter: drop-shadow(0px 1px 2px rgba(0, 0, 0, 0.3));\n",
       "      fill: #FFFFFF;\n",
       "    }\n",
       "  </style>\n",
       "\n",
       "      <script>\n",
       "        const buttonEl =\n",
       "          document.querySelector('#df-c8cfc228-14b7-4565-8e14-d1730d5d12a3 button.colab-df-convert');\n",
       "        buttonEl.style.display =\n",
       "          google.colab.kernel.accessAllowed ? 'block' : 'none';\n",
       "\n",
       "        async function convertToInteractive(key) {\n",
       "          const element = document.querySelector('#df-c8cfc228-14b7-4565-8e14-d1730d5d12a3');\n",
       "          const dataTable =\n",
       "            await google.colab.kernel.invokeFunction('convertToInteractive',\n",
       "                                                     [key], {});\n",
       "          if (!dataTable) return;\n",
       "\n",
       "          const docLinkHtml = 'Like what you see? Visit the ' +\n",
       "            '<a target=\"_blank\" href=https://colab.research.google.com/notebooks/data_table.ipynb>data table notebook</a>'\n",
       "            + ' to learn more about interactive tables.';\n",
       "          element.innerHTML = '';\n",
       "          dataTable['output_type'] = 'display_data';\n",
       "          await google.colab.output.renderOutput(dataTable, element);\n",
       "          const docLink = document.createElement('div');\n",
       "          docLink.innerHTML = docLinkHtml;\n",
       "          element.appendChild(docLink);\n",
       "        }\n",
       "      </script>\n",
       "    </div>\n",
       "  </div>\n",
       "  "
      ],
      "text/plain": [
       "               Short description  \\\n",
       "0                    login issue   \n",
       "1                        outlook   \n",
       "2             cant log in to vpn   \n",
       "3  unable to access hr tool page   \n",
       "4                    skype error   \n",
       "\n",
       "                                         Description             Caller  \\\n",
       "0  verified user details employee manager name ch...  spxjnwir pjlcoqds   \n",
       "1  received from hmjdrvpb komuaywn gmail com hell...  hmjdrvpb komuaywn   \n",
       "2  received from eylqgodm ybqkwiam gmail com hi i...  eylqgodm ybqkwiam   \n",
       "3                      unable to access hr tool page  xbkucsvz gcpydteq   \n",
       "4                                        skype error  owlgqjme qhcozdfx   \n",
       "\n",
       "  Assignment group                                          orig_desc  \\\n",
       "0            GRP_0  -verified user details.(employee# & manager na...   \n",
       "1            GRP_0  _x000D_\\n_x000D_\\nreceived from: hmjdrvpb.komu...   \n",
       "2            GRP_0  _x000D_\\n_x000D_\\nreceived from: eylqgodm.ybqk...   \n",
       "3            GRP_0                      unable to access hr_tool page   \n",
       "4            GRP_0                                       skype error    \n",
       "\n",
       "                 orig_short_desc Lang           Translated_ShortDesc  \\\n",
       "0                    login issue   en                    login issue   \n",
       "1                        outlook   en                        outlook   \n",
       "2             cant log in to vpn   en             cant log in to vpn   \n",
       "3  unable to access hr_tool page   en  unable to access hr_tool page   \n",
       "4                   skype error    no                    skype error   \n",
       "\n",
       "                              Translated_Description orig_assign_group  \n",
       "0  -verified user details.(employee# & manager na...             GRP_0  \n",
       "1      received from: hmjdrvpb.komuaywn@gmail.com...             GRP_0  \n",
       "2      received from: eylqgodm.ybqkwiam@gmail.com...             GRP_0  \n",
       "3                      unable to access hr_tool page             GRP_0  \n",
       "4                                        skype error             GRP_0  "
      ]
     },
     "execution_count": 32,
     "metadata": {},
     "output_type": "execute_result"
    }
   ],
   "source": [
    "df_data.head()"
   ]
  },
  {
   "cell_type": "code",
   "execution_count": 33,
   "metadata": {
    "colab": {
     "base_uri": "https://localhost:8080/"
    },
    "id": "wcu7Ziaq1X-j",
    "outputId": "a411f5cb-77e3-4dca-970e-9d86b8153d72"
   },
   "outputs": [
    {
     "data": {
      "text/plain": [
       "(8467, 10)"
      ]
     },
     "execution_count": 33,
     "metadata": {},
     "output_type": "execute_result"
    }
   ],
   "source": [
    "df_data.shape"
   ]
  },
  {
   "cell_type": "code",
   "execution_count": 34,
   "metadata": {
    "colab": {
     "base_uri": "https://localhost:8080/"
    },
    "id": "KS0ngwQh1ZDu",
    "outputId": "09e93f9d-ee55-4aba-ee4f-d84de6a74d9f"
   },
   "outputs": [
    {
     "name": "stdout",
     "output_type": "stream",
     "text": [
      "[nltk_data] Downloading package stopwords to /root/nltk_data...\n",
      "[nltk_data]   Package stopwords is already up-to-date!\n"
     ]
    },
    {
     "data": {
      "text/plain": [
       "True"
      ]
     },
     "execution_count": 34,
     "metadata": {},
     "output_type": "execute_result"
    }
   ],
   "source": [
    "import nltk\n",
    "from nltk.corpus import stopwords\n",
    "nltk.download(\"stopwords\")"
   ]
  },
  {
   "cell_type": "code",
   "execution_count": 38,
   "metadata": {
    "id": "t-tZsRy71aHQ"
   },
   "outputs": [],
   "source": [
    "stop_words=set(stopwords.words('english'))\n",
    "df_data['txt_wo_stopwords'] = df_data['Translated_ShortDesc'].astype('str').apply(lambda words: ' '.join(word.lower() for word in words.split() if word not in stop_words))"
   ]
  },
  {
   "cell_type": "code",
   "execution_count": 39,
   "metadata": {
    "id": "pexaIxtB1dCB"
   },
   "outputs": [],
   "source": [
    "X = df_data.txt_wo_stopwords\n"
   ]
  },
  {
   "cell_type": "code",
   "execution_count": 40,
   "metadata": {
    "id": "ZAIZFL5K1eb-"
   },
   "outputs": [],
   "source": [
    "y=df_data['Assignment group']\n",
    "from sklearn import preprocessing\n",
    "le = preprocessing.LabelEncoder()\n",
    "y=le.fit(df_data['Assignment group'])\n",
    "y=le.transform(df_data['Assignment group'])\n",
    "y=le.transform(df_data['Assignment group'])"
   ]
  },
  {
   "cell_type": "code",
   "execution_count": 41,
   "metadata": {
    "id": "lrvK7m5o1nc3"
   },
   "outputs": [],
   "source": [
    "from sklearn.model_selection import train_test_split\n",
    "# split X and y into training and testing sets\n",
    "X_train, X_test, y_train, y_test = train_test_split(X, y, random_state=42, stratify=y)"
   ]
  },
  {
   "cell_type": "code",
   "execution_count": 42,
   "metadata": {
    "colab": {
     "base_uri": "https://localhost:8080/"
    },
    "id": "uUjxp_Zn1q2G",
    "outputId": "6764a9fc-42cf-4cee-8e75-5a8a385bfebb"
   },
   "outputs": [
    {
     "name": "stdout",
     "output_type": "stream",
     "text": [
      "X_train : (6350,)\n",
      "X_test : (2117,)\n",
      "y_train : (6350,)\n",
      "y_test : (2117,)\n"
     ]
    }
   ],
   "source": [
    "print('X_train : '+str(X_train.shape))\n",
    "print('X_test : '+str(X_test.shape))\n",
    "print('y_train : '+str(y_train.shape))\n",
    "print('y_test : '+str(y_test.shape))"
   ]
  },
  {
   "cell_type": "code",
   "execution_count": 43,
   "metadata": {
    "id": "n5d7R4D71sNh"
   },
   "outputs": [],
   "source": [
    "# import and instantiate TF-IDF Vectorizer (with the default parameters)\n",
    "from sklearn.feature_extraction.text import TfidfVectorizer\n",
    "tvect = TfidfVectorizer()"
   ]
  },
  {
   "cell_type": "code",
   "execution_count": 44,
   "metadata": {
    "colab": {
     "base_uri": "https://localhost:8080/"
    },
    "id": "1Tn5CEgp1uRF",
    "outputId": "a84126a0-ebc4-4d0e-bf53-70f72f06115d"
   },
   "outputs": [
    {
     "data": {
      "text/plain": [
       "TfidfVectorizer()"
      ]
     },
     "execution_count": 44,
     "metadata": {},
     "output_type": "execute_result"
    }
   ],
   "source": [
    "tvect.fit(X_train)\n"
   ]
  },
  {
   "cell_type": "code",
   "execution_count": 45,
   "metadata": {
    "colab": {
     "base_uri": "https://localhost:8080/"
    },
    "id": "TCysW-bU1vz4",
    "outputId": "3f1ef44c-e326-4471-f61b-5d718e7410e1"
   },
   "outputs": [
    {
     "data": {
      "text/plain": [
       "6210"
      ]
     },
     "execution_count": 45,
     "metadata": {},
     "output_type": "execute_result"
    }
   ],
   "source": [
    "len(tvect.vocabulary_)"
   ]
  },
  {
   "cell_type": "code",
   "execution_count": 46,
   "metadata": {
    "colab": {
     "base_uri": "https://localhost:8080/"
    },
    "id": "WFf8zs8n1xMB",
    "outputId": "47e5ec06-558f-499c-8f2d-b244af4b8314"
   },
   "outputs": [
    {
     "data": {
      "text/plain": [
       "(6350, 6210)"
      ]
     },
     "execution_count": 46,
     "metadata": {},
     "output_type": "execute_result"
    }
   ],
   "source": [
    "X_train_tfidf = tvect.transform(X_train)\n",
    "X_train_tfidf.shape"
   ]
  },
  {
   "cell_type": "code",
   "execution_count": 47,
   "metadata": {
    "id": "EQvmiHuX1yr6"
   },
   "outputs": [],
   "source": [
    "X_test_tfidf = tvect.transform(X_test)"
   ]
  },
  {
   "cell_type": "code",
   "execution_count": 48,
   "metadata": {
    "id": "aMo7r5U-10Bc"
   },
   "outputs": [],
   "source": [
    "from sklearn.multiclass import OneVsRestClassifier\n",
    "from sklearn.ensemble import RandomForestClassifier\n",
    "\n",
    "clf = RandomForestClassifier()\n",
    "clf = OneVsRestClassifier(clf)"
   ]
  },
  {
   "cell_type": "code",
   "execution_count": 49,
   "metadata": {
    "colab": {
     "base_uri": "https://localhost:8080/"
    },
    "id": "B89xVzWO2ABX",
    "outputId": "686b1526-d8d4-400c-c18d-2f1172c6591c"
   },
   "outputs": [
    {
     "data": {
      "text/plain": [
       "OneVsRestClassifier(estimator=RandomForestClassifier())"
      ]
     },
     "execution_count": 49,
     "metadata": {},
     "output_type": "execute_result"
    }
   ],
   "source": [
    "clf.fit(X_train_tfidf, y_train)"
   ]
  },
  {
   "cell_type": "code",
   "execution_count": 50,
   "metadata": {
    "id": "nhmBAQDs2Cj2"
   },
   "outputs": [],
   "source": [
    "y_pred_tfidf = clf.predict(X_test_tfidf)"
   ]
  },
  {
   "cell_type": "code",
   "execution_count": 51,
   "metadata": {
    "colab": {
     "base_uri": "https://localhost:8080/"
    },
    "id": "-64MYUa_2Dv6",
    "outputId": "8101147d-aefc-47eb-ba28-da918bcd18b6"
   },
   "outputs": [
    {
     "name": "stdout",
     "output_type": "stream",
     "text": [
      "              precision    recall  f1-score   support\n",
      "\n",
      "           0       0.69      0.95      0.80       994\n",
      "           1       0.00      0.00      0.00         8\n",
      "           2       0.77      0.57      0.66        35\n",
      "           3       0.00      0.00      0.00         8\n",
      "           4       0.58      0.48      0.53        64\n",
      "           5       0.63      0.47      0.54        36\n",
      "           6       0.62      0.27      0.37        30\n",
      "           7       0.50      0.30      0.37        10\n",
      "           8       0.50      0.14      0.22        21\n",
      "           9       0.95      1.00      0.98        20\n",
      "          10       0.50      0.27      0.35        22\n",
      "          11       0.58      0.20      0.30        54\n",
      "          12       0.62      0.25      0.36        60\n",
      "          13       0.50      0.11      0.18         9\n",
      "          14       0.50      0.29      0.36         7\n",
      "          15       0.67      0.25      0.36         8\n",
      "          16       0.33      0.17      0.22         6\n",
      "          17       0.87      0.85      0.86        72\n",
      "          18       0.61      0.38      0.47        29\n",
      "          19       0.50      0.07      0.12        14\n",
      "          20       0.00      0.00      0.00         4\n",
      "          21       0.25      0.09      0.13        11\n",
      "          22       0.89      0.33      0.48        24\n",
      "          23       0.38      0.18      0.24        50\n",
      "          24       0.00      0.00      0.00         6\n",
      "          25       0.20      0.18      0.19        17\n",
      "          26       0.50      0.11      0.18        27\n",
      "          27       0.25      0.25      0.25        16\n",
      "          28       1.00      0.50      0.67         4\n",
      "          29       1.00      0.00      0.00         4\n",
      "          30       0.50      0.20      0.29         5\n",
      "          31       0.50      0.12      0.19        25\n",
      "          32       0.75      0.27      0.40        11\n",
      "          33       0.75      0.30      0.43        10\n",
      "          34       0.33      0.11      0.17         9\n",
      "          35       1.00      0.25      0.40         4\n",
      "          36       1.00      0.00      0.00         9\n",
      "          37       1.00      0.00      0.00         7\n",
      "          38       1.00      0.00      0.00         2\n",
      "          39       0.78      0.22      0.34        32\n",
      "          40       0.33      0.33      0.33         3\n",
      "          41       1.00      0.00      0.00         3\n",
      "          42       0.58      0.24      0.34        46\n",
      "          43       0.50      0.20      0.29         5\n",
      "          44       0.00      0.00      0.00         6\n",
      "          45       0.00      0.00      0.00         3\n",
      "          46       0.67      0.12      0.20        17\n",
      "          47       0.55      0.87      0.67       165\n",
      "          48       0.78      0.33      0.47        63\n",
      "          49       0.22      0.09      0.13        22\n",
      "\n",
      "    accuracy                           0.66      2117\n",
      "   macro avg       0.55      0.25      0.30      2117\n",
      "weighted avg       0.64      0.66      0.60      2117\n",
      "\n"
     ]
    }
   ],
   "source": [
    "from sklearn.metrics import classification_report\n",
    "print(classification_report(y_test, y_pred_tfidf,zero_division=1))"
   ]
  },
  {
   "cell_type": "markdown",
   "metadata": {
    "id": "-uv7GBeV2VjB"
   },
   "source": [
    "## Classification Based On Short & Long Description"
   ]
  },
  {
   "cell_type": "code",
   "execution_count": 52,
   "metadata": {
    "id": "newo_dKe2FAg"
   },
   "outputs": [],
   "source": [
    "df_data = pd.read_csv(project_path+'input_data_trans_preprocess.csv')"
   ]
  },
  {
   "cell_type": "code",
   "execution_count": 53,
   "metadata": {
    "colab": {
     "base_uri": "https://localhost:8080/",
     "height": 406
    },
    "id": "vutvvYZ52asV",
    "outputId": "c37ac6e3-5d37-4fce-c49c-8f880f09db87"
   },
   "outputs": [
    {
     "data": {
      "text/html": [
       "\n",
       "  <div id=\"df-e01c4733-82b7-40e4-8af7-f24e4281df09\">\n",
       "    <div class=\"colab-df-container\">\n",
       "      <div>\n",
       "<style scoped>\n",
       "    .dataframe tbody tr th:only-of-type {\n",
       "        vertical-align: middle;\n",
       "    }\n",
       "\n",
       "    .dataframe tbody tr th {\n",
       "        vertical-align: top;\n",
       "    }\n",
       "\n",
       "    .dataframe thead th {\n",
       "        text-align: right;\n",
       "    }\n",
       "</style>\n",
       "<table border=\"1\" class=\"dataframe\">\n",
       "  <thead>\n",
       "    <tr style=\"text-align: right;\">\n",
       "      <th></th>\n",
       "      <th>Short description</th>\n",
       "      <th>Description</th>\n",
       "      <th>Caller</th>\n",
       "      <th>Assignment group</th>\n",
       "      <th>orig_desc</th>\n",
       "      <th>orig_short_desc</th>\n",
       "      <th>Lang</th>\n",
       "      <th>Translated_ShortDesc</th>\n",
       "      <th>Translated_Description</th>\n",
       "      <th>orig_assign_group</th>\n",
       "    </tr>\n",
       "  </thead>\n",
       "  <tbody>\n",
       "    <tr>\n",
       "      <th>0</th>\n",
       "      <td>login issue</td>\n",
       "      <td>verified user details employee manager name ch...</td>\n",
       "      <td>spxjnwir pjlcoqds</td>\n",
       "      <td>GRP_0</td>\n",
       "      <td>-verified user details.(employee# &amp; manager na...</td>\n",
       "      <td>login issue</td>\n",
       "      <td>en</td>\n",
       "      <td>login issue</td>\n",
       "      <td>-verified user details.(employee# &amp; manager na...</td>\n",
       "      <td>GRP_0</td>\n",
       "    </tr>\n",
       "    <tr>\n",
       "      <th>1</th>\n",
       "      <td>outlook</td>\n",
       "      <td>received from hmjdrvpb komuaywn gmail com hell...</td>\n",
       "      <td>hmjdrvpb komuaywn</td>\n",
       "      <td>GRP_0</td>\n",
       "      <td>_x000D_\\n_x000D_\\nreceived from: hmjdrvpb.komu...</td>\n",
       "      <td>outlook</td>\n",
       "      <td>en</td>\n",
       "      <td>outlook</td>\n",
       "      <td>received from: hmjdrvpb.komuaywn@gmail.com...</td>\n",
       "      <td>GRP_0</td>\n",
       "    </tr>\n",
       "    <tr>\n",
       "      <th>2</th>\n",
       "      <td>cant log in to vpn</td>\n",
       "      <td>received from eylqgodm ybqkwiam gmail com hi i...</td>\n",
       "      <td>eylqgodm ybqkwiam</td>\n",
       "      <td>GRP_0</td>\n",
       "      <td>_x000D_\\n_x000D_\\nreceived from: eylqgodm.ybqk...</td>\n",
       "      <td>cant log in to vpn</td>\n",
       "      <td>en</td>\n",
       "      <td>cant log in to vpn</td>\n",
       "      <td>received from: eylqgodm.ybqkwiam@gmail.com...</td>\n",
       "      <td>GRP_0</td>\n",
       "    </tr>\n",
       "    <tr>\n",
       "      <th>3</th>\n",
       "      <td>unable to access hr tool page</td>\n",
       "      <td>unable to access hr tool page</td>\n",
       "      <td>xbkucsvz gcpydteq</td>\n",
       "      <td>GRP_0</td>\n",
       "      <td>unable to access hr_tool page</td>\n",
       "      <td>unable to access hr_tool page</td>\n",
       "      <td>en</td>\n",
       "      <td>unable to access hr_tool page</td>\n",
       "      <td>unable to access hr_tool page</td>\n",
       "      <td>GRP_0</td>\n",
       "    </tr>\n",
       "    <tr>\n",
       "      <th>4</th>\n",
       "      <td>skype error</td>\n",
       "      <td>skype error</td>\n",
       "      <td>owlgqjme qhcozdfx</td>\n",
       "      <td>GRP_0</td>\n",
       "      <td>skype error</td>\n",
       "      <td>skype error</td>\n",
       "      <td>no</td>\n",
       "      <td>skype error</td>\n",
       "      <td>skype error</td>\n",
       "      <td>GRP_0</td>\n",
       "    </tr>\n",
       "  </tbody>\n",
       "</table>\n",
       "</div>\n",
       "      <button class=\"colab-df-convert\" onclick=\"convertToInteractive('df-e01c4733-82b7-40e4-8af7-f24e4281df09')\"\n",
       "              title=\"Convert this dataframe to an interactive table.\"\n",
       "              style=\"display:none;\">\n",
       "        \n",
       "  <svg xmlns=\"http://www.w3.org/2000/svg\" height=\"24px\"viewBox=\"0 0 24 24\"\n",
       "       width=\"24px\">\n",
       "    <path d=\"M0 0h24v24H0V0z\" fill=\"none\"/>\n",
       "    <path d=\"M18.56 5.44l.94 2.06.94-2.06 2.06-.94-2.06-.94-.94-2.06-.94 2.06-2.06.94zm-11 1L8.5 8.5l.94-2.06 2.06-.94-2.06-.94L8.5 2.5l-.94 2.06-2.06.94zm10 10l.94 2.06.94-2.06 2.06-.94-2.06-.94-.94-2.06-.94 2.06-2.06.94z\"/><path d=\"M17.41 7.96l-1.37-1.37c-.4-.4-.92-.59-1.43-.59-.52 0-1.04.2-1.43.59L10.3 9.45l-7.72 7.72c-.78.78-.78 2.05 0 2.83L4 21.41c.39.39.9.59 1.41.59.51 0 1.02-.2 1.41-.59l7.78-7.78 2.81-2.81c.8-.78.8-2.07 0-2.86zM5.41 20L4 18.59l7.72-7.72 1.47 1.35L5.41 20z\"/>\n",
       "  </svg>\n",
       "      </button>\n",
       "      \n",
       "  <style>\n",
       "    .colab-df-container {\n",
       "      display:flex;\n",
       "      flex-wrap:wrap;\n",
       "      gap: 12px;\n",
       "    }\n",
       "\n",
       "    .colab-df-convert {\n",
       "      background-color: #E8F0FE;\n",
       "      border: none;\n",
       "      border-radius: 50%;\n",
       "      cursor: pointer;\n",
       "      display: none;\n",
       "      fill: #1967D2;\n",
       "      height: 32px;\n",
       "      padding: 0 0 0 0;\n",
       "      width: 32px;\n",
       "    }\n",
       "\n",
       "    .colab-df-convert:hover {\n",
       "      background-color: #E2EBFA;\n",
       "      box-shadow: 0px 1px 2px rgba(60, 64, 67, 0.3), 0px 1px 3px 1px rgba(60, 64, 67, 0.15);\n",
       "      fill: #174EA6;\n",
       "    }\n",
       "\n",
       "    [theme=dark] .colab-df-convert {\n",
       "      background-color: #3B4455;\n",
       "      fill: #D2E3FC;\n",
       "    }\n",
       "\n",
       "    [theme=dark] .colab-df-convert:hover {\n",
       "      background-color: #434B5C;\n",
       "      box-shadow: 0px 1px 3px 1px rgba(0, 0, 0, 0.15);\n",
       "      filter: drop-shadow(0px 1px 2px rgba(0, 0, 0, 0.3));\n",
       "      fill: #FFFFFF;\n",
       "    }\n",
       "  </style>\n",
       "\n",
       "      <script>\n",
       "        const buttonEl =\n",
       "          document.querySelector('#df-e01c4733-82b7-40e4-8af7-f24e4281df09 button.colab-df-convert');\n",
       "        buttonEl.style.display =\n",
       "          google.colab.kernel.accessAllowed ? 'block' : 'none';\n",
       "\n",
       "        async function convertToInteractive(key) {\n",
       "          const element = document.querySelector('#df-e01c4733-82b7-40e4-8af7-f24e4281df09');\n",
       "          const dataTable =\n",
       "            await google.colab.kernel.invokeFunction('convertToInteractive',\n",
       "                                                     [key], {});\n",
       "          if (!dataTable) return;\n",
       "\n",
       "          const docLinkHtml = 'Like what you see? Visit the ' +\n",
       "            '<a target=\"_blank\" href=https://colab.research.google.com/notebooks/data_table.ipynb>data table notebook</a>'\n",
       "            + ' to learn more about interactive tables.';\n",
       "          element.innerHTML = '';\n",
       "          dataTable['output_type'] = 'display_data';\n",
       "          await google.colab.output.renderOutput(dataTable, element);\n",
       "          const docLink = document.createElement('div');\n",
       "          docLink.innerHTML = docLinkHtml;\n",
       "          element.appendChild(docLink);\n",
       "        }\n",
       "      </script>\n",
       "    </div>\n",
       "  </div>\n",
       "  "
      ],
      "text/plain": [
       "               Short description  \\\n",
       "0                    login issue   \n",
       "1                        outlook   \n",
       "2             cant log in to vpn   \n",
       "3  unable to access hr tool page   \n",
       "4                    skype error   \n",
       "\n",
       "                                         Description             Caller  \\\n",
       "0  verified user details employee manager name ch...  spxjnwir pjlcoqds   \n",
       "1  received from hmjdrvpb komuaywn gmail com hell...  hmjdrvpb komuaywn   \n",
       "2  received from eylqgodm ybqkwiam gmail com hi i...  eylqgodm ybqkwiam   \n",
       "3                      unable to access hr tool page  xbkucsvz gcpydteq   \n",
       "4                                        skype error  owlgqjme qhcozdfx   \n",
       "\n",
       "  Assignment group                                          orig_desc  \\\n",
       "0            GRP_0  -verified user details.(employee# & manager na...   \n",
       "1            GRP_0  _x000D_\\n_x000D_\\nreceived from: hmjdrvpb.komu...   \n",
       "2            GRP_0  _x000D_\\n_x000D_\\nreceived from: eylqgodm.ybqk...   \n",
       "3            GRP_0                      unable to access hr_tool page   \n",
       "4            GRP_0                                       skype error    \n",
       "\n",
       "                 orig_short_desc Lang           Translated_ShortDesc  \\\n",
       "0                    login issue   en                    login issue   \n",
       "1                        outlook   en                        outlook   \n",
       "2             cant log in to vpn   en             cant log in to vpn   \n",
       "3  unable to access hr_tool page   en  unable to access hr_tool page   \n",
       "4                   skype error    no                    skype error   \n",
       "\n",
       "                              Translated_Description orig_assign_group  \n",
       "0  -verified user details.(employee# & manager na...             GRP_0  \n",
       "1      received from: hmjdrvpb.komuaywn@gmail.com...             GRP_0  \n",
       "2      received from: eylqgodm.ybqkwiam@gmail.com...             GRP_0  \n",
       "3                      unable to access hr_tool page             GRP_0  \n",
       "4                                        skype error             GRP_0  "
      ]
     },
     "execution_count": 53,
     "metadata": {},
     "output_type": "execute_result"
    }
   ],
   "source": [
    "df_data.head()"
   ]
  },
  {
   "cell_type": "code",
   "execution_count": 54,
   "metadata": {
    "colab": {
     "base_uri": "https://localhost:8080/"
    },
    "id": "ZVGJF18C2cV2",
    "outputId": "a580ffc8-3c3a-4c39-f8f7-32e7a75606ff"
   },
   "outputs": [
    {
     "data": {
      "text/plain": [
       "(8467, 10)"
      ]
     },
     "execution_count": 54,
     "metadata": {},
     "output_type": "execute_result"
    }
   ],
   "source": [
    "df_data.shape"
   ]
  },
  {
   "cell_type": "code",
   "execution_count": 55,
   "metadata": {
    "colab": {
     "base_uri": "https://localhost:8080/"
    },
    "id": "aI46iEMy2dWS",
    "outputId": "94e0b2c4-0035-4180-ddea-7c4b500715fc"
   },
   "outputs": [
    {
     "name": "stdout",
     "output_type": "stream",
     "text": [
      "[nltk_data] Downloading package stopwords to /root/nltk_data...\n",
      "[nltk_data]   Package stopwords is already up-to-date!\n"
     ]
    },
    {
     "data": {
      "text/plain": [
       "True"
      ]
     },
     "execution_count": 55,
     "metadata": {},
     "output_type": "execute_result"
    }
   ],
   "source": [
    "import nltk\n",
    "from nltk.corpus import stopwords\n",
    "nltk.download(\"stopwords\")"
   ]
  },
  {
   "cell_type": "code",
   "execution_count": 58,
   "metadata": {
    "id": "BBpraU8b2egL"
   },
   "outputs": [],
   "source": [
    "stop_words=set(stopwords.words('english'))\n",
    "df_data['txt_wo_stopwords'] = df_data['Translated_Description'] + df_data['Translated_ShortDesc'].astype('str').apply(lambda words: ' '.join(word.lower() for word in words.split() if word not in stop_words))"
   ]
  },
  {
   "cell_type": "code",
   "execution_count": 59,
   "metadata": {
    "id": "Yt-Ni9-52hG-"
   },
   "outputs": [],
   "source": [
    "X = df_data.txt_wo_stopwords"
   ]
  },
  {
   "cell_type": "code",
   "execution_count": 60,
   "metadata": {
    "id": "cndwNuQ12iaN"
   },
   "outputs": [],
   "source": [
    "y=df_data['Assignment group']\n",
    "from sklearn import preprocessing\n",
    "le = preprocessing.LabelEncoder()\n",
    "y=le.fit(df_data['Assignment group'])\n",
    "y=le.transform(df_data['Assignment group'])\n",
    "y=le.transform(df_data['Assignment group'])\n"
   ]
  },
  {
   "cell_type": "code",
   "execution_count": 61,
   "metadata": {
    "id": "KiW8EGqT2rJJ"
   },
   "outputs": [],
   "source": [
    "from sklearn.model_selection import train_test_split\n",
    "# split X and y into training and testing sets\n",
    "X_train, X_test, y_train, y_test = train_test_split(X, y, random_state=42, stratify=y)"
   ]
  },
  {
   "cell_type": "code",
   "execution_count": 62,
   "metadata": {
    "colab": {
     "base_uri": "https://localhost:8080/"
    },
    "id": "DugHGCgy2vWL",
    "outputId": "a105138f-ffc4-44f2-b382-110c62d577c2"
   },
   "outputs": [
    {
     "name": "stdout",
     "output_type": "stream",
     "text": [
      "X_train : (6350,)\n",
      "X_test : (2117,)\n",
      "y_train : (6350,)\n",
      "y_test : (2117,)\n"
     ]
    }
   ],
   "source": [
    "print('X_train : '+str(X_train.shape))\n",
    "print('X_test : '+str(X_test.shape))\n",
    "print('y_train : '+str(y_train.shape))\n",
    "print('y_test : '+str(y_test.shape))\n"
   ]
  },
  {
   "cell_type": "code",
   "execution_count": 64,
   "metadata": {
    "id": "ktz55EZD2wgJ"
   },
   "outputs": [],
   "source": [
    "# import and instantiate TF-IDF Vectorizer (with the default parameters)\n",
    "from sklearn.feature_extraction.text import TfidfVectorizer\n",
    "tvect = TfidfVectorizer()"
   ]
  },
  {
   "cell_type": "code",
   "execution_count": 65,
   "metadata": {
    "colab": {
     "base_uri": "https://localhost:8080/"
    },
    "id": "8RiqEJc-20Sz",
    "outputId": "64cd829f-e88a-4c4b-9793-0daf860c291f"
   },
   "outputs": [
    {
     "data": {
      "text/plain": [
       "TfidfVectorizer()"
      ]
     },
     "execution_count": 65,
     "metadata": {},
     "output_type": "execute_result"
    }
   ],
   "source": [
    "tvect.fit(X_train)"
   ]
  },
  {
   "cell_type": "code",
   "execution_count": 66,
   "metadata": {
    "colab": {
     "base_uri": "https://localhost:8080/"
    },
    "id": "mB8wQsVY208X",
    "outputId": "a3c8a8ec-daea-4305-a716-7b4d99ff4b63"
   },
   "outputs": [
    {
     "data": {
      "text/plain": [
       "19384"
      ]
     },
     "execution_count": 66,
     "metadata": {},
     "output_type": "execute_result"
    }
   ],
   "source": [
    "len(tvect.vocabulary_)"
   ]
  },
  {
   "cell_type": "code",
   "execution_count": 67,
   "metadata": {
    "colab": {
     "base_uri": "https://localhost:8080/"
    },
    "id": "IWKXM-i022kM",
    "outputId": "f7610747-fd7c-4161-954f-8bef4a8e5942"
   },
   "outputs": [
    {
     "data": {
      "text/plain": [
       "(6350, 19384)"
      ]
     },
     "execution_count": 67,
     "metadata": {},
     "output_type": "execute_result"
    }
   ],
   "source": [
    "X_train_tfidf = tvect.transform(X_train)\n",
    "X_train_tfidf.shape"
   ]
  },
  {
   "cell_type": "code",
   "execution_count": 68,
   "metadata": {
    "id": "Rn-Goerw24Ln"
   },
   "outputs": [],
   "source": [
    "X_test_tfidf = tvect.transform(X_test)"
   ]
  },
  {
   "cell_type": "code",
   "execution_count": 69,
   "metadata": {
    "id": "44Cb-RDe25UP"
   },
   "outputs": [],
   "source": [
    "from sklearn.multiclass import OneVsRestClassifier\n",
    "from sklearn.ensemble import RandomForestClassifier\n",
    "\n",
    "clf = RandomForestClassifier()\n",
    "clf = OneVsRestClassifier(clf)"
   ]
  },
  {
   "cell_type": "code",
   "execution_count": 70,
   "metadata": {
    "colab": {
     "base_uri": "https://localhost:8080/"
    },
    "id": "Se2Md0UX27eI",
    "outputId": "3cb7d066-61c2-4b1d-e17e-fcb3350cc214"
   },
   "outputs": [
    {
     "data": {
      "text/plain": [
       "OneVsRestClassifier(estimator=RandomForestClassifier())"
      ]
     },
     "execution_count": 70,
     "metadata": {},
     "output_type": "execute_result"
    }
   ],
   "source": [
    "clf.fit(X_train_tfidf, y_train)"
   ]
  },
  {
   "cell_type": "code",
   "execution_count": 71,
   "metadata": {
    "id": "npz9RM_72-dX"
   },
   "outputs": [],
   "source": [
    "y_pred_tfidf = clf.predict(X_test_tfidf)\n"
   ]
  },
  {
   "cell_type": "code",
   "execution_count": 72,
   "metadata": {
    "colab": {
     "base_uri": "https://localhost:8080/"
    },
    "id": "RQrf4ENF3ALu",
    "outputId": "a0fac1a7-4178-4c46-8100-cd229ea53ed3"
   },
   "outputs": [
    {
     "name": "stdout",
     "output_type": "stream",
     "text": [
      "              precision    recall  f1-score   support\n",
      "\n",
      "           0       0.63      0.99      0.77       994\n",
      "           1       0.00      0.00      0.00         8\n",
      "           2       0.68      0.37      0.48        35\n",
      "           3       1.00      0.00      0.00         8\n",
      "           4       0.65      0.41      0.50        64\n",
      "           5       0.79      0.31      0.44        36\n",
      "           6       0.58      0.23      0.33        30\n",
      "           7       1.00      0.10      0.18        10\n",
      "           8       1.00      0.00      0.00        21\n",
      "           9       0.94      0.75      0.83        20\n",
      "          10       0.57      0.18      0.28        22\n",
      "          11       1.00      0.06      0.11        54\n",
      "          12       0.85      0.28      0.42        60\n",
      "          13       1.00      0.00      0.00         9\n",
      "          14       1.00      0.14      0.25         7\n",
      "          15       1.00      0.00      0.00         8\n",
      "          16       1.00      0.00      0.00         6\n",
      "          17       0.90      0.85      0.87        72\n",
      "          18       0.75      0.10      0.18        29\n",
      "          19       1.00      0.00      0.00        14\n",
      "          20       1.00      0.00      0.00         4\n",
      "          21       1.00      0.00      0.00        11\n",
      "          22       0.75      0.12      0.21        24\n",
      "          23       0.29      0.04      0.07        50\n",
      "          24       0.33      0.17      0.22         6\n",
      "          25       0.57      0.24      0.33        17\n",
      "          26       0.67      0.07      0.13        27\n",
      "          27       0.33      0.06      0.11        16\n",
      "          28       1.00      0.25      0.40         4\n",
      "          29       1.00      0.00      0.00         4\n",
      "          30       0.00      0.00      0.00         5\n",
      "          31       1.00      0.16      0.28        25\n",
      "          32       1.00      0.00      0.00        11\n",
      "          33       1.00      0.10      0.18        10\n",
      "          34       1.00      0.00      0.00         9\n",
      "          35       1.00      0.00      0.00         4\n",
      "          36       1.00      0.00      0.00         9\n",
      "          37       1.00      0.00      0.00         7\n",
      "          38       1.00      0.00      0.00         2\n",
      "          39       0.75      0.19      0.30        32\n",
      "          40       1.00      0.00      0.00         3\n",
      "          41       1.00      0.00      0.00         3\n",
      "          42       0.62      0.17      0.27        46\n",
      "          43       1.00      0.20      0.33         5\n",
      "          44       1.00      0.00      0.00         6\n",
      "          45       1.00      0.00      0.00         3\n",
      "          46       1.00      0.06      0.11        17\n",
      "          47       0.58      0.87      0.70       165\n",
      "          48       0.59      0.27      0.37        63\n",
      "          49       0.50      0.05      0.08        22\n",
      "\n",
      "    accuracy                           0.63      2117\n",
      "   macro avg       0.81      0.16      0.19      2117\n",
      "weighted avg       0.68      0.63      0.55      2117\n",
      "\n"
     ]
    }
   ],
   "source": [
    "from sklearn.metrics import classification_report\n",
    "print(classification_report(y_test, y_pred_tfidf,zero_division=1))"
   ]
  },
  {
   "cell_type": "code",
   "execution_count": null,
   "metadata": {
    "id": "SZGcM2mw3CDA"
   },
   "outputs": [],
   "source": []
  }
 ],
 "metadata": {
  "colab": {
   "collapsed_sections": [],
   "name": "CapstoneNLPRF_Sunil.ipynb",
   "provenance": []
  },
  "kernelspec": {
   "display_name": "Python 3",
   "language": "python",
   "name": "python3"
  },
  "language_info": {
   "codemirror_mode": {
    "name": "ipython",
    "version": 3
   },
   "file_extension": ".py",
   "mimetype": "text/x-python",
   "name": "python",
   "nbconvert_exporter": "python",
   "pygments_lexer": "ipython3",
   "version": "3.8.5"
  }
 },
 "nbformat": 4,
 "nbformat_minor": 1
}
