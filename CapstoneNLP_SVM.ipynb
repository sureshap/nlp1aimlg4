{
 "cells": [
  {
   "cell_type": "markdown",
   "metadata": {},
   "source": [
    "# Part 5 - Build SVM Model"
   ]
  },
  {
   "cell_type": "code",
   "execution_count": null,
   "metadata": {
    "id": "ImH03n3c3E7u"
   },
   "outputs": [],
   "source": [
    "#import the libraries\n",
    "import pandas as pd\n",
    "import numpy as np\n",
    "from google.colab import drive\n",
    "\n",
    "import matplotlib.pyplot as plt"
   ]
  },
  {
   "cell_type": "code",
   "execution_count": null,
   "metadata": {
    "colab": {
     "base_uri": "https://localhost:8080/"
    },
    "id": "2YIAR7xB3IaL",
    "outputId": "020d0018-c2ff-431a-ab92-8e7a8082ddd7"
   },
   "outputs": [
    {
     "name": "stdout",
     "output_type": "stream",
     "text": [
      "Mounted at /content/drive\n"
     ]
    }
   ],
   "source": [
    "drive.mount('/content/drive')"
   ]
  },
  {
   "cell_type": "code",
   "execution_count": null,
   "metadata": {
    "id": "HUOL-dKW3UQX"
   },
   "outputs": [],
   "source": [
    "project_path = \"/content/drive/MyDrive/AIML/Projects/Capstone/\""
   ]
  },
  {
   "cell_type": "code",
   "execution_count": null,
   "metadata": {
    "id": "WzV56Bgf3fAk"
   },
   "outputs": [],
   "source": [
    "df=pd.read_excel(project_path + 'input_data.xlsx')"
   ]
  },
  {
   "cell_type": "code",
   "execution_count": null,
   "metadata": {
    "colab": {
     "base_uri": "https://localhost:8080/",
     "height": 206
    },
    "id": "-CBZwGDH3uw2",
    "outputId": "3a6ce11e-f7ee-4562-f570-9809bd005871"
   },
   "outputs": [
    {
     "data": {
      "text/html": [
       "\n",
       "  <div id=\"df-b6f0cd91-97b9-4f82-9443-97ba2c70c03b\">\n",
       "    <div class=\"colab-df-container\">\n",
       "      <div>\n",
       "<style scoped>\n",
       "    .dataframe tbody tr th:only-of-type {\n",
       "        vertical-align: middle;\n",
       "    }\n",
       "\n",
       "    .dataframe tbody tr th {\n",
       "        vertical-align: top;\n",
       "    }\n",
       "\n",
       "    .dataframe thead th {\n",
       "        text-align: right;\n",
       "    }\n",
       "</style>\n",
       "<table border=\"1\" class=\"dataframe\">\n",
       "  <thead>\n",
       "    <tr style=\"text-align: right;\">\n",
       "      <th></th>\n",
       "      <th>Short description</th>\n",
       "      <th>Description</th>\n",
       "      <th>Caller</th>\n",
       "      <th>Assignment group</th>\n",
       "    </tr>\n",
       "  </thead>\n",
       "  <tbody>\n",
       "    <tr>\n",
       "      <th>0</th>\n",
       "      <td>login issue</td>\n",
       "      <td>-verified user details.(employee# &amp; manager na...</td>\n",
       "      <td>spxjnwir pjlcoqds</td>\n",
       "      <td>GRP_0</td>\n",
       "    </tr>\n",
       "    <tr>\n",
       "      <th>1</th>\n",
       "      <td>outlook</td>\n",
       "      <td>_x000D_\\n_x000D_\\nreceived from: hmjdrvpb.komu...</td>\n",
       "      <td>hmjdrvpb komuaywn</td>\n",
       "      <td>GRP_0</td>\n",
       "    </tr>\n",
       "    <tr>\n",
       "      <th>2</th>\n",
       "      <td>cant log in to vpn</td>\n",
       "      <td>_x000D_\\n_x000D_\\nreceived from: eylqgodm.ybqk...</td>\n",
       "      <td>eylqgodm ybqkwiam</td>\n",
       "      <td>GRP_0</td>\n",
       "    </tr>\n",
       "    <tr>\n",
       "      <th>3</th>\n",
       "      <td>unable to access hr_tool page</td>\n",
       "      <td>unable to access hr_tool page</td>\n",
       "      <td>xbkucsvz gcpydteq</td>\n",
       "      <td>GRP_0</td>\n",
       "    </tr>\n",
       "    <tr>\n",
       "      <th>4</th>\n",
       "      <td>skype error</td>\n",
       "      <td>skype error</td>\n",
       "      <td>owlgqjme qhcozdfx</td>\n",
       "      <td>GRP_0</td>\n",
       "    </tr>\n",
       "  </tbody>\n",
       "</table>\n",
       "</div>\n",
       "      <button class=\"colab-df-convert\" onclick=\"convertToInteractive('df-b6f0cd91-97b9-4f82-9443-97ba2c70c03b')\"\n",
       "              title=\"Convert this dataframe to an interactive table.\"\n",
       "              style=\"display:none;\">\n",
       "        \n",
       "  <svg xmlns=\"http://www.w3.org/2000/svg\" height=\"24px\"viewBox=\"0 0 24 24\"\n",
       "       width=\"24px\">\n",
       "    <path d=\"M0 0h24v24H0V0z\" fill=\"none\"/>\n",
       "    <path d=\"M18.56 5.44l.94 2.06.94-2.06 2.06-.94-2.06-.94-.94-2.06-.94 2.06-2.06.94zm-11 1L8.5 8.5l.94-2.06 2.06-.94-2.06-.94L8.5 2.5l-.94 2.06-2.06.94zm10 10l.94 2.06.94-2.06 2.06-.94-2.06-.94-.94-2.06-.94 2.06-2.06.94z\"/><path d=\"M17.41 7.96l-1.37-1.37c-.4-.4-.92-.59-1.43-.59-.52 0-1.04.2-1.43.59L10.3 9.45l-7.72 7.72c-.78.78-.78 2.05 0 2.83L4 21.41c.39.39.9.59 1.41.59.51 0 1.02-.2 1.41-.59l7.78-7.78 2.81-2.81c.8-.78.8-2.07 0-2.86zM5.41 20L4 18.59l7.72-7.72 1.47 1.35L5.41 20z\"/>\n",
       "  </svg>\n",
       "      </button>\n",
       "      \n",
       "  <style>\n",
       "    .colab-df-container {\n",
       "      display:flex;\n",
       "      flex-wrap:wrap;\n",
       "      gap: 12px;\n",
       "    }\n",
       "\n",
       "    .colab-df-convert {\n",
       "      background-color: #E8F0FE;\n",
       "      border: none;\n",
       "      border-radius: 50%;\n",
       "      cursor: pointer;\n",
       "      display: none;\n",
       "      fill: #1967D2;\n",
       "      height: 32px;\n",
       "      padding: 0 0 0 0;\n",
       "      width: 32px;\n",
       "    }\n",
       "\n",
       "    .colab-df-convert:hover {\n",
       "      background-color: #E2EBFA;\n",
       "      box-shadow: 0px 1px 2px rgba(60, 64, 67, 0.3), 0px 1px 3px 1px rgba(60, 64, 67, 0.15);\n",
       "      fill: #174EA6;\n",
       "    }\n",
       "\n",
       "    [theme=dark] .colab-df-convert {\n",
       "      background-color: #3B4455;\n",
       "      fill: #D2E3FC;\n",
       "    }\n",
       "\n",
       "    [theme=dark] .colab-df-convert:hover {\n",
       "      background-color: #434B5C;\n",
       "      box-shadow: 0px 1px 3px 1px rgba(0, 0, 0, 0.15);\n",
       "      filter: drop-shadow(0px 1px 2px rgba(0, 0, 0, 0.3));\n",
       "      fill: #FFFFFF;\n",
       "    }\n",
       "  </style>\n",
       "\n",
       "      <script>\n",
       "        const buttonEl =\n",
       "          document.querySelector('#df-b6f0cd91-97b9-4f82-9443-97ba2c70c03b button.colab-df-convert');\n",
       "        buttonEl.style.display =\n",
       "          google.colab.kernel.accessAllowed ? 'block' : 'none';\n",
       "\n",
       "        async function convertToInteractive(key) {\n",
       "          const element = document.querySelector('#df-b6f0cd91-97b9-4f82-9443-97ba2c70c03b');\n",
       "          const dataTable =\n",
       "            await google.colab.kernel.invokeFunction('convertToInteractive',\n",
       "                                                     [key], {});\n",
       "          if (!dataTable) return;\n",
       "\n",
       "          const docLinkHtml = 'Like what you see? Visit the ' +\n",
       "            '<a target=\"_blank\" href=https://colab.research.google.com/notebooks/data_table.ipynb>data table notebook</a>'\n",
       "            + ' to learn more about interactive tables.';\n",
       "          element.innerHTML = '';\n",
       "          dataTable['output_type'] = 'display_data';\n",
       "          await google.colab.output.renderOutput(dataTable, element);\n",
       "          const docLink = document.createElement('div');\n",
       "          docLink.innerHTML = docLinkHtml;\n",
       "          element.appendChild(docLink);\n",
       "        }\n",
       "      </script>\n",
       "    </div>\n",
       "  </div>\n",
       "  "
      ],
      "text/plain": [
       "               Short description  ... Assignment group\n",
       "0                    login issue  ...            GRP_0\n",
       "1                        outlook  ...            GRP_0\n",
       "2             cant log in to vpn  ...            GRP_0\n",
       "3  unable to access hr_tool page  ...            GRP_0\n",
       "4                   skype error   ...            GRP_0\n",
       "\n",
       "[5 rows x 4 columns]"
      ]
     },
     "execution_count": 5,
     "metadata": {},
     "output_type": "execute_result"
    }
   ],
   "source": [
    "df.head()"
   ]
  },
  {
   "cell_type": "code",
   "execution_count": null,
   "metadata": {
    "id": "151qOXnpPKa_"
   },
   "outputs": [],
   "source": [
    "df = df.replace(r'\\n',' ', regex=True). replace(r'_x000D_',' ', regex=True)"
   ]
  },
  {
   "cell_type": "code",
   "execution_count": null,
   "metadata": {
    "colab": {
     "base_uri": "https://localhost:8080/",
     "height": 206
    },
    "id": "rAa0ztSkPUc-",
    "outputId": "d17b94bb-1cb2-4a0d-f989-f0edfe050007"
   },
   "outputs": [
    {
     "data": {
      "text/html": [
       "\n",
       "  <div id=\"df-1c3a5ea9-769a-421d-a488-76c30733ba66\">\n",
       "    <div class=\"colab-df-container\">\n",
       "      <div>\n",
       "<style scoped>\n",
       "    .dataframe tbody tr th:only-of-type {\n",
       "        vertical-align: middle;\n",
       "    }\n",
       "\n",
       "    .dataframe tbody tr th {\n",
       "        vertical-align: top;\n",
       "    }\n",
       "\n",
       "    .dataframe thead th {\n",
       "        text-align: right;\n",
       "    }\n",
       "</style>\n",
       "<table border=\"1\" class=\"dataframe\">\n",
       "  <thead>\n",
       "    <tr style=\"text-align: right;\">\n",
       "      <th></th>\n",
       "      <th>Short description</th>\n",
       "      <th>Description</th>\n",
       "      <th>Caller</th>\n",
       "      <th>Assignment group</th>\n",
       "    </tr>\n",
       "  </thead>\n",
       "  <tbody>\n",
       "    <tr>\n",
       "      <th>0</th>\n",
       "      <td>login issue</td>\n",
       "      <td>-verified user details.(employee# &amp; manager na...</td>\n",
       "      <td>spxjnwir pjlcoqds</td>\n",
       "      <td>GRP_0</td>\n",
       "    </tr>\n",
       "    <tr>\n",
       "      <th>1</th>\n",
       "      <td>outlook</td>\n",
       "      <td>received from: hmjdrvpb.komuaywn@gmail.com...</td>\n",
       "      <td>hmjdrvpb komuaywn</td>\n",
       "      <td>GRP_0</td>\n",
       "    </tr>\n",
       "    <tr>\n",
       "      <th>2</th>\n",
       "      <td>cant log in to vpn</td>\n",
       "      <td>received from: eylqgodm.ybqkwiam@gmail.com...</td>\n",
       "      <td>eylqgodm ybqkwiam</td>\n",
       "      <td>GRP_0</td>\n",
       "    </tr>\n",
       "    <tr>\n",
       "      <th>3</th>\n",
       "      <td>unable to access hr_tool page</td>\n",
       "      <td>unable to access hr_tool page</td>\n",
       "      <td>xbkucsvz gcpydteq</td>\n",
       "      <td>GRP_0</td>\n",
       "    </tr>\n",
       "    <tr>\n",
       "      <th>4</th>\n",
       "      <td>skype error</td>\n",
       "      <td>skype error</td>\n",
       "      <td>owlgqjme qhcozdfx</td>\n",
       "      <td>GRP_0</td>\n",
       "    </tr>\n",
       "  </tbody>\n",
       "</table>\n",
       "</div>\n",
       "      <button class=\"colab-df-convert\" onclick=\"convertToInteractive('df-1c3a5ea9-769a-421d-a488-76c30733ba66')\"\n",
       "              title=\"Convert this dataframe to an interactive table.\"\n",
       "              style=\"display:none;\">\n",
       "        \n",
       "  <svg xmlns=\"http://www.w3.org/2000/svg\" height=\"24px\"viewBox=\"0 0 24 24\"\n",
       "       width=\"24px\">\n",
       "    <path d=\"M0 0h24v24H0V0z\" fill=\"none\"/>\n",
       "    <path d=\"M18.56 5.44l.94 2.06.94-2.06 2.06-.94-2.06-.94-.94-2.06-.94 2.06-2.06.94zm-11 1L8.5 8.5l.94-2.06 2.06-.94-2.06-.94L8.5 2.5l-.94 2.06-2.06.94zm10 10l.94 2.06.94-2.06 2.06-.94-2.06-.94-.94-2.06-.94 2.06-2.06.94z\"/><path d=\"M17.41 7.96l-1.37-1.37c-.4-.4-.92-.59-1.43-.59-.52 0-1.04.2-1.43.59L10.3 9.45l-7.72 7.72c-.78.78-.78 2.05 0 2.83L4 21.41c.39.39.9.59 1.41.59.51 0 1.02-.2 1.41-.59l7.78-7.78 2.81-2.81c.8-.78.8-2.07 0-2.86zM5.41 20L4 18.59l7.72-7.72 1.47 1.35L5.41 20z\"/>\n",
       "  </svg>\n",
       "      </button>\n",
       "      \n",
       "  <style>\n",
       "    .colab-df-container {\n",
       "      display:flex;\n",
       "      flex-wrap:wrap;\n",
       "      gap: 12px;\n",
       "    }\n",
       "\n",
       "    .colab-df-convert {\n",
       "      background-color: #E8F0FE;\n",
       "      border: none;\n",
       "      border-radius: 50%;\n",
       "      cursor: pointer;\n",
       "      display: none;\n",
       "      fill: #1967D2;\n",
       "      height: 32px;\n",
       "      padding: 0 0 0 0;\n",
       "      width: 32px;\n",
       "    }\n",
       "\n",
       "    .colab-df-convert:hover {\n",
       "      background-color: #E2EBFA;\n",
       "      box-shadow: 0px 1px 2px rgba(60, 64, 67, 0.3), 0px 1px 3px 1px rgba(60, 64, 67, 0.15);\n",
       "      fill: #174EA6;\n",
       "    }\n",
       "\n",
       "    [theme=dark] .colab-df-convert {\n",
       "      background-color: #3B4455;\n",
       "      fill: #D2E3FC;\n",
       "    }\n",
       "\n",
       "    [theme=dark] .colab-df-convert:hover {\n",
       "      background-color: #434B5C;\n",
       "      box-shadow: 0px 1px 3px 1px rgba(0, 0, 0, 0.15);\n",
       "      filter: drop-shadow(0px 1px 2px rgba(0, 0, 0, 0.3));\n",
       "      fill: #FFFFFF;\n",
       "    }\n",
       "  </style>\n",
       "\n",
       "      <script>\n",
       "        const buttonEl =\n",
       "          document.querySelector('#df-1c3a5ea9-769a-421d-a488-76c30733ba66 button.colab-df-convert');\n",
       "        buttonEl.style.display =\n",
       "          google.colab.kernel.accessAllowed ? 'block' : 'none';\n",
       "\n",
       "        async function convertToInteractive(key) {\n",
       "          const element = document.querySelector('#df-1c3a5ea9-769a-421d-a488-76c30733ba66');\n",
       "          const dataTable =\n",
       "            await google.colab.kernel.invokeFunction('convertToInteractive',\n",
       "                                                     [key], {});\n",
       "          if (!dataTable) return;\n",
       "\n",
       "          const docLinkHtml = 'Like what you see? Visit the ' +\n",
       "            '<a target=\"_blank\" href=https://colab.research.google.com/notebooks/data_table.ipynb>data table notebook</a>'\n",
       "            + ' to learn more about interactive tables.';\n",
       "          element.innerHTML = '';\n",
       "          dataTable['output_type'] = 'display_data';\n",
       "          await google.colab.output.renderOutput(dataTable, element);\n",
       "          const docLink = document.createElement('div');\n",
       "          docLink.innerHTML = docLinkHtml;\n",
       "          element.appendChild(docLink);\n",
       "        }\n",
       "      </script>\n",
       "    </div>\n",
       "  </div>\n",
       "  "
      ],
      "text/plain": [
       "               Short description  ... Assignment group\n",
       "0                    login issue  ...            GRP_0\n",
       "1                        outlook  ...            GRP_0\n",
       "2             cant log in to vpn  ...            GRP_0\n",
       "3  unable to access hr_tool page  ...            GRP_0\n",
       "4                   skype error   ...            GRP_0\n",
       "\n",
       "[5 rows x 4 columns]"
      ]
     },
     "execution_count": 7,
     "metadata": {},
     "output_type": "execute_result"
    }
   ],
   "source": [
    "df.head()"
   ]
  },
  {
   "cell_type": "markdown",
   "metadata": {
    "id": "Eo9d5Otx_NT4"
   },
   "source": [
    "## Length of Each Document (Description)"
   ]
  },
  {
   "cell_type": "code",
   "execution_count": null,
   "metadata": {
    "colab": {
     "base_uri": "https://localhost:8080/",
     "height": 265
    },
    "id": "jA976gkI_wbT",
    "outputId": "a2ab325e-64f1-4ee8-c1cd-fac0d22f1668"
   },
   "outputs": [
    {
     "data": {
      "image/png": "[encoded data removed]",
      "text/plain": [
       "<Figure size 432x288 with 1 Axes>"
      ]
     },
     "metadata": {},
     "output_type": "display_data"
    }
   ],
   "source": [
    "df['Description'].str.len().hist();"
   ]
  },
  {
   "cell_type": "code",
   "execution_count": null,
   "metadata": {
    "colab": {
     "base_uri": "https://localhost:8080/"
    },
    "id": "hF2qOmG_38BX",
    "outputId": "74d14657-e8ad-47f2-e1fb-92bfe87f001a"
   },
   "outputs": [
    {
     "name": "stdout",
     "output_type": "stream",
     "text": [
      "Minimum Length of Sentences in dataset : 1.0\n",
      "Maximum Length of Sentences in dataset : 13001.0\n",
      "Mean Length of Sentences in dataset : 204\n"
     ]
    }
   ],
   "source": [
    "print('Minimum Length of Sentences in dataset : '+str(np.min(df['Description'].str.len())))\n",
    "print('Maximum Length of Sentences in dataset : '+str(np.max(df['Description'].str.len())))\n",
    "print('Mean Length of Sentences in dataset : '+str(round(np.mean(df['Description'].str.len()))))"
   ]
  },
  {
   "cell_type": "markdown",
   "metadata": {
    "id": "HnJbEuUH_TwE"
   },
   "source": [
    "## Detect Language"
   ]
  },
  {
   "cell_type": "code",
   "execution_count": null,
   "metadata": {
    "colab": {
     "base_uri": "https://localhost:8080/"
    },
    "id": "mJ_-N61xBumq",
    "outputId": "7ae2f99d-a669-499b-ae10-b57542af3460"
   },
   "outputs": [
    {
     "name": "stdout",
     "output_type": "stream",
     "text": [
      "Collecting langdetect\n",
      "  Downloading langdetect-1.0.9.tar.gz (981 kB)\n",
      "\u001b[?25l\r",
      "\u001b[K     |▍                               | 10 kB 19.4 MB/s eta 0:00:01\r",
      "\u001b[K     |▊                               | 20 kB 10.5 MB/s eta 0:00:01\r",
      "\u001b[K     |█                               | 30 kB 9.0 MB/s eta 0:00:01\r",
      "\u001b[K     |█▍                              | 40 kB 8.2 MB/s eta 0:00:01\r",
      "\u001b[K     |█▊                              | 51 kB 4.2 MB/s eta 0:00:01\r",
      "\u001b[K     |██                              | 61 kB 5.0 MB/s eta 0:00:01\r",
      "\u001b[K     |██▍                             | 71 kB 5.4 MB/s eta 0:00:01\r",
      "\u001b[K     |██▊                             | 81 kB 5.6 MB/s eta 0:00:01\r",
      "\u001b[K     |███                             | 92 kB 6.1 MB/s eta 0:00:01\r",
      "\u001b[K     |███▍                            | 102 kB 4.8 MB/s eta 0:00:01\r",
      "\u001b[K     |███▊                            | 112 kB 4.8 MB/s eta 0:00:01\r",
      "\u001b[K     |████                            | 122 kB 4.8 MB/s eta 0:00:01\r",
      "\u001b[K     |████▍                           | 133 kB 4.8 MB/s eta 0:00:01\r",
      "\u001b[K     |████▊                           | 143 kB 4.8 MB/s eta 0:00:01\r",
      "\u001b[K     |█████                           | 153 kB 4.8 MB/s eta 0:00:01\r",
      "\u001b[K     |█████▍                          | 163 kB 4.8 MB/s eta 0:00:01\r",
      "\u001b[K     |█████▊                          | 174 kB 4.8 MB/s eta 0:00:01\r",
      "\u001b[K     |██████                          | 184 kB 4.8 MB/s eta 0:00:01\r",
      "\u001b[K     |██████▍                         | 194 kB 4.8 MB/s eta 0:00:01\r",
      "\u001b[K     |██████▊                         | 204 kB 4.8 MB/s eta 0:00:01\r",
      "\u001b[K     |███████                         | 215 kB 4.8 MB/s eta 0:00:01\r",
      "\u001b[K     |███████▍                        | 225 kB 4.8 MB/s eta 0:00:01\r",
      "\u001b[K     |███████▊                        | 235 kB 4.8 MB/s eta 0:00:01\r",
      "\u001b[K     |████████                        | 245 kB 4.8 MB/s eta 0:00:01\r",
      "\u001b[K     |████████▍                       | 256 kB 4.8 MB/s eta 0:00:01\r",
      "\u001b[K     |████████▊                       | 266 kB 4.8 MB/s eta 0:00:01\r",
      "\u001b[K     |█████████                       | 276 kB 4.8 MB/s eta 0:00:01\r",
      "\u001b[K     |█████████▍                      | 286 kB 4.8 MB/s eta 0:00:01\r",
      "\u001b[K     |█████████▊                      | 296 kB 4.8 MB/s eta 0:00:01\r",
      "\u001b[K     |██████████                      | 307 kB 4.8 MB/s eta 0:00:01\r",
      "\u001b[K     |██████████▍                     | 317 kB 4.8 MB/s eta 0:00:01\r",
      "\u001b[K     |██████████▊                     | 327 kB 4.8 MB/s eta 0:00:01\r",
      "\u001b[K     |███████████                     | 337 kB 4.8 MB/s eta 0:00:01\r",
      "\u001b[K     |███████████▍                    | 348 kB 4.8 MB/s eta 0:00:01\r",
      "\u001b[K     |███████████▊                    | 358 kB 4.8 MB/s eta 0:00:01\r",
      "\u001b[K     |████████████                    | 368 kB 4.8 MB/s eta 0:00:01\r",
      "\u001b[K     |████████████▍                   | 378 kB 4.8 MB/s eta 0:00:01\r",
      "\u001b[K     |████████████▊                   | 389 kB 4.8 MB/s eta 0:00:01\r",
      "\u001b[K     |█████████████                   | 399 kB 4.8 MB/s eta 0:00:01\r",
      "\u001b[K     |█████████████▍                  | 409 kB 4.8 MB/s eta 0:00:01\r",
      "\u001b[K     |█████████████▊                  | 419 kB 4.8 MB/s eta 0:00:01\r",
      "\u001b[K     |██████████████                  | 430 kB 4.8 MB/s eta 0:00:01\r",
      "\u001b[K     |██████████████▍                 | 440 kB 4.8 MB/s eta 0:00:01\r",
      "\u001b[K     |██████████████▊                 | 450 kB 4.8 MB/s eta 0:00:01\r",
      "\u001b[K     |███████████████                 | 460 kB 4.8 MB/s eta 0:00:01\r",
      "\u001b[K     |███████████████▍                | 471 kB 4.8 MB/s eta 0:00:01\r",
      "\u001b[K     |███████████████▊                | 481 kB 4.8 MB/s eta 0:00:01\r",
      "\u001b[K     |████████████████                | 491 kB 4.8 MB/s eta 0:00:01\r",
      "\u001b[K     |████████████████▍               | 501 kB 4.8 MB/s eta 0:00:01\r",
      "\u001b[K     |████████████████▊               | 512 kB 4.8 MB/s eta 0:00:01\r",
      "\u001b[K     |█████████████████               | 522 kB 4.8 MB/s eta 0:00:01\r",
      "\u001b[K     |█████████████████▍              | 532 kB 4.8 MB/s eta 0:00:01\r",
      "\u001b[K     |█████████████████▊              | 542 kB 4.8 MB/s eta 0:00:01\r",
      "\u001b[K     |██████████████████              | 552 kB 4.8 MB/s eta 0:00:01\r",
      "\u001b[K     |██████████████████▍             | 563 kB 4.8 MB/s eta 0:00:01\r",
      "\u001b[K     |██████████████████▊             | 573 kB 4.8 MB/s eta 0:00:01\r",
      "\u001b[K     |███████████████████             | 583 kB 4.8 MB/s eta 0:00:01\r",
      "\u001b[K     |███████████████████▍            | 593 kB 4.8 MB/s eta 0:00:01\r",
      "\u001b[K     |███████████████████▊            | 604 kB 4.8 MB/s eta 0:00:01\r",
      "\u001b[K     |████████████████████            | 614 kB 4.8 MB/s eta 0:00:01\r",
      "\u001b[K     |████████████████████▍           | 624 kB 4.8 MB/s eta 0:00:01\r",
      "\u001b[K     |████████████████████▊           | 634 kB 4.8 MB/s eta 0:00:01\r",
      "\u001b[K     |█████████████████████           | 645 kB 4.8 MB/s eta 0:00:01\r",
      "\u001b[K     |█████████████████████▍          | 655 kB 4.8 MB/s eta 0:00:01\r",
      "\u001b[K     |█████████████████████▊          | 665 kB 4.8 MB/s eta 0:00:01\r",
      "\u001b[K     |██████████████████████          | 675 kB 4.8 MB/s eta 0:00:01\r",
      "\u001b[K     |██████████████████████▍         | 686 kB 4.8 MB/s eta 0:00:01\r",
      "\u001b[K     |██████████████████████▊         | 696 kB 4.8 MB/s eta 0:00:01\r",
      "\u001b[K     |███████████████████████         | 706 kB 4.8 MB/s eta 0:00:01\r",
      "\u001b[K     |███████████████████████▍        | 716 kB 4.8 MB/s eta 0:00:01\r",
      "\u001b[K     |███████████████████████▊        | 727 kB 4.8 MB/s eta 0:00:01\r",
      "\u001b[K     |████████████████████████        | 737 kB 4.8 MB/s eta 0:00:01\r",
      "\u001b[K     |████████████████████████▍       | 747 kB 4.8 MB/s eta 0:00:01\r",
      "\u001b[K     |████████████████████████▊       | 757 kB 4.8 MB/s eta 0:00:01\r",
      "\u001b[K     |█████████████████████████       | 768 kB 4.8 MB/s eta 0:00:01\r",
      "\u001b[K     |█████████████████████████▍      | 778 kB 4.8 MB/s eta 0:00:01\r",
      "\u001b[K     |█████████████████████████▊      | 788 kB 4.8 MB/s eta 0:00:01\r",
      "\u001b[K     |██████████████████████████      | 798 kB 4.8 MB/s eta 0:00:01\r",
      "\u001b[K     |██████████████████████████▍     | 808 kB 4.8 MB/s eta 0:00:01\r",
      "\u001b[K     |██████████████████████████▊     | 819 kB 4.8 MB/s eta 0:00:01\r",
      "\u001b[K     |███████████████████████████     | 829 kB 4.8 MB/s eta 0:00:01\r",
      "\u001b[K     |███████████████████████████▍    | 839 kB 4.8 MB/s eta 0:00:01\r",
      "\u001b[K     |███████████████████████████▊    | 849 kB 4.8 MB/s eta 0:00:01\r",
      "\u001b[K     |████████████████████████████    | 860 kB 4.8 MB/s eta 0:00:01\r",
      "\u001b[K     |████████████████████████████▍   | 870 kB 4.8 MB/s eta 0:00:01\r",
      "\u001b[K     |████████████████████████████▊   | 880 kB 4.8 MB/s eta 0:00:01\r",
      "\u001b[K     |█████████████████████████████   | 890 kB 4.8 MB/s eta 0:00:01\r",
      "\u001b[K     |█████████████████████████████▍  | 901 kB 4.8 MB/s eta 0:00:01\r",
      "\u001b[K     |█████████████████████████████▊  | 911 kB 4.8 MB/s eta 0:00:01\r",
      "\u001b[K     |██████████████████████████████  | 921 kB 4.8 MB/s eta 0:00:01\r",
      "\u001b[K     |██████████████████████████████▍ | 931 kB 4.8 MB/s eta 0:00:01\r",
      "\u001b[K     |██████████████████████████████▊ | 942 kB 4.8 MB/s eta 0:00:01\r",
      "\u001b[K     |███████████████████████████████ | 952 kB 4.8 MB/s eta 0:00:01\r",
      "\u001b[K     |███████████████████████████████▍| 962 kB 4.8 MB/s eta 0:00:01\r",
      "\u001b[K     |███████████████████████████████▊| 972 kB 4.8 MB/s eta 0:00:01\r",
      "\u001b[K     |████████████████████████████████| 981 kB 4.8 MB/s \n",
      "\u001b[?25hRequirement already satisfied: six in /usr/local/lib/python3.7/dist-packages (from langdetect) (1.15.0)\n",
      "Building wheels for collected packages: langdetect\n",
      "  Building wheel for langdetect (setup.py) ... \u001b[?25l\u001b[?25hdone\n",
      "  Created wheel for langdetect: filename=langdetect-1.0.9-py3-none-any.whl size=993242 sha256=aefe106be531911871f56f6b5d1f1b7bf4326b1d87a4d64035dd2b078ee40297\n",
      "  Stored in directory: /root/.cache/pip/wheels/c5/96/8a/f90c59ed25d75e50a8c10a1b1c2d4c402e4dacfa87f3aff36a\n",
      "Successfully built langdetect\n",
      "Installing collected packages: langdetect\n",
      "Successfully installed langdetect-1.0.9\n"
     ]
    }
   ],
   "source": [
    "pip install langdetect"
   ]
  },
  {
   "cell_type": "code",
   "execution_count": null,
   "metadata": {
    "id": "xv2WbLsd6nlD"
   },
   "outputs": [],
   "source": [
    "from langdetect import detect"
   ]
  },
  {
   "cell_type": "code",
   "execution_count": null,
   "metadata": {
    "id": "1A74w7ibBqKI"
   },
   "outputs": [],
   "source": [
    "def det(x):\n",
    "    try:\n",
    "        lang = detect(x)\n",
    "    except:\n",
    "        lang = 'Other'\n",
    "    return lang\n",
    "\n",
    "df['Lang'] = df['Description'].apply(det)"
   ]
  },
  {
   "cell_type": "code",
   "execution_count": null,
   "metadata": {
    "colab": {
     "base_uri": "https://localhost:8080/",
     "height": 206
    },
    "id": "d1TPXhy7By1w",
    "outputId": "c5bb7711-bfa2-452c-81e5-930f89b39ad6"
   },
   "outputs": [
    {
     "data": {
      "text/html": [
       "\n",
       "  <div id=\"df-d04f070b-7187-44a8-811c-61fb92ea802b\">\n",
       "    <div class=\"colab-df-container\">\n",
       "      <div>\n",
       "<style scoped>\n",
       "    .dataframe tbody tr th:only-of-type {\n",
       "        vertical-align: middle;\n",
       "    }\n",
       "\n",
       "    .dataframe tbody tr th {\n",
       "        vertical-align: top;\n",
       "    }\n",
       "\n",
       "    .dataframe thead th {\n",
       "        text-align: right;\n",
       "    }\n",
       "</style>\n",
       "<table border=\"1\" class=\"dataframe\">\n",
       "  <thead>\n",
       "    <tr style=\"text-align: right;\">\n",
       "      <th></th>\n",
       "      <th>Short description</th>\n",
       "      <th>Description</th>\n",
       "      <th>Caller</th>\n",
       "      <th>Assignment group</th>\n",
       "      <th>Lang</th>\n",
       "    </tr>\n",
       "  </thead>\n",
       "  <tbody>\n",
       "    <tr>\n",
       "      <th>0</th>\n",
       "      <td>login issue</td>\n",
       "      <td>-verified user details.(employee# &amp; manager na...</td>\n",
       "      <td>spxjnwir pjlcoqds</td>\n",
       "      <td>GRP_0</td>\n",
       "      <td>en</td>\n",
       "    </tr>\n",
       "    <tr>\n",
       "      <th>1</th>\n",
       "      <td>outlook</td>\n",
       "      <td>received from: hmjdrvpb.komuaywn@gmail.com...</td>\n",
       "      <td>hmjdrvpb komuaywn</td>\n",
       "      <td>GRP_0</td>\n",
       "      <td>en</td>\n",
       "    </tr>\n",
       "    <tr>\n",
       "      <th>2</th>\n",
       "      <td>cant log in to vpn</td>\n",
       "      <td>received from: eylqgodm.ybqkwiam@gmail.com...</td>\n",
       "      <td>eylqgodm ybqkwiam</td>\n",
       "      <td>GRP_0</td>\n",
       "      <td>en</td>\n",
       "    </tr>\n",
       "    <tr>\n",
       "      <th>3</th>\n",
       "      <td>unable to access hr_tool page</td>\n",
       "      <td>unable to access hr_tool page</td>\n",
       "      <td>xbkucsvz gcpydteq</td>\n",
       "      <td>GRP_0</td>\n",
       "      <td>en</td>\n",
       "    </tr>\n",
       "    <tr>\n",
       "      <th>4</th>\n",
       "      <td>skype error</td>\n",
       "      <td>skype error</td>\n",
       "      <td>owlgqjme qhcozdfx</td>\n",
       "      <td>GRP_0</td>\n",
       "      <td>no</td>\n",
       "    </tr>\n",
       "  </tbody>\n",
       "</table>\n",
       "</div>\n",
       "      <button class=\"colab-df-convert\" onclick=\"convertToInteractive('df-d04f070b-7187-44a8-811c-61fb92ea802b')\"\n",
       "              title=\"Convert this dataframe to an interactive table.\"\n",
       "              style=\"display:none;\">\n",
       "        \n",
       "  <svg xmlns=\"http://www.w3.org/2000/svg\" height=\"24px\"viewBox=\"0 0 24 24\"\n",
       "       width=\"24px\">\n",
       "    <path d=\"M0 0h24v24H0V0z\" fill=\"none\"/>\n",
       "    <path d=\"M18.56 5.44l.94 2.06.94-2.06 2.06-.94-2.06-.94-.94-2.06-.94 2.06-2.06.94zm-11 1L8.5 8.5l.94-2.06 2.06-.94-2.06-.94L8.5 2.5l-.94 2.06-2.06.94zm10 10l.94 2.06.94-2.06 2.06-.94-2.06-.94-.94-2.06-.94 2.06-2.06.94z\"/><path d=\"M17.41 7.96l-1.37-1.37c-.4-.4-.92-.59-1.43-.59-.52 0-1.04.2-1.43.59L10.3 9.45l-7.72 7.72c-.78.78-.78 2.05 0 2.83L4 21.41c.39.39.9.59 1.41.59.51 0 1.02-.2 1.41-.59l7.78-7.78 2.81-2.81c.8-.78.8-2.07 0-2.86zM5.41 20L4 18.59l7.72-7.72 1.47 1.35L5.41 20z\"/>\n",
       "  </svg>\n",
       "      </button>\n",
       "      \n",
       "  <style>\n",
       "    .colab-df-container {\n",
       "      display:flex;\n",
       "      flex-wrap:wrap;\n",
       "      gap: 12px;\n",
       "    }\n",
       "\n",
       "    .colab-df-convert {\n",
       "      background-color: #E8F0FE;\n",
       "      border: none;\n",
       "      border-radius: 50%;\n",
       "      cursor: pointer;\n",
       "      display: none;\n",
       "      fill: #1967D2;\n",
       "      height: 32px;\n",
       "      padding: 0 0 0 0;\n",
       "      width: 32px;\n",
       "    }\n",
       "\n",
       "    .colab-df-convert:hover {\n",
       "      background-color: #E2EBFA;\n",
       "      box-shadow: 0px 1px 2px rgba(60, 64, 67, 0.3), 0px 1px 3px 1px rgba(60, 64, 67, 0.15);\n",
       "      fill: #174EA6;\n",
       "    }\n",
       "\n",
       "    [theme=dark] .colab-df-convert {\n",
       "      background-color: #3B4455;\n",
       "      fill: #D2E3FC;\n",
       "    }\n",
       "\n",
       "    [theme=dark] .colab-df-convert:hover {\n",
       "      background-color: #434B5C;\n",
       "      box-shadow: 0px 1px 3px 1px rgba(0, 0, 0, 0.15);\n",
       "      filter: drop-shadow(0px 1px 2px rgba(0, 0, 0, 0.3));\n",
       "      fill: #FFFFFF;\n",
       "    }\n",
       "  </style>\n",
       "\n",
       "      <script>\n",
       "        const buttonEl =\n",
       "          document.querySelector('#df-d04f070b-7187-44a8-811c-61fb92ea802b button.colab-df-convert');\n",
       "        buttonEl.style.display =\n",
       "          google.colab.kernel.accessAllowed ? 'block' : 'none';\n",
       "\n",
       "        async function convertToInteractive(key) {\n",
       "          const element = document.querySelector('#df-d04f070b-7187-44a8-811c-61fb92ea802b');\n",
       "          const dataTable =\n",
       "            await google.colab.kernel.invokeFunction('convertToInteractive',\n",
       "                                                     [key], {});\n",
       "          if (!dataTable) return;\n",
       "\n",
       "          const docLinkHtml = 'Like what you see? Visit the ' +\n",
       "            '<a target=\"_blank\" href=https://colab.research.google.com/notebooks/data_table.ipynb>data table notebook</a>'\n",
       "            + ' to learn more about interactive tables.';\n",
       "          element.innerHTML = '';\n",
       "          dataTable['output_type'] = 'display_data';\n",
       "          await google.colab.output.renderOutput(dataTable, element);\n",
       "          const docLink = document.createElement('div');\n",
       "          docLink.innerHTML = docLinkHtml;\n",
       "          element.appendChild(docLink);\n",
       "        }\n",
       "      </script>\n",
       "    </div>\n",
       "  </div>\n",
       "  "
      ],
      "text/plain": [
       "               Short description  ... Lang\n",
       "0                    login issue  ...   en\n",
       "1                        outlook  ...   en\n",
       "2             cant log in to vpn  ...   en\n",
       "3  unable to access hr_tool page  ...   en\n",
       "4                   skype error   ...   no\n",
       "\n",
       "[5 rows x 5 columns]"
      ]
     },
     "execution_count": 13,
     "metadata": {},
     "output_type": "execute_result"
    }
   ],
   "source": [
    "df.head()"
   ]
  },
  {
   "cell_type": "code",
   "execution_count": null,
   "metadata": {
    "colab": {
     "base_uri": "https://localhost:8080/"
    },
    "id": "0e5OWzFLqaRh",
    "outputId": "60614b6a-c878-407d-c016-f56ea37965dc"
   },
   "outputs": [
    {
     "data": {
      "text/plain": [
       "en       7001\n",
       "de        400\n",
       "af        264\n",
       "it        157\n",
       "fr        121\n",
       "sv         82\n",
       "da         79\n",
       "no         66\n",
       "ca         61\n",
       "nl         59\n",
       "es         52\n",
       "pl         31\n",
       "pt         28\n",
       "ro         17\n",
       "tl         11\n",
       "cy         10\n",
       "sl         10\n",
       "et          8\n",
       "sq          7\n",
       "fi          6\n",
       "so          5\n",
       "hr          5\n",
       "tr          4\n",
       "id          4\n",
       "Other       4\n",
       "sk          3\n",
       "lt          2\n",
       "sw          1\n",
       "cs          1\n",
       "lv          1\n",
       "Name: Lang, dtype: int64"
      ]
     },
     "execution_count": 14,
     "metadata": {},
     "output_type": "execute_result"
    }
   ],
   "source": [
    "df['Lang'].value_counts()"
   ]
  },
  {
   "cell_type": "code",
   "execution_count": null,
   "metadata": {
    "colab": {
     "base_uri": "https://localhost:8080/",
     "height": 425
    },
    "id": "qnKU0Boy6jVh",
    "outputId": "d44e1320-713a-466d-d1db-856bfcd9953f"
   },
   "outputs": [
    {
     "data": {
      "text/plain": [
       "Text(0.5, 1.0, 'Description Language Codes')"
      ]
     },
     "execution_count": 15,
     "metadata": {},
     "output_type": "execute_result"
    },
    {
     "data": {
      "image/png": "[encoded data removed]",
      "text/plain": [
       "<Figure size 720x432 with 1 Axes>"
      ]
     },
     "metadata": {},
     "output_type": "display_data"
    }
   ],
   "source": [
    "top_10 = df['Lang'].value_counts()\n",
    "top_10.plot(kind='bar',figsize=(10,6))\n",
    "plt.title('Description Language Codes')"
   ]
  },
  {
   "cell_type": "markdown",
   "metadata": {
    "id": "UIJBIkjQ_YP4"
   },
   "source": [
    "## Class Distribution"
   ]
  },
  {
   "cell_type": "code",
   "execution_count": null,
   "metadata": {
    "colab": {
     "base_uri": "https://localhost:8080/"
    },
    "id": "23MPPGCGVchk",
    "outputId": "0b14d493-b43f-4ef1-f9d0-ce30caec67ec"
   },
   "outputs": [
    {
     "data": {
      "text/plain": [
       "GRP_0     3976\n",
       "GRP_8      661\n",
       "GRP_24     289\n",
       "GRP_12     257\n",
       "GRP_9      252\n",
       "          ... \n",
       "GRP_64       1\n",
       "GRP_67       1\n",
       "GRP_35       1\n",
       "GRP_70       1\n",
       "GRP_73       1\n",
       "Name: Assignment group, Length: 74, dtype: int64"
      ]
     },
     "execution_count": 17,
     "metadata": {},
     "output_type": "execute_result"
    }
   ],
   "source": [
    "df['Assignment group'].value_counts()"
   ]
  },
  {
   "cell_type": "markdown",
   "metadata": {
    "id": "y1--_5lR_btg"
   },
   "source": [
    "## Missing Values in Description"
   ]
  },
  {
   "cell_type": "code",
   "execution_count": null,
   "metadata": {
    "colab": {
     "base_uri": "https://localhost:8080/"
    },
    "id": "3rhaln1Y8K3i",
    "outputId": "71ab1e63-70f4-4467-847c-c3e27d9137f8"
   },
   "outputs": [
    {
     "data": {
      "text/plain": [
       "Short description    8\n",
       "Description          1\n",
       "Caller               0\n",
       "Assignment group     0\n",
       "Lang                 0\n",
       "dtype: int64"
      ]
     },
     "execution_count": 21,
     "metadata": {},
     "output_type": "execute_result"
    }
   ],
   "source": [
    "df.isnull().sum()"
   ]
  },
  {
   "cell_type": "code",
   "execution_count": null,
   "metadata": {
    "colab": {
     "base_uri": "https://localhost:8080/"
    },
    "id": "wh0yUVDw8tY-",
    "outputId": "1f0c3a17-d0c1-4abf-c298-80b98cdb67d2"
   },
   "outputs": [
    {
     "data": {
      "text/plain": [
       "Short description    8\n",
       "Description          1\n",
       "Caller               0\n",
       "Assignment group     0\n",
       "Lang                 0\n",
       "dtype: int64"
      ]
     },
     "execution_count": 22,
     "metadata": {},
     "output_type": "execute_result"
    }
   ],
   "source": [
    "df.isna().sum()"
   ]
  },
  {
   "cell_type": "code",
   "execution_count": null,
   "metadata": {
    "colab": {
     "base_uri": "https://localhost:8080/",
     "height": 81
    },
    "id": "8o7K61Q28wN8",
    "outputId": "53ef51db-a408-46ac-ac48-0d02bca7ac01"
   },
   "outputs": [
    {
     "data": {
      "text/html": [
       "\n",
       "  <div id=\"df-5fcd3ec3-d3eb-4ff8-8f28-d8610076779c\">\n",
       "    <div class=\"colab-df-container\">\n",
       "      <div>\n",
       "<style scoped>\n",
       "    .dataframe tbody tr th:only-of-type {\n",
       "        vertical-align: middle;\n",
       "    }\n",
       "\n",
       "    .dataframe tbody tr th {\n",
       "        vertical-align: top;\n",
       "    }\n",
       "\n",
       "    .dataframe thead th {\n",
       "        text-align: right;\n",
       "    }\n",
       "</style>\n",
       "<table border=\"1\" class=\"dataframe\">\n",
       "  <thead>\n",
       "    <tr style=\"text-align: right;\">\n",
       "      <th></th>\n",
       "      <th>Short description</th>\n",
       "      <th>Description</th>\n",
       "      <th>Caller</th>\n",
       "      <th>Assignment group</th>\n",
       "      <th>Lang</th>\n",
       "    </tr>\n",
       "  </thead>\n",
       "  <tbody>\n",
       "    <tr>\n",
       "      <th>4395</th>\n",
       "      <td>i am locked out of skype</td>\n",
       "      <td>NaN</td>\n",
       "      <td>viyglzfo ajtfzpkb</td>\n",
       "      <td>GRP_0</td>\n",
       "      <td>Other</td>\n",
       "    </tr>\n",
       "  </tbody>\n",
       "</table>\n",
       "</div>\n",
       "      <button class=\"colab-df-convert\" onclick=\"convertToInteractive('df-5fcd3ec3-d3eb-4ff8-8f28-d8610076779c')\"\n",
       "              title=\"Convert this dataframe to an interactive table.\"\n",
       "              style=\"display:none;\">\n",
       "        \n",
       "  <svg xmlns=\"http://www.w3.org/2000/svg\" height=\"24px\"viewBox=\"0 0 24 24\"\n",
       "       width=\"24px\">\n",
       "    <path d=\"M0 0h24v24H0V0z\" fill=\"none\"/>\n",
       "    <path d=\"M18.56 5.44l.94 2.06.94-2.06 2.06-.94-2.06-.94-.94-2.06-.94 2.06-2.06.94zm-11 1L8.5 8.5l.94-2.06 2.06-.94-2.06-.94L8.5 2.5l-.94 2.06-2.06.94zm10 10l.94 2.06.94-2.06 2.06-.94-2.06-.94-.94-2.06-.94 2.06-2.06.94z\"/><path d=\"M17.41 7.96l-1.37-1.37c-.4-.4-.92-.59-1.43-.59-.52 0-1.04.2-1.43.59L10.3 9.45l-7.72 7.72c-.78.78-.78 2.05 0 2.83L4 21.41c.39.39.9.59 1.41.59.51 0 1.02-.2 1.41-.59l7.78-7.78 2.81-2.81c.8-.78.8-2.07 0-2.86zM5.41 20L4 18.59l7.72-7.72 1.47 1.35L5.41 20z\"/>\n",
       "  </svg>\n",
       "      </button>\n",
       "      \n",
       "  <style>\n",
       "    .colab-df-container {\n",
       "      display:flex;\n",
       "      flex-wrap:wrap;\n",
       "      gap: 12px;\n",
       "    }\n",
       "\n",
       "    .colab-df-convert {\n",
       "      background-color: #E8F0FE;\n",
       "      border: none;\n",
       "      border-radius: 50%;\n",
       "      cursor: pointer;\n",
       "      display: none;\n",
       "      fill: #1967D2;\n",
       "      height: 32px;\n",
       "      padding: 0 0 0 0;\n",
       "      width: 32px;\n",
       "    }\n",
       "\n",
       "    .colab-df-convert:hover {\n",
       "      background-color: #E2EBFA;\n",
       "      box-shadow: 0px 1px 2px rgba(60, 64, 67, 0.3), 0px 1px 3px 1px rgba(60, 64, 67, 0.15);\n",
       "      fill: #174EA6;\n",
       "    }\n",
       "\n",
       "    [theme=dark] .colab-df-convert {\n",
       "      background-color: #3B4455;\n",
       "      fill: #D2E3FC;\n",
       "    }\n",
       "\n",
       "    [theme=dark] .colab-df-convert:hover {\n",
       "      background-color: #434B5C;\n",
       "      box-shadow: 0px 1px 3px 1px rgba(0, 0, 0, 0.15);\n",
       "      filter: drop-shadow(0px 1px 2px rgba(0, 0, 0, 0.3));\n",
       "      fill: #FFFFFF;\n",
       "    }\n",
       "  </style>\n",
       "\n",
       "      <script>\n",
       "        const buttonEl =\n",
       "          document.querySelector('#df-5fcd3ec3-d3eb-4ff8-8f28-d8610076779c button.colab-df-convert');\n",
       "        buttonEl.style.display =\n",
       "          google.colab.kernel.accessAllowed ? 'block' : 'none';\n",
       "\n",
       "        async function convertToInteractive(key) {\n",
       "          const element = document.querySelector('#df-5fcd3ec3-d3eb-4ff8-8f28-d8610076779c');\n",
       "          const dataTable =\n",
       "            await google.colab.kernel.invokeFunction('convertToInteractive',\n",
       "                                                     [key], {});\n",
       "          if (!dataTable) return;\n",
       "\n",
       "          const docLinkHtml = 'Like what you see? Visit the ' +\n",
       "            '<a target=\"_blank\" href=https://colab.research.google.com/notebooks/data_table.ipynb>data table notebook</a>'\n",
       "            + ' to learn more about interactive tables.';\n",
       "          element.innerHTML = '';\n",
       "          dataTable['output_type'] = 'display_data';\n",
       "          await google.colab.output.renderOutput(dataTable, element);\n",
       "          const docLink = document.createElement('div');\n",
       "          docLink.innerHTML = docLinkHtml;\n",
       "          element.appendChild(docLink);\n",
       "        }\n",
       "      </script>\n",
       "    </div>\n",
       "  </div>\n",
       "  "
      ],
      "text/plain": [
       "             Short description Description  ... Assignment group   Lang\n",
       "4395  i am locked out of skype         NaN  ...            GRP_0  Other\n",
       "\n",
       "[1 rows x 5 columns]"
      ]
     },
     "execution_count": 23,
     "metadata": {},
     "output_type": "execute_result"
    }
   ],
   "source": [
    "df[df['Description'].isna() == True]"
   ]
  },
  {
   "cell_type": "code",
   "execution_count": null,
   "metadata": {
    "id": "S4uIhiTo9B8d"
   },
   "outputs": [],
   "source": [
    "df['Description'].fillna(df['Short description'], inplace=True)"
   ]
  },
  {
   "cell_type": "code",
   "execution_count": null,
   "metadata": {
    "colab": {
     "base_uri": "https://localhost:8080/"
    },
    "id": "fGrksn3998mj",
    "outputId": "11cfe240-7b2b-4295-8876-2fd5bda3ae76"
   },
   "outputs": [
    {
     "data": {
      "text/plain": [
       "Short description    i am locked out of skype\n",
       "Description          i am locked out of skype\n",
       "Name: 4395, dtype: object"
      ]
     },
     "execution_count": 25,
     "metadata": {},
     "output_type": "execute_result"
    }
   ],
   "source": [
    " df[['Short description', 'Description']].iloc[4395]"
   ]
  },
  {
   "cell_type": "code",
   "execution_count": null,
   "metadata": {
    "colab": {
     "base_uri": "https://localhost:8080/"
    },
    "id": "7Gf0XRSH9lL-",
    "outputId": "b66591e5-29af-40eb-ce28-dd8f503d0569"
   },
   "outputs": [
    {
     "data": {
      "text/plain": [
       "Short description    8\n",
       "Description          0\n",
       "Caller               0\n",
       "Assignment group     0\n",
       "Lang                 0\n",
       "dtype: int64"
      ]
     },
     "execution_count": 26,
     "metadata": {},
     "output_type": "execute_result"
    }
   ],
   "source": [
    "df.isna().sum()"
   ]
  },
  {
   "cell_type": "markdown",
   "metadata": {
    "id": "AboSX4xL_zdA"
   },
   "source": [
    "# Preprocess Data"
   ]
  },
  {
   "cell_type": "markdown",
   "metadata": {
    "id": "x6zW3pQ1O1P7"
   },
   "source": [
    "## Remove Special Characters and Numerical Values"
   ]
  },
  {
   "cell_type": "code",
   "execution_count": null,
   "metadata": {
    "id": "x5DSZ-Z1_oj-"
   },
   "outputs": [],
   "source": [
    "df_en = df[df['Lang'] == 'en']"
   ]
  },
  {
   "cell_type": "code",
   "execution_count": null,
   "metadata": {
    "id": "8s5MVqLw_xFc"
   },
   "outputs": [],
   "source": [
    "import re"
   ]
  },
  {
   "cell_type": "code",
   "execution_count": null,
   "metadata": {
    "colab": {
     "base_uri": "https://localhost:8080/"
    },
    "id": "XIlf9co-_6xz",
    "outputId": "709e8811-81fc-4ae6-cfd8-66edc6f24b8c"
   },
   "outputs": [
    {
     "name": "stderr",
     "output_type": "stream",
     "text": [
      "/usr/local/lib/python3.7/dist-packages/ipykernel_launcher.py:1: SettingWithCopyWarning: \n",
      "A value is trying to be set on a copy of a slice from a DataFrame.\n",
      "Try using .loc[row_indexer,col_indexer] = value instead\n",
      "\n",
      "See the caveats in the documentation: https://pandas.pydata.org/pandas-docs/stable/user_guide/indexing.html#returning-a-view-versus-a-copy\n",
      "  \"\"\"Entry point for launching an IPython kernel.\n"
     ]
    }
   ],
   "source": [
    "df_en['PreProcessedText'] = df_en['Description'].apply(lambda x: re.sub('[^A-Za-z ]+', '',x))"
   ]
  },
  {
   "cell_type": "code",
   "execution_count": null,
   "metadata": {
    "colab": {
     "base_uri": "https://localhost:8080/"
    },
    "id": "cQ08ALXbAOt_",
    "outputId": "deeb5505-238f-4626-8a03-5dcaf399fab2"
   },
   "outputs": [
    {
     "name": "stderr",
     "output_type": "stream",
     "text": [
      "/usr/local/lib/python3.7/dist-packages/ipykernel_launcher.py:1: SettingWithCopyWarning: \n",
      "A value is trying to be set on a copy of a slice from a DataFrame.\n",
      "Try using .loc[row_indexer,col_indexer] = value instead\n",
      "\n",
      "See the caveats in the documentation: https://pandas.pydata.org/pandas-docs/stable/user_guide/indexing.html#returning-a-view-versus-a-copy\n",
      "  \"\"\"Entry point for launching an IPython kernel.\n"
     ]
    }
   ],
   "source": [
    "df_en['PreProcessedText'] = df_en['PreProcessedText'].apply(lambda x: x.lower())"
   ]
  },
  {
   "cell_type": "code",
   "execution_count": null,
   "metadata": {
    "colab": {
     "base_uri": "https://localhost:8080/",
     "height": 206
    },
    "id": "x0-1llRmAULE",
    "outputId": "4a4c59cd-188c-43b9-8407-d199b0e9e1a6"
   },
   "outputs": [
    {
     "data": {
      "text/html": [
       "\n",
       "  <div id=\"df-4cbb8eee-4f80-474d-b481-dddcf8c90d87\">\n",
       "    <div class=\"colab-df-container\">\n",
       "      <div>\n",
       "<style scoped>\n",
       "    .dataframe tbody tr th:only-of-type {\n",
       "        vertical-align: middle;\n",
       "    }\n",
       "\n",
       "    .dataframe tbody tr th {\n",
       "        vertical-align: top;\n",
       "    }\n",
       "\n",
       "    .dataframe thead th {\n",
       "        text-align: right;\n",
       "    }\n",
       "</style>\n",
       "<table border=\"1\" class=\"dataframe\">\n",
       "  <thead>\n",
       "    <tr style=\"text-align: right;\">\n",
       "      <th></th>\n",
       "      <th>Short description</th>\n",
       "      <th>Description</th>\n",
       "      <th>Caller</th>\n",
       "      <th>Assignment group</th>\n",
       "      <th>Lang</th>\n",
       "      <th>PreProcessedText</th>\n",
       "    </tr>\n",
       "  </thead>\n",
       "  <tbody>\n",
       "    <tr>\n",
       "      <th>0</th>\n",
       "      <td>login issue</td>\n",
       "      <td>-verified user details.(employee# &amp; manager na...</td>\n",
       "      <td>spxjnwir pjlcoqds</td>\n",
       "      <td>GRP_0</td>\n",
       "      <td>en</td>\n",
       "      <td>verified user detailsemployee  manager name  c...</td>\n",
       "    </tr>\n",
       "    <tr>\n",
       "      <th>1</th>\n",
       "      <td>outlook</td>\n",
       "      <td>received from: hmjdrvpb.komuaywn@gmail.com...</td>\n",
       "      <td>hmjdrvpb komuaywn</td>\n",
       "      <td>GRP_0</td>\n",
       "      <td>en</td>\n",
       "      <td>received from hmjdrvpbkomuaywngmailcom    ...</td>\n",
       "    </tr>\n",
       "    <tr>\n",
       "      <th>2</th>\n",
       "      <td>cant log in to vpn</td>\n",
       "      <td>received from: eylqgodm.ybqkwiam@gmail.com...</td>\n",
       "      <td>eylqgodm ybqkwiam</td>\n",
       "      <td>GRP_0</td>\n",
       "      <td>en</td>\n",
       "      <td>received from eylqgodmybqkwiamgmailcom    ...</td>\n",
       "    </tr>\n",
       "    <tr>\n",
       "      <th>3</th>\n",
       "      <td>unable to access hr_tool page</td>\n",
       "      <td>unable to access hr_tool page</td>\n",
       "      <td>xbkucsvz gcpydteq</td>\n",
       "      <td>GRP_0</td>\n",
       "      <td>en</td>\n",
       "      <td>unable to access hrtool page</td>\n",
       "    </tr>\n",
       "    <tr>\n",
       "      <th>5</th>\n",
       "      <td>unable to log in to engineering tool and skype</td>\n",
       "      <td>unable to log in to engineering tool and skype</td>\n",
       "      <td>eflahbxn ltdgrvkz</td>\n",
       "      <td>GRP_0</td>\n",
       "      <td>en</td>\n",
       "      <td>unable to log in to engineering tool and skype</td>\n",
       "    </tr>\n",
       "  </tbody>\n",
       "</table>\n",
       "</div>\n",
       "      <button class=\"colab-df-convert\" onclick=\"convertToInteractive('df-4cbb8eee-4f80-474d-b481-dddcf8c90d87')\"\n",
       "              title=\"Convert this dataframe to an interactive table.\"\n",
       "              style=\"display:none;\">\n",
       "        \n",
       "  <svg xmlns=\"http://www.w3.org/2000/svg\" height=\"24px\"viewBox=\"0 0 24 24\"\n",
       "       width=\"24px\">\n",
       "    <path d=\"M0 0h24v24H0V0z\" fill=\"none\"/>\n",
       "    <path d=\"M18.56 5.44l.94 2.06.94-2.06 2.06-.94-2.06-.94-.94-2.06-.94 2.06-2.06.94zm-11 1L8.5 8.5l.94-2.06 2.06-.94-2.06-.94L8.5 2.5l-.94 2.06-2.06.94zm10 10l.94 2.06.94-2.06 2.06-.94-2.06-.94-.94-2.06-.94 2.06-2.06.94z\"/><path d=\"M17.41 7.96l-1.37-1.37c-.4-.4-.92-.59-1.43-.59-.52 0-1.04.2-1.43.59L10.3 9.45l-7.72 7.72c-.78.78-.78 2.05 0 2.83L4 21.41c.39.39.9.59 1.41.59.51 0 1.02-.2 1.41-.59l7.78-7.78 2.81-2.81c.8-.78.8-2.07 0-2.86zM5.41 20L4 18.59l7.72-7.72 1.47 1.35L5.41 20z\"/>\n",
       "  </svg>\n",
       "      </button>\n",
       "      \n",
       "  <style>\n",
       "    .colab-df-container {\n",
       "      display:flex;\n",
       "      flex-wrap:wrap;\n",
       "      gap: 12px;\n",
       "    }\n",
       "\n",
       "    .colab-df-convert {\n",
       "      background-color: #E8F0FE;\n",
       "      border: none;\n",
       "      border-radius: 50%;\n",
       "      cursor: pointer;\n",
       "      display: none;\n",
       "      fill: #1967D2;\n",
       "      height: 32px;\n",
       "      padding: 0 0 0 0;\n",
       "      width: 32px;\n",
       "    }\n",
       "\n",
       "    .colab-df-convert:hover {\n",
       "      background-color: #E2EBFA;\n",
       "      box-shadow: 0px 1px 2px rgba(60, 64, 67, 0.3), 0px 1px 3px 1px rgba(60, 64, 67, 0.15);\n",
       "      fill: #174EA6;\n",
       "    }\n",
       "\n",
       "    [theme=dark] .colab-df-convert {\n",
       "      background-color: #3B4455;\n",
       "      fill: #D2E3FC;\n",
       "    }\n",
       "\n",
       "    [theme=dark] .colab-df-convert:hover {\n",
       "      background-color: #434B5C;\n",
       "      box-shadow: 0px 1px 3px 1px rgba(0, 0, 0, 0.15);\n",
       "      filter: drop-shadow(0px 1px 2px rgba(0, 0, 0, 0.3));\n",
       "      fill: #FFFFFF;\n",
       "    }\n",
       "  </style>\n",
       "\n",
       "      <script>\n",
       "        const buttonEl =\n",
       "          document.querySelector('#df-4cbb8eee-4f80-474d-b481-dddcf8c90d87 button.colab-df-convert');\n",
       "        buttonEl.style.display =\n",
       "          google.colab.kernel.accessAllowed ? 'block' : 'none';\n",
       "\n",
       "        async function convertToInteractive(key) {\n",
       "          const element = document.querySelector('#df-4cbb8eee-4f80-474d-b481-dddcf8c90d87');\n",
       "          const dataTable =\n",
       "            await google.colab.kernel.invokeFunction('convertToInteractive',\n",
       "                                                     [key], {});\n",
       "          if (!dataTable) return;\n",
       "\n",
       "          const docLinkHtml = 'Like what you see? Visit the ' +\n",
       "            '<a target=\"_blank\" href=https://colab.research.google.com/notebooks/data_table.ipynb>data table notebook</a>'\n",
       "            + ' to learn more about interactive tables.';\n",
       "          element.innerHTML = '';\n",
       "          dataTable['output_type'] = 'display_data';\n",
       "          await google.colab.output.renderOutput(dataTable, element);\n",
       "          const docLink = document.createElement('div');\n",
       "          docLink.innerHTML = docLinkHtml;\n",
       "          element.appendChild(docLink);\n",
       "        }\n",
       "      </script>\n",
       "    </div>\n",
       "  </div>\n",
       "  "
      ],
      "text/plain": [
       "                                Short description  ...                                   PreProcessedText\n",
       "0                                     login issue  ...  verified user detailsemployee  manager name  c...\n",
       "1                                         outlook  ...      received from hmjdrvpbkomuaywngmailcom    ...\n",
       "2                              cant log in to vpn  ...      received from eylqgodmybqkwiamgmailcom    ...\n",
       "3                   unable to access hr_tool page  ...                       unable to access hrtool page\n",
       "5  unable to log in to engineering tool and skype  ...     unable to log in to engineering tool and skype\n",
       "\n",
       "[5 rows x 6 columns]"
      ]
     },
     "execution_count": 31,
     "metadata": {},
     "output_type": "execute_result"
    }
   ],
   "source": [
    "df_en.head()"
   ]
  },
  {
   "cell_type": "markdown",
   "metadata": {
    "id": "CFxqI7bf_gzO"
   },
   "source": [
    "## Stop Words"
   ]
  },
  {
   "cell_type": "code",
   "execution_count": null,
   "metadata": {
    "colab": {
     "base_uri": "https://localhost:8080/"
    },
    "id": "MCpwzNmxttWW",
    "outputId": "6ff13a00-a490-41c0-f9bb-8bb7a02ea9f7"
   },
   "outputs": [
    {
     "name": "stdout",
     "output_type": "stream",
     "text": [
      "[nltk_data] Downloading package stopwords to /root/nltk_data...\n",
      "[nltk_data]   Unzipping corpora/stopwords.zip.\n"
     ]
    },
    {
     "data": {
      "text/plain": [
       "True"
      ]
     },
     "execution_count": 32,
     "metadata": {},
     "output_type": "execute_result"
    }
   ],
   "source": [
    "import nltk\n",
    "from nltk.corpus import stopwords\n",
    "nltk.download(\"stopwords\")\n"
   ]
  },
  {
   "cell_type": "code",
   "execution_count": null,
   "metadata": {
    "id": "Enr1XBLrunQf"
   },
   "outputs": [],
   "source": [
    "stop_words=set(stopwords.words('english'))"
   ]
  },
  {
   "cell_type": "markdown",
   "metadata": {
    "id": "BSfGS_pvUjY7"
   },
   "source": [
    "## Remove Stop Words"
   ]
  },
  {
   "cell_type": "code",
   "execution_count": null,
   "metadata": {
    "colab": {
     "base_uri": "https://localhost:8080/"
    },
    "id": "cEWrPfTHT1IT",
    "outputId": "a5d7a316-73f4-4fc2-b48c-96c976e6a72c"
   },
   "outputs": [
    {
     "name": "stderr",
     "output_type": "stream",
     "text": [
      "/usr/local/lib/python3.7/dist-packages/ipykernel_launcher.py:1: SettingWithCopyWarning: \n",
      "A value is trying to be set on a copy of a slice from a DataFrame.\n",
      "Try using .loc[row_indexer,col_indexer] = value instead\n",
      "\n",
      "See the caveats in the documentation: https://pandas.pydata.org/pandas-docs/stable/user_guide/indexing.html#returning-a-view-versus-a-copy\n",
      "  \"\"\"Entry point for launching an IPython kernel.\n"
     ]
    }
   ],
   "source": [
    "df_en['txt_wo_stopwords'] = df_en['PreProcessedText'].apply(lambda words: ' '.join(word.lower() for word in words.split() if word not in stop_words))"
   ]
  },
  {
   "cell_type": "code",
   "execution_count": null,
   "metadata": {
    "colab": {
     "base_uri": "https://localhost:8080/",
     "height": 354
    },
    "id": "Nu7rDj3tT8Rm",
    "outputId": "c2a032c9-4680-43ac-e995-30ca21d2031a"
   },
   "outputs": [
    {
     "data": {
      "text/html": [
       "\n",
       "  <div id=\"df-0888b24a-a644-4aa7-857c-73a71936e069\">\n",
       "    <div class=\"colab-df-container\">\n",
       "      <div>\n",
       "<style scoped>\n",
       "    .dataframe tbody tr th:only-of-type {\n",
       "        vertical-align: middle;\n",
       "    }\n",
       "\n",
       "    .dataframe tbody tr th {\n",
       "        vertical-align: top;\n",
       "    }\n",
       "\n",
       "    .dataframe thead th {\n",
       "        text-align: right;\n",
       "    }\n",
       "</style>\n",
       "<table border=\"1\" class=\"dataframe\">\n",
       "  <thead>\n",
       "    <tr style=\"text-align: right;\">\n",
       "      <th></th>\n",
       "      <th>Short description</th>\n",
       "      <th>Description</th>\n",
       "      <th>Caller</th>\n",
       "      <th>Assignment group</th>\n",
       "      <th>Lang</th>\n",
       "      <th>PreProcessedText</th>\n",
       "      <th>txt_wo_stopwords</th>\n",
       "    </tr>\n",
       "  </thead>\n",
       "  <tbody>\n",
       "    <tr>\n",
       "      <th>0</th>\n",
       "      <td>login issue</td>\n",
       "      <td>-verified user details.(employee# &amp; manager na...</td>\n",
       "      <td>spxjnwir pjlcoqds</td>\n",
       "      <td>GRP_0</td>\n",
       "      <td>en</td>\n",
       "      <td>verified user detailsemployee  manager name  c...</td>\n",
       "      <td>verified user detailsemployee manager name che...</td>\n",
       "    </tr>\n",
       "    <tr>\n",
       "      <th>1</th>\n",
       "      <td>outlook</td>\n",
       "      <td>received from: hmjdrvpb.komuaywn@gmail.com...</td>\n",
       "      <td>hmjdrvpb komuaywn</td>\n",
       "      <td>GRP_0</td>\n",
       "      <td>en</td>\n",
       "      <td>received from hmjdrvpbkomuaywngmailcom    ...</td>\n",
       "      <td>received hmjdrvpbkomuaywngmailcom hello team m...</td>\n",
       "    </tr>\n",
       "    <tr>\n",
       "      <th>2</th>\n",
       "      <td>cant log in to vpn</td>\n",
       "      <td>received from: eylqgodm.ybqkwiam@gmail.com...</td>\n",
       "      <td>eylqgodm ybqkwiam</td>\n",
       "      <td>GRP_0</td>\n",
       "      <td>en</td>\n",
       "      <td>received from eylqgodmybqkwiamgmailcom    ...</td>\n",
       "      <td>received eylqgodmybqkwiamgmailcom hi cannot lo...</td>\n",
       "    </tr>\n",
       "    <tr>\n",
       "      <th>3</th>\n",
       "      <td>unable to access hr_tool page</td>\n",
       "      <td>unable to access hr_tool page</td>\n",
       "      <td>xbkucsvz gcpydteq</td>\n",
       "      <td>GRP_0</td>\n",
       "      <td>en</td>\n",
       "      <td>unable to access hrtool page</td>\n",
       "      <td>unable access hrtool page</td>\n",
       "    </tr>\n",
       "    <tr>\n",
       "      <th>5</th>\n",
       "      <td>unable to log in to engineering tool and skype</td>\n",
       "      <td>unable to log in to engineering tool and skype</td>\n",
       "      <td>eflahbxn ltdgrvkz</td>\n",
       "      <td>GRP_0</td>\n",
       "      <td>en</td>\n",
       "      <td>unable to log in to engineering tool and skype</td>\n",
       "      <td>unable log engineering tool skype</td>\n",
       "    </tr>\n",
       "  </tbody>\n",
       "</table>\n",
       "</div>\n",
       "      <button class=\"colab-df-convert\" onclick=\"convertToInteractive('df-0888b24a-a644-4aa7-857c-73a71936e069')\"\n",
       "              title=\"Convert this dataframe to an interactive table.\"\n",
       "              style=\"display:none;\">\n",
       "        \n",
       "  <svg xmlns=\"http://www.w3.org/2000/svg\" height=\"24px\"viewBox=\"0 0 24 24\"\n",
       "       width=\"24px\">\n",
       "    <path d=\"M0 0h24v24H0V0z\" fill=\"none\"/>\n",
       "    <path d=\"M18.56 5.44l.94 2.06.94-2.06 2.06-.94-2.06-.94-.94-2.06-.94 2.06-2.06.94zm-11 1L8.5 8.5l.94-2.06 2.06-.94-2.06-.94L8.5 2.5l-.94 2.06-2.06.94zm10 10l.94 2.06.94-2.06 2.06-.94-2.06-.94-.94-2.06-.94 2.06-2.06.94z\"/><path d=\"M17.41 7.96l-1.37-1.37c-.4-.4-.92-.59-1.43-.59-.52 0-1.04.2-1.43.59L10.3 9.45l-7.72 7.72c-.78.78-.78 2.05 0 2.83L4 21.41c.39.39.9.59 1.41.59.51 0 1.02-.2 1.41-.59l7.78-7.78 2.81-2.81c.8-.78.8-2.07 0-2.86zM5.41 20L4 18.59l7.72-7.72 1.47 1.35L5.41 20z\"/>\n",
       "  </svg>\n",
       "      </button>\n",
       "      \n",
       "  <style>\n",
       "    .colab-df-container {\n",
       "      display:flex;\n",
       "      flex-wrap:wrap;\n",
       "      gap: 12px;\n",
       "    }\n",
       "\n",
       "    .colab-df-convert {\n",
       "      background-color: #E8F0FE;\n",
       "      border: none;\n",
       "      border-radius: 50%;\n",
       "      cursor: pointer;\n",
       "      display: none;\n",
       "      fill: #1967D2;\n",
       "      height: 32px;\n",
       "      padding: 0 0 0 0;\n",
       "      width: 32px;\n",
       "    }\n",
       "\n",
       "    .colab-df-convert:hover {\n",
       "      background-color: #E2EBFA;\n",
       "      box-shadow: 0px 1px 2px rgba(60, 64, 67, 0.3), 0px 1px 3px 1px rgba(60, 64, 67, 0.15);\n",
       "      fill: #174EA6;\n",
       "    }\n",
       "\n",
       "    [theme=dark] .colab-df-convert {\n",
       "      background-color: #3B4455;\n",
       "      fill: #D2E3FC;\n",
       "    }\n",
       "\n",
       "    [theme=dark] .colab-df-convert:hover {\n",
       "      background-color: #434B5C;\n",
       "      box-shadow: 0px 1px 3px 1px rgba(0, 0, 0, 0.15);\n",
       "      filter: drop-shadow(0px 1px 2px rgba(0, 0, 0, 0.3));\n",
       "      fill: #FFFFFF;\n",
       "    }\n",
       "  </style>\n",
       "\n",
       "      <script>\n",
       "        const buttonEl =\n",
       "          document.querySelector('#df-0888b24a-a644-4aa7-857c-73a71936e069 button.colab-df-convert');\n",
       "        buttonEl.style.display =\n",
       "          google.colab.kernel.accessAllowed ? 'block' : 'none';\n",
       "\n",
       "        async function convertToInteractive(key) {\n",
       "          const element = document.querySelector('#df-0888b24a-a644-4aa7-857c-73a71936e069');\n",
       "          const dataTable =\n",
       "            await google.colab.kernel.invokeFunction('convertToInteractive',\n",
       "                                                     [key], {});\n",
       "          if (!dataTable) return;\n",
       "\n",
       "          const docLinkHtml = 'Like what you see? Visit the ' +\n",
       "            '<a target=\"_blank\" href=https://colab.research.google.com/notebooks/data_table.ipynb>data table notebook</a>'\n",
       "            + ' to learn more about interactive tables.';\n",
       "          element.innerHTML = '';\n",
       "          dataTable['output_type'] = 'display_data';\n",
       "          await google.colab.output.renderOutput(dataTable, element);\n",
       "          const docLink = document.createElement('div');\n",
       "          docLink.innerHTML = docLinkHtml;\n",
       "          element.appendChild(docLink);\n",
       "        }\n",
       "      </script>\n",
       "    </div>\n",
       "  </div>\n",
       "  "
      ],
      "text/plain": [
       "                                Short description  ...                                   txt_wo_stopwords\n",
       "0                                     login issue  ...  verified user detailsemployee manager name che...\n",
       "1                                         outlook  ...  received hmjdrvpbkomuaywngmailcom hello team m...\n",
       "2                              cant log in to vpn  ...  received eylqgodmybqkwiamgmailcom hi cannot lo...\n",
       "3                   unable to access hr_tool page  ...                          unable access hrtool page\n",
       "5  unable to log in to engineering tool and skype  ...                  unable log engineering tool skype\n",
       "\n",
       "[5 rows x 7 columns]"
      ]
     },
     "execution_count": 35,
     "metadata": {},
     "output_type": "execute_result"
    }
   ],
   "source": [
    "df_en.head()"
   ]
  },
  {
   "cell_type": "markdown",
   "metadata": {
    "id": "I-Pu8-N3Ue8J"
   },
   "source": [
    "## Remove all extra white spaces"
   ]
  },
  {
   "cell_type": "code",
   "execution_count": null,
   "metadata": {
    "colab": {
     "base_uri": "https://localhost:8080/"
    },
    "id": "VVLx3czDUH7E",
    "outputId": "9a0163f5-5483-4ee5-e965-6d92b809dd25"
   },
   "outputs": [
    {
     "name": "stderr",
     "output_type": "stream",
     "text": [
      "/usr/local/lib/python3.7/dist-packages/ipykernel_launcher.py:1: SettingWithCopyWarning: \n",
      "A value is trying to be set on a copy of a slice from a DataFrame.\n",
      "Try using .loc[row_indexer,col_indexer] = value instead\n",
      "\n",
      "See the caveats in the documentation: https://pandas.pydata.org/pandas-docs/stable/user_guide/indexing.html#returning-a-view-versus-a-copy\n",
      "  \"\"\"Entry point for launching an IPython kernel.\n"
     ]
    }
   ],
   "source": [
    "df_en['txt_wo_stopwords'] = df_en['txt_wo_stopwords'].apply(lambda x: re.sub(' +', ' ', x))"
   ]
  },
  {
   "cell_type": "code",
   "execution_count": null,
   "metadata": {
    "colab": {
     "base_uri": "https://localhost:8080/",
     "height": 354
    },
    "id": "3iWb-ISjUMQW",
    "outputId": "603cbf2d-5abf-439a-a814-c68fb8df748f"
   },
   "outputs": [
    {
     "data": {
      "text/html": [
       "\n",
       "  <div id=\"df-11c75640-4c89-4af6-aa85-cda30fca1056\">\n",
       "    <div class=\"colab-df-container\">\n",
       "      <div>\n",
       "<style scoped>\n",
       "    .dataframe tbody tr th:only-of-type {\n",
       "        vertical-align: middle;\n",
       "    }\n",
       "\n",
       "    .dataframe tbody tr th {\n",
       "        vertical-align: top;\n",
       "    }\n",
       "\n",
       "    .dataframe thead th {\n",
       "        text-align: right;\n",
       "    }\n",
       "</style>\n",
       "<table border=\"1\" class=\"dataframe\">\n",
       "  <thead>\n",
       "    <tr style=\"text-align: right;\">\n",
       "      <th></th>\n",
       "      <th>Short description</th>\n",
       "      <th>Description</th>\n",
       "      <th>Caller</th>\n",
       "      <th>Assignment group</th>\n",
       "      <th>Lang</th>\n",
       "      <th>PreProcessedText</th>\n",
       "      <th>txt_wo_stopwords</th>\n",
       "    </tr>\n",
       "  </thead>\n",
       "  <tbody>\n",
       "    <tr>\n",
       "      <th>0</th>\n",
       "      <td>login issue</td>\n",
       "      <td>-verified user details.(employee# &amp; manager na...</td>\n",
       "      <td>spxjnwir pjlcoqds</td>\n",
       "      <td>GRP_0</td>\n",
       "      <td>en</td>\n",
       "      <td>verified user detailsemployee  manager name  c...</td>\n",
       "      <td>verified user detailsemployee manager name che...</td>\n",
       "    </tr>\n",
       "    <tr>\n",
       "      <th>1</th>\n",
       "      <td>outlook</td>\n",
       "      <td>received from: hmjdrvpb.komuaywn@gmail.com...</td>\n",
       "      <td>hmjdrvpb komuaywn</td>\n",
       "      <td>GRP_0</td>\n",
       "      <td>en</td>\n",
       "      <td>received from hmjdrvpbkomuaywngmailcom    ...</td>\n",
       "      <td>received hmjdrvpbkomuaywngmailcom hello team m...</td>\n",
       "    </tr>\n",
       "    <tr>\n",
       "      <th>2</th>\n",
       "      <td>cant log in to vpn</td>\n",
       "      <td>received from: eylqgodm.ybqkwiam@gmail.com...</td>\n",
       "      <td>eylqgodm ybqkwiam</td>\n",
       "      <td>GRP_0</td>\n",
       "      <td>en</td>\n",
       "      <td>received from eylqgodmybqkwiamgmailcom    ...</td>\n",
       "      <td>received eylqgodmybqkwiamgmailcom hi cannot lo...</td>\n",
       "    </tr>\n",
       "    <tr>\n",
       "      <th>3</th>\n",
       "      <td>unable to access hr_tool page</td>\n",
       "      <td>unable to access hr_tool page</td>\n",
       "      <td>xbkucsvz gcpydteq</td>\n",
       "      <td>GRP_0</td>\n",
       "      <td>en</td>\n",
       "      <td>unable to access hrtool page</td>\n",
       "      <td>unable access hrtool page</td>\n",
       "    </tr>\n",
       "    <tr>\n",
       "      <th>5</th>\n",
       "      <td>unable to log in to engineering tool and skype</td>\n",
       "      <td>unable to log in to engineering tool and skype</td>\n",
       "      <td>eflahbxn ltdgrvkz</td>\n",
       "      <td>GRP_0</td>\n",
       "      <td>en</td>\n",
       "      <td>unable to log in to engineering tool and skype</td>\n",
       "      <td>unable log engineering tool skype</td>\n",
       "    </tr>\n",
       "  </tbody>\n",
       "</table>\n",
       "</div>\n",
       "      <button class=\"colab-df-convert\" onclick=\"convertToInteractive('df-11c75640-4c89-4af6-aa85-cda30fca1056')\"\n",
       "              title=\"Convert this dataframe to an interactive table.\"\n",
       "              style=\"display:none;\">\n",
       "        \n",
       "  <svg xmlns=\"http://www.w3.org/2000/svg\" height=\"24px\"viewBox=\"0 0 24 24\"\n",
       "       width=\"24px\">\n",
       "    <path d=\"M0 0h24v24H0V0z\" fill=\"none\"/>\n",
       "    <path d=\"M18.56 5.44l.94 2.06.94-2.06 2.06-.94-2.06-.94-.94-2.06-.94 2.06-2.06.94zm-11 1L8.5 8.5l.94-2.06 2.06-.94-2.06-.94L8.5 2.5l-.94 2.06-2.06.94zm10 10l.94 2.06.94-2.06 2.06-.94-2.06-.94-.94-2.06-.94 2.06-2.06.94z\"/><path d=\"M17.41 7.96l-1.37-1.37c-.4-.4-.92-.59-1.43-.59-.52 0-1.04.2-1.43.59L10.3 9.45l-7.72 7.72c-.78.78-.78 2.05 0 2.83L4 21.41c.39.39.9.59 1.41.59.51 0 1.02-.2 1.41-.59l7.78-7.78 2.81-2.81c.8-.78.8-2.07 0-2.86zM5.41 20L4 18.59l7.72-7.72 1.47 1.35L5.41 20z\"/>\n",
       "  </svg>\n",
       "      </button>\n",
       "      \n",
       "  <style>\n",
       "    .colab-df-container {\n",
       "      display:flex;\n",
       "      flex-wrap:wrap;\n",
       "      gap: 12px;\n",
       "    }\n",
       "\n",
       "    .colab-df-convert {\n",
       "      background-color: #E8F0FE;\n",
       "      border: none;\n",
       "      border-radius: 50%;\n",
       "      cursor: pointer;\n",
       "      display: none;\n",
       "      fill: #1967D2;\n",
       "      height: 32px;\n",
       "      padding: 0 0 0 0;\n",
       "      width: 32px;\n",
       "    }\n",
       "\n",
       "    .colab-df-convert:hover {\n",
       "      background-color: #E2EBFA;\n",
       "      box-shadow: 0px 1px 2px rgba(60, 64, 67, 0.3), 0px 1px 3px 1px rgba(60, 64, 67, 0.15);\n",
       "      fill: #174EA6;\n",
       "    }\n",
       "\n",
       "    [theme=dark] .colab-df-convert {\n",
       "      background-color: #3B4455;\n",
       "      fill: #D2E3FC;\n",
       "    }\n",
       "\n",
       "    [theme=dark] .colab-df-convert:hover {\n",
       "      background-color: #434B5C;\n",
       "      box-shadow: 0px 1px 3px 1px rgba(0, 0, 0, 0.15);\n",
       "      filter: drop-shadow(0px 1px 2px rgba(0, 0, 0, 0.3));\n",
       "      fill: #FFFFFF;\n",
       "    }\n",
       "  </style>\n",
       "\n",
       "      <script>\n",
       "        const buttonEl =\n",
       "          document.querySelector('#df-11c75640-4c89-4af6-aa85-cda30fca1056 button.colab-df-convert');\n",
       "        buttonEl.style.display =\n",
       "          google.colab.kernel.accessAllowed ? 'block' : 'none';\n",
       "\n",
       "        async function convertToInteractive(key) {\n",
       "          const element = document.querySelector('#df-11c75640-4c89-4af6-aa85-cda30fca1056');\n",
       "          const dataTable =\n",
       "            await google.colab.kernel.invokeFunction('convertToInteractive',\n",
       "                                                     [key], {});\n",
       "          if (!dataTable) return;\n",
       "\n",
       "          const docLinkHtml = 'Like what you see? Visit the ' +\n",
       "            '<a target=\"_blank\" href=https://colab.research.google.com/notebooks/data_table.ipynb>data table notebook</a>'\n",
       "            + ' to learn more about interactive tables.';\n",
       "          element.innerHTML = '';\n",
       "          dataTable['output_type'] = 'display_data';\n",
       "          await google.colab.output.renderOutput(dataTable, element);\n",
       "          const docLink = document.createElement('div');\n",
       "          docLink.innerHTML = docLinkHtml;\n",
       "          element.appendChild(docLink);\n",
       "        }\n",
       "      </script>\n",
       "    </div>\n",
       "  </div>\n",
       "  "
      ],
      "text/plain": [
       "                                Short description  ...                                   txt_wo_stopwords\n",
       "0                                     login issue  ...  verified user detailsemployee manager name che...\n",
       "1                                         outlook  ...  received hmjdrvpbkomuaywngmailcom hello team m...\n",
       "2                              cant log in to vpn  ...  received eylqgodmybqkwiamgmailcom hi cannot lo...\n",
       "3                   unable to access hr_tool page  ...                          unable access hrtool page\n",
       "5  unable to log in to engineering tool and skype  ...                  unable log engineering tool skype\n",
       "\n",
       "[5 rows x 7 columns]"
      ]
     },
     "execution_count": 37,
     "metadata": {},
     "output_type": "execute_result"
    }
   ],
   "source": [
    "df_en.head()"
   ]
  },
  {
   "cell_type": "code",
   "execution_count": null,
   "metadata": {
    "colab": {
     "base_uri": "https://localhost:8080/"
    },
    "id": "2RP11WdBVqQC",
    "outputId": "8fa8f335-0d56-4112-e549-0b8d33bcadec"
   },
   "outputs": [
    {
     "data": {
      "text/plain": [
       "received                    2269\n",
       "please                      1912\n",
       "yesnona                     1568\n",
       "job                         1520\n",
       "user                        1143\n",
       "jobscheduler                 967\n",
       "password                     967\n",
       "monitoringtoolcompanycom     960\n",
       "erp                          950\n",
       "failed                       904\n",
       "company                      782\n",
       "issue                        768\n",
       "access                       689\n",
       "error                        686\n",
       "site                         683\n",
       "account                      681\n",
       "reset                        668\n",
       "sid                          641\n",
       "ticket                       637\n",
       "power                        636\n",
       "help                         623\n",
       "unable                       615\n",
       "hello                        605\n",
       "id                           601\n",
       "system                       580\n",
       "dtype: int64"
      ]
     },
     "execution_count": 42,
     "metadata": {},
     "output_type": "execute_result"
    }
   ],
   "source": [
    "pd.DataFrame(corpus).value_counts()[:25]"
   ]
  },
  {
   "cell_type": "code",
   "execution_count": null,
   "metadata": {
    "id": "aWEOgcF0WOr7"
   },
   "outputs": [],
   "source": [
    "X = df_en.txt_wo_stopwords"
   ]
  },
  {
   "cell_type": "code",
   "execution_count": null,
   "metadata": {
    "id": "aV2aRlezZElt"
   },
   "outputs": [],
   "source": [
    "y=df_en['Assignment group']\n",
    "from sklearn import preprocessing\n",
    "le = preprocessing.LabelEncoder()\n",
    "y=le.fit(df_en['Assignment group'])\n",
    "y=le.transform(df_en['Assignment group'])\n",
    "y=le.transform(df_en['Assignment group'])"
   ]
  },
  {
   "cell_type": "code",
   "execution_count": null,
   "metadata": {
    "id": "5m6wmaRUZSM7"
   },
   "outputs": [],
   "source": [
    "from sklearn.model_selection import train_test_split\n",
    "# split X and y into training and testing sets\n",
    "X_train, X_test, y_train, y_test = train_test_split(X, y, random_state=42)"
   ]
  },
  {
   "cell_type": "code",
   "execution_count": null,
   "metadata": {
    "colab": {
     "base_uri": "https://localhost:8080/"
    },
    "id": "8zZ4xn7-ZVKz",
    "outputId": "d7c97fbb-19b6-436f-cfaf-e6cafab6037c"
   },
   "outputs": [
    {
     "name": "stdout",
     "output_type": "stream",
     "text": [
      "X_train : (5273,)\n",
      "X_test : (1758,)\n",
      "y_train : (5273,)\n",
      "y_test : (1758,)\n"
     ]
    }
   ],
   "source": [
    "print('X_train : '+str(X_train.shape))\n",
    "print('X_test : '+str(X_test.shape))\n",
    "print('y_train : '+str(y_train.shape))\n",
    "print('y_test : '+str(y_test.shape))"
   ]
  },
  {
   "cell_type": "markdown",
   "metadata": {
    "id": "vi5bxdl5vEuu"
   },
   "source": []
  },
  {
   "cell_type": "markdown",
   "metadata": {
    "id": "J9V7a6jPZdJh"
   },
   "source": [
    "## TFIDF"
   ]
  },
  {
   "cell_type": "code",
   "execution_count": null,
   "metadata": {
    "id": "w47YfzyuZXCG"
   },
   "outputs": [],
   "source": [
    "# import and instantiate TF-IDF Vectorizer (with the default parameters)\n",
    "from sklearn.feature_extraction.text import TfidfVectorizer\n",
    "tvect = TfidfVectorizer()"
   ]
  },
  {
   "cell_type": "code",
   "execution_count": null,
   "metadata": {
    "colab": {
     "base_uri": "https://localhost:8080/"
    },
    "id": "09XzTWvLZgGJ",
    "outputId": "47b430d3-1f2d-42f8-9338-744a50adfe7e"
   },
   "outputs": [
    {
     "data": {
      "text/plain": [
       "TfidfVectorizer()"
      ]
     },
     "execution_count": 280,
     "metadata": {},
     "output_type": "execute_result"
    }
   ],
   "source": [
    "tvect.fit(X_train)"
   ]
  },
  {
   "cell_type": "code",
   "execution_count": null,
   "metadata": {
    "colab": {
     "base_uri": "https://localhost:8080/"
    },
    "id": "fVQDhrT7Zjo1",
    "outputId": "b82a6de7-ae48-4269-96eb-f5722a12ac9f"
   },
   "outputs": [
    {
     "data": {
      "text/plain": [
       "11531"
      ]
     },
     "execution_count": 281,
     "metadata": {},
     "output_type": "execute_result"
    }
   ],
   "source": [
    "len(tvect.vocabulary_)"
   ]
  },
  {
   "cell_type": "code",
   "execution_count": null,
   "metadata": {
    "colab": {
     "base_uri": "https://localhost:8080/"
    },
    "id": "Bbphq0h3ZmQW",
    "outputId": "24fce65a-4882-4fc7-d47a-21c1f5742642"
   },
   "outputs": [
    {
     "data": {
      "text/plain": [
       "(5273, 11531)"
      ]
     },
     "execution_count": 282,
     "metadata": {},
     "output_type": "execute_result"
    }
   ],
   "source": [
    "X_train_tfidf = tvect.transform(X_train)\n",
    "X_train_tfidf.shape"
   ]
  },
  {
   "cell_type": "code",
   "execution_count": null,
   "metadata": {
    "id": "awisP5-BZofP"
   },
   "outputs": [],
   "source": [
    "X_test_tfidf = tvect.transform(X_test)"
   ]
  },
  {
   "cell_type": "code",
   "execution_count": null,
   "metadata": {
    "id": "45Qf9Ix8Zqne"
   },
   "outputs": [],
   "source": [
    "from sklearn.multiclass import OneVsRestClassifier\n",
    "from sklearn import svm\n",
    "\n",
    "clf = svm.SVC()\n",
    "clf = OneVsRestClassifier(clf)"
   ]
  },
  {
   "cell_type": "code",
   "execution_count": null,
   "metadata": {
    "colab": {
     "base_uri": "https://localhost:8080/"
    },
    "id": "qGrLFtV7Z3ZB",
    "outputId": "de8d4dd2-0d44-4ed6-a206-0db4d272fd35"
   },
   "outputs": [
    {
     "data": {
      "text/plain": [
       "OneVsRestClassifier(estimator=SVC())"
      ]
     },
     "execution_count": 286,
     "metadata": {},
     "output_type": "execute_result"
    }
   ],
   "source": [
    "clf.fit(X_train_tfidf, y_train)"
   ]
  },
  {
   "cell_type": "code",
   "execution_count": null,
   "metadata": {
    "id": "NvkfH2LYZ_XZ"
   },
   "outputs": [],
   "source": [
    "y_pred_tfidf = clf.predict(X_test_tfidf)"
   ]
  },
  {
   "cell_type": "code",
   "execution_count": null,
   "metadata": {
    "colab": {
     "base_uri": "https://localhost:8080/"
    },
    "id": "1v0H4YTeaFhS",
    "outputId": "967ab086-c8f5-4316-fa31-4c5921eed1ee"
   },
   "outputs": [
    {
     "name": "stdout",
     "output_type": "stream",
     "text": [
      "              precision    recall  f1-score   support\n",
      "\n",
      "           0       0.67      0.98      0.79       813\n",
      "           1       0.00      0.00      0.00         6\n",
      "           2       0.76      0.34      0.47        38\n",
      "           3       1.00      0.00      0.00         4\n",
      "           4       0.60      0.57      0.58        49\n",
      "           5       0.34      0.38      0.36        29\n",
      "           6       0.65      0.41      0.50        27\n",
      "           7       1.00      0.10      0.18        10\n",
      "           8       1.00      0.00      0.00        25\n",
      "           9       1.00      0.67      0.80        15\n",
      "          10       0.71      0.25      0.37        20\n",
      "          11       0.64      0.16      0.25        44\n",
      "          12       0.61      0.48      0.53        48\n",
      "          13       0.00      0.00      0.00        12\n",
      "          14       1.00      0.00      0.00         7\n",
      "          15       1.00      0.00      0.00         6\n",
      "          16       0.33      0.14      0.20         7\n",
      "          17       1.00      0.71      0.83        17\n",
      "          18       0.75      0.20      0.32        30\n",
      "          19       1.00      0.00      0.00        14\n",
      "          20       1.00      0.00      0.00         2\n",
      "          21       1.00      0.10      0.18        10\n",
      "          22       0.82      0.28      0.42        32\n",
      "          23       0.50      0.22      0.31        41\n",
      "          24       1.00      0.00      0.00         1\n",
      "          25       1.00      0.43      0.60         7\n",
      "          27       1.00      0.00      0.00         8\n",
      "          28       0.33      0.12      0.18         8\n",
      "          30       1.00      0.00      0.00         1\n",
      "          31       0.33      0.33      0.33         3\n",
      "          32       1.00      0.00      0.00         2\n",
      "          33       0.67      0.40      0.50         5\n",
      "          34       1.00      0.12      0.22        24\n",
      "          35       1.00      0.00      0.00        15\n",
      "          36       0.57      0.24      0.33        17\n",
      "          37       1.00      0.00      0.00         1\n",
      "          38       1.00      0.00      0.00         3\n",
      "          39       1.00      1.00      1.00         1\n",
      "          40       1.00      0.00      0.00         7\n",
      "          41       1.00      0.00      0.00         1\n",
      "          42       1.00      0.17      0.29         6\n",
      "          44       1.00      0.00      0.00         1\n",
      "          45       0.74      0.38      0.50        45\n",
      "          46       0.00      0.00      0.00         3\n",
      "          47       1.00      0.00      0.00         2\n",
      "          48       1.00      0.00      0.00         2\n",
      "          49       0.00      0.00      0.00         2\n",
      "          51       1.00      0.00      0.00         3\n",
      "          52       1.00      0.00      0.00         2\n",
      "          53       1.00      0.00      0.00         1\n",
      "          54       1.00      1.00      1.00         1\n",
      "          55       1.00      0.00      0.00         2\n",
      "          56       0.36      0.59      0.45        34\n",
      "          57       1.00      0.00      0.00         2\n",
      "          59       0.00      0.00      0.00         4\n",
      "          60       1.00      0.00      0.00         1\n",
      "          62       1.00      0.00      0.00         2\n",
      "          63       1.00      1.00      1.00         1\n",
      "          66       1.00      0.00      0.00         2\n",
      "          67       0.44      0.21      0.29        19\n",
      "          72       0.73      0.54      0.62       153\n",
      "          73       1.00      0.12      0.21        60\n",
      "\n",
      "    accuracy                           0.62      1758\n",
      "   macro avg       0.78      0.20      0.24      1758\n",
      "weighted avg       0.69      0.62      0.57      1758\n",
      "\n"
     ]
    }
   ],
   "source": [
    "from sklearn.metrics import classification_report\n",
    "print(classification_report(y_test, y_pred_tfidf,zero_division=1))"
   ]
  },
  {
   "cell_type": "markdown",
   "metadata": {
    "id": "Z8m-0TY9Z8uI"
   },
   "source": [
    "## BaseLine Models"
   ]
  },
  {
   "cell_type": "markdown",
   "metadata": {
    "id": "rrmvQY3gcMUi"
   },
   "source": [
    "## Classification based on Description field"
   ]
  },
  {
   "cell_type": "code",
   "execution_count": null,
   "metadata": {
    "id": "46woa5bbaAoo"
   },
   "outputs": [],
   "source": [
    "df_data = pd.read_csv(project_path+'input_data_trans_preprocess.csv')"
   ]
  },
  {
   "cell_type": "code",
   "execution_count": null,
   "metadata": {
    "colab": {
     "base_uri": "https://localhost:8080/",
     "height": 583
    },
    "id": "xzbRr0Y8aup9",
    "outputId": "666147a7-8070-465a-fd05-a81d1fb7958b"
   },
   "outputs": [
    {
     "data": {
      "text/html": [
       "\n",
       "  <div id=\"df-179a69dc-b50e-4764-a8fc-2a0441028461\">\n",
       "    <div class=\"colab-df-container\">\n",
       "      <div>\n",
       "<style scoped>\n",
       "    .dataframe tbody tr th:only-of-type {\n",
       "        vertical-align: middle;\n",
       "    }\n",
       "\n",
       "    .dataframe tbody tr th {\n",
       "        vertical-align: top;\n",
       "    }\n",
       "\n",
       "    .dataframe thead th {\n",
       "        text-align: right;\n",
       "    }\n",
       "</style>\n",
       "<table border=\"1\" class=\"dataframe\">\n",
       "  <thead>\n",
       "    <tr style=\"text-align: right;\">\n",
       "      <th></th>\n",
       "      <th>Short description</th>\n",
       "      <th>Description</th>\n",
       "      <th>Caller</th>\n",
       "      <th>Assignment group</th>\n",
       "      <th>orig_desc</th>\n",
       "      <th>orig_short_desc</th>\n",
       "      <th>Lang</th>\n",
       "      <th>Translated_ShortDesc</th>\n",
       "      <th>Translated_Description</th>\n",
       "      <th>orig_assign_group</th>\n",
       "    </tr>\n",
       "  </thead>\n",
       "  <tbody>\n",
       "    <tr>\n",
       "      <th>0</th>\n",
       "      <td>login issue</td>\n",
       "      <td>verified user details employee manager name ch...</td>\n",
       "      <td>spxjnwir pjlcoqds</td>\n",
       "      <td>GRP_0</td>\n",
       "      <td>-verified user details.(employee# &amp; manager na...</td>\n",
       "      <td>login issue</td>\n",
       "      <td>en</td>\n",
       "      <td>login issue</td>\n",
       "      <td>-verified user details.(employee# &amp; manager na...</td>\n",
       "      <td>GRP_0</td>\n",
       "    </tr>\n",
       "    <tr>\n",
       "      <th>1</th>\n",
       "      <td>outlook</td>\n",
       "      <td>received from hmjdrvpb komuaywn gmail com hell...</td>\n",
       "      <td>hmjdrvpb komuaywn</td>\n",
       "      <td>GRP_0</td>\n",
       "      <td>_x000D_\\n_x000D_\\nreceived from: hmjdrvpb.komu...</td>\n",
       "      <td>outlook</td>\n",
       "      <td>en</td>\n",
       "      <td>outlook</td>\n",
       "      <td>received from: hmjdrvpb.komuaywn@gmail.com...</td>\n",
       "      <td>GRP_0</td>\n",
       "    </tr>\n",
       "    <tr>\n",
       "      <th>2</th>\n",
       "      <td>cant log in to vpn</td>\n",
       "      <td>received from eylqgodm ybqkwiam gmail com hi i...</td>\n",
       "      <td>eylqgodm ybqkwiam</td>\n",
       "      <td>GRP_0</td>\n",
       "      <td>_x000D_\\n_x000D_\\nreceived from: eylqgodm.ybqk...</td>\n",
       "      <td>cant log in to vpn</td>\n",
       "      <td>en</td>\n",
       "      <td>cant log in to vpn</td>\n",
       "      <td>received from: eylqgodm.ybqkwiam@gmail.com...</td>\n",
       "      <td>GRP_0</td>\n",
       "    </tr>\n",
       "    <tr>\n",
       "      <th>3</th>\n",
       "      <td>unable to access hr tool page</td>\n",
       "      <td>unable to access hr tool page</td>\n",
       "      <td>xbkucsvz gcpydteq</td>\n",
       "      <td>GRP_0</td>\n",
       "      <td>unable to access hr_tool page</td>\n",
       "      <td>unable to access hr_tool page</td>\n",
       "      <td>en</td>\n",
       "      <td>unable to access hr_tool page</td>\n",
       "      <td>unable to access hr_tool page</td>\n",
       "      <td>GRP_0</td>\n",
       "    </tr>\n",
       "    <tr>\n",
       "      <th>4</th>\n",
       "      <td>skype error</td>\n",
       "      <td>skype error</td>\n",
       "      <td>owlgqjme qhcozdfx</td>\n",
       "      <td>GRP_0</td>\n",
       "      <td>skype error</td>\n",
       "      <td>skype error</td>\n",
       "      <td>no</td>\n",
       "      <td>skype error</td>\n",
       "      <td>skype error</td>\n",
       "      <td>GRP_0</td>\n",
       "    </tr>\n",
       "  </tbody>\n",
       "</table>\n",
       "</div>\n",
       "      <button class=\"colab-df-convert\" onclick=\"convertToInteractive('df-179a69dc-b50e-4764-a8fc-2a0441028461')\"\n",
       "              title=\"Convert this dataframe to an interactive table.\"\n",
       "              style=\"display:none;\">\n",
       "        \n",
       "  <svg xmlns=\"http://www.w3.org/2000/svg\" height=\"24px\"viewBox=\"0 0 24 24\"\n",
       "       width=\"24px\">\n",
       "    <path d=\"M0 0h24v24H0V0z\" fill=\"none\"/>\n",
       "    <path d=\"M18.56 5.44l.94 2.06.94-2.06 2.06-.94-2.06-.94-.94-2.06-.94 2.06-2.06.94zm-11 1L8.5 8.5l.94-2.06 2.06-.94-2.06-.94L8.5 2.5l-.94 2.06-2.06.94zm10 10l.94 2.06.94-2.06 2.06-.94-2.06-.94-.94-2.06-.94 2.06-2.06.94z\"/><path d=\"M17.41 7.96l-1.37-1.37c-.4-.4-.92-.59-1.43-.59-.52 0-1.04.2-1.43.59L10.3 9.45l-7.72 7.72c-.78.78-.78 2.05 0 2.83L4 21.41c.39.39.9.59 1.41.59.51 0 1.02-.2 1.41-.59l7.78-7.78 2.81-2.81c.8-.78.8-2.07 0-2.86zM5.41 20L4 18.59l7.72-7.72 1.47 1.35L5.41 20z\"/>\n",
       "  </svg>\n",
       "      </button>\n",
       "      \n",
       "  <style>\n",
       "    .colab-df-container {\n",
       "      display:flex;\n",
       "      flex-wrap:wrap;\n",
       "      gap: 12px;\n",
       "    }\n",
       "\n",
       "    .colab-df-convert {\n",
       "      background-color: #E8F0FE;\n",
       "      border: none;\n",
       "      border-radius: 50%;\n",
       "      cursor: pointer;\n",
       "      display: none;\n",
       "      fill: #1967D2;\n",
       "      height: 32px;\n",
       "      padding: 0 0 0 0;\n",
       "      width: 32px;\n",
       "    }\n",
       "\n",
       "    .colab-df-convert:hover {\n",
       "      background-color: #E2EBFA;\n",
       "      box-shadow: 0px 1px 2px rgba(60, 64, 67, 0.3), 0px 1px 3px 1px rgba(60, 64, 67, 0.15);\n",
       "      fill: #174EA6;\n",
       "    }\n",
       "\n",
       "    [theme=dark] .colab-df-convert {\n",
       "      background-color: #3B4455;\n",
       "      fill: #D2E3FC;\n",
       "    }\n",
       "\n",
       "    [theme=dark] .colab-df-convert:hover {\n",
       "      background-color: #434B5C;\n",
       "      box-shadow: 0px 1px 3px 1px rgba(0, 0, 0, 0.15);\n",
       "      filter: drop-shadow(0px 1px 2px rgba(0, 0, 0, 0.3));\n",
       "      fill: #FFFFFF;\n",
       "    }\n",
       "  </style>\n",
       "\n",
       "      <script>\n",
       "        const buttonEl =\n",
       "          document.querySelector('#df-179a69dc-b50e-4764-a8fc-2a0441028461 button.colab-df-convert');\n",
       "        buttonEl.style.display =\n",
       "          google.colab.kernel.accessAllowed ? 'block' : 'none';\n",
       "\n",
       "        async function convertToInteractive(key) {\n",
       "          const element = document.querySelector('#df-179a69dc-b50e-4764-a8fc-2a0441028461');\n",
       "          const dataTable =\n",
       "            await google.colab.kernel.invokeFunction('convertToInteractive',\n",
       "                                                     [key], {});\n",
       "          if (!dataTable) return;\n",
       "\n",
       "          const docLinkHtml = 'Like what you see? Visit the ' +\n",
       "            '<a target=\"_blank\" href=https://colab.research.google.com/notebooks/data_table.ipynb>data table notebook</a>'\n",
       "            + ' to learn more about interactive tables.';\n",
       "          element.innerHTML = '';\n",
       "          dataTable['output_type'] = 'display_data';\n",
       "          await google.colab.output.renderOutput(dataTable, element);\n",
       "          const docLink = document.createElement('div');\n",
       "          docLink.innerHTML = docLinkHtml;\n",
       "          element.appendChild(docLink);\n",
       "        }\n",
       "      </script>\n",
       "    </div>\n",
       "  </div>\n",
       "  "
      ],
      "text/plain": [
       "               Short description  ... orig_assign_group\n",
       "0                    login issue  ...             GRP_0\n",
       "1                        outlook  ...             GRP_0\n",
       "2             cant log in to vpn  ...             GRP_0\n",
       "3  unable to access hr tool page  ...             GRP_0\n",
       "4                    skype error  ...             GRP_0\n",
       "\n",
       "[5 rows x 10 columns]"
      ]
     },
     "execution_count": 139,
     "metadata": {},
     "output_type": "execute_result"
    }
   ],
   "source": [
    "df_data.head()"
   ]
  },
  {
   "cell_type": "code",
   "execution_count": null,
   "metadata": {
    "id": "q1QoJpelln6_"
   },
   "outputs": [],
   "source": [
    "#df_data.drop(df_data[(df_data['Lang'] != 'en')].index, inplace=True)"
   ]
  },
  {
   "cell_type": "code",
   "execution_count": null,
   "metadata": {
    "id": "Hei65pVBlp-v"
   },
   "outputs": [],
   "source": [
    "#df_data.drop(df_data[(df_data['Assignment group'] == 'GRP_48')].index, inplace=True)"
   ]
  },
  {
   "cell_type": "code",
   "execution_count": null,
   "metadata": {
    "colab": {
     "base_uri": "https://localhost:8080/"
    },
    "id": "hX9ZoJewa8U5",
    "outputId": "24681e81-7c06-4bb5-ba0a-a5b9868f016f"
   },
   "outputs": [
    {
     "name": "stdout",
     "output_type": "stream",
     "text": [
      "[nltk_data] Downloading package stopwords to /root/nltk_data...\n",
      "[nltk_data]   Package stopwords is already up-to-date!\n"
     ]
    },
    {
     "data": {
      "text/plain": [
       "True"
      ]
     },
     "execution_count": 142,
     "metadata": {},
     "output_type": "execute_result"
    }
   ],
   "source": [
    "import nltk\n",
    "from nltk.corpus import stopwords\n",
    "nltk.download(\"stopwords\")"
   ]
  },
  {
   "cell_type": "code",
   "execution_count": null,
   "metadata": {
    "id": "tHhIeOzGcIPj"
   },
   "outputs": [],
   "source": [
    "stop_words=set(stopwords.words('english'))"
   ]
  },
  {
   "cell_type": "code",
   "execution_count": null,
   "metadata": {
    "id": "wn2eu-WxcK3P"
   },
   "outputs": [],
   "source": [
    "df_data['txt_wo_stopwords'] = df_data['Translated_Description'].apply(lambda words: ' '.join(word.lower() for word in words.split() if word not in stop_words))"
   ]
  },
  {
   "cell_type": "code",
   "execution_count": null,
   "metadata": {
    "id": "que7SflfcWcJ"
   },
   "outputs": [],
   "source": [
    "X = df_data.txt_wo_stopwords"
   ]
  },
  {
   "cell_type": "code",
   "execution_count": null,
   "metadata": {
    "id": "jlI8DG2_ceYE"
   },
   "outputs": [],
   "source": [
    "y=df_data['Assignment group']\n",
    "from sklearn import preprocessing\n",
    "le = preprocessing.LabelEncoder()\n",
    "y=le.fit(df_data['Assignment group'])\n",
    "y=le.transform(df_data['Assignment group'])\n",
    "y=le.transform(df_data['Assignment group'])"
   ]
  },
  {
   "cell_type": "code",
   "execution_count": null,
   "metadata": {
    "id": "F1QptjqocmL5"
   },
   "outputs": [],
   "source": [
    "from sklearn.model_selection import train_test_split\n",
    "# split X and y into training and testing sets\n",
    "X_train, X_test, y_train, y_test = train_test_split(X, y, random_state=42, stratify=y)"
   ]
  },
  {
   "cell_type": "code",
   "execution_count": null,
   "metadata": {
    "colab": {
     "base_uri": "https://localhost:8080/"
    },
    "id": "xjRr02Wic0Xd",
    "outputId": "310fc6c9-eb31-438f-aa73-19c47f3265ee"
   },
   "outputs": [
    {
     "name": "stdout",
     "output_type": "stream",
     "text": [
      "X_train : (6350,)\n",
      "X_test : (2117,)\n",
      "y_train : (6350,)\n",
      "y_test : (2117,)\n"
     ]
    }
   ],
   "source": [
    "print('X_train : '+str(X_train.shape))\n",
    "print('X_test : '+str(X_test.shape))\n",
    "print('y_train : '+str(y_train.shape))\n",
    "print('y_test : '+str(y_test.shape))\n"
   ]
  },
  {
   "cell_type": "code",
   "execution_count": null,
   "metadata": {
    "id": "KXFd_15Lc2dO"
   },
   "outputs": [],
   "source": [
    "# import and instantiate TF-IDF Vectorizer (with the default parameters)\n",
    "from sklearn.feature_extraction.text import TfidfVectorizer\n",
    "tvect = TfidfVectorizer()"
   ]
  },
  {
   "cell_type": "code",
   "execution_count": null,
   "metadata": {
    "colab": {
     "base_uri": "https://localhost:8080/"
    },
    "id": "zNUeZeJSc6cP",
    "outputId": "b2e9735e-4635-4e35-b0d2-03c108c555af"
   },
   "outputs": [
    {
     "data": {
      "text/plain": [
       "TfidfVectorizer()"
      ]
     },
     "execution_count": 150,
     "metadata": {},
     "output_type": "execute_result"
    }
   ],
   "source": [
    "tvect.fit(X_train)"
   ]
  },
  {
   "cell_type": "code",
   "execution_count": null,
   "metadata": {
    "colab": {
     "base_uri": "https://localhost:8080/"
    },
    "id": "5NuwH47ic8PV",
    "outputId": "877c55ee-3857-4d05-bc09-8d68be6c0451"
   },
   "outputs": [
    {
     "data": {
      "text/plain": [
       "16873"
      ]
     },
     "execution_count": 151,
     "metadata": {},
     "output_type": "execute_result"
    }
   ],
   "source": [
    "len(tvect.vocabulary_)"
   ]
  },
  {
   "cell_type": "code",
   "execution_count": null,
   "metadata": {
    "colab": {
     "base_uri": "https://localhost:8080/"
    },
    "id": "z4okWZiSc93t",
    "outputId": "fdb1880b-05b1-4bbe-c017-778e9aaa96e5"
   },
   "outputs": [
    {
     "data": {
      "text/plain": [
       "(6350, 16873)"
      ]
     },
     "execution_count": 152,
     "metadata": {},
     "output_type": "execute_result"
    }
   ],
   "source": [
    "X_train_tfidf = tvect.transform(X_train)\n",
    "X_train_tfidf.shape\n"
   ]
  },
  {
   "cell_type": "code",
   "execution_count": null,
   "metadata": {
    "id": "xG4Q2I-sc_vh"
   },
   "outputs": [],
   "source": [
    "X_test_tfidf = tvect.transform(X_test)"
   ]
  },
  {
   "cell_type": "code",
   "execution_count": null,
   "metadata": {
    "id": "t86nhUZTdB5R"
   },
   "outputs": [],
   "source": [
    "from sklearn.multiclass import OneVsRestClassifier\n",
    "from sklearn import svm"
   ]
  },
  {
   "cell_type": "code",
   "execution_count": null,
   "metadata": {
    "id": "OJ_aO-16dD5L"
   },
   "outputs": [],
   "source": [
    "clf = svm.SVC()\n",
    "clf = OneVsRestClassifier(clf)"
   ]
  },
  {
   "cell_type": "code",
   "execution_count": null,
   "metadata": {
    "colab": {
     "base_uri": "https://localhost:8080/"
    },
    "id": "Kaupr25HdF0k",
    "outputId": "9bc10830-dbdd-4738-b442-8267a0523e23"
   },
   "outputs": [
    {
     "data": {
      "text/plain": [
       "OneVsRestClassifier(estimator=SVC())"
      ]
     },
     "execution_count": 156,
     "metadata": {},
     "output_type": "execute_result"
    }
   ],
   "source": [
    "clf.fit(X_train_tfidf, y_train)"
   ]
  },
  {
   "cell_type": "code",
   "execution_count": null,
   "metadata": {
    "id": "AKdT8cJ3dHpj"
   },
   "outputs": [],
   "source": [
    "y_pred_tfidf = clf.predict(X_test_tfidf)"
   ]
  },
  {
   "cell_type": "code",
   "execution_count": null,
   "metadata": {
    "colab": {
     "base_uri": "https://localhost:8080/"
    },
    "id": "d9SfaG4ldJ_-",
    "outputId": "fb38dc07-2b73-4731-c825-d3010eff3897"
   },
   "outputs": [
    {
     "name": "stdout",
     "output_type": "stream",
     "text": [
      "              precision    recall  f1-score   support\n",
      "\n",
      "           0       0.67      0.98      0.80       994\n",
      "           1       1.00      0.00      0.00         8\n",
      "           2       0.90      0.54      0.68        35\n",
      "           3       1.00      0.00      0.00         8\n",
      "           4       0.54      0.47      0.50        64\n",
      "           5       0.73      0.53      0.61        36\n",
      "           6       0.65      0.37      0.47        30\n",
      "           7       0.50      0.10      0.17        10\n",
      "           8       0.00      0.00      0.00        21\n",
      "           9       0.64      0.70      0.67        20\n",
      "          10       0.83      0.45      0.59        22\n",
      "          11       0.67      0.15      0.24        54\n",
      "          12       0.59      0.32      0.41        60\n",
      "          13       1.00      0.00      0.00         9\n",
      "          14       1.00      0.14      0.25         7\n",
      "          15       1.00      0.25      0.40         8\n",
      "          16       0.50      0.17      0.25         6\n",
      "          17       0.88      0.88      0.88        72\n",
      "          18       0.38      0.10      0.16        29\n",
      "          19       0.00      0.00      0.00        14\n",
      "          20       1.00      0.00      0.00         4\n",
      "          21       1.00      0.00      0.00        11\n",
      "          22       0.64      0.38      0.47        24\n",
      "          23       0.26      0.10      0.14        50\n",
      "          24       1.00      0.00      0.00         6\n",
      "          25       0.60      0.18      0.27        17\n",
      "          26       0.83      0.19      0.30        27\n",
      "          27       0.43      0.19      0.26        16\n",
      "          28       1.00      0.25      0.40         4\n",
      "          29       1.00      0.25      0.40         4\n",
      "          30       0.33      0.20      0.25         5\n",
      "          31       1.00      0.12      0.21        25\n",
      "          32       1.00      0.09      0.17        11\n",
      "          33       1.00      0.60      0.75        10\n",
      "          34       1.00      0.00      0.00         9\n",
      "          35       1.00      0.25      0.40         4\n",
      "          36       1.00      0.11      0.20         9\n",
      "          37       1.00      0.14      0.25         7\n",
      "          38       1.00      0.00      0.00         2\n",
      "          39       0.87      0.41      0.55        32\n",
      "          40       1.00      0.00      0.00         3\n",
      "          41       1.00      0.00      0.00         3\n",
      "          42       0.61      0.37      0.46        46\n",
      "          43       0.50      0.20      0.29         5\n",
      "          44       1.00      0.00      0.00         6\n",
      "          45       1.00      0.00      0.00         3\n",
      "          46       0.56      0.29      0.38        17\n",
      "          47       0.65      0.87      0.74       165\n",
      "          48       0.85      0.56      0.67        63\n",
      "          49       0.50      0.05      0.08        22\n",
      "\n",
      "    accuracy                           0.67      2117\n",
      "   macro avg       0.76      0.24      0.29      2117\n",
      "weighted avg       0.68      0.67      0.61      2117\n",
      "\n"
     ]
    }
   ],
   "source": [
    "from sklearn.metrics import classification_report\n",
    "print(classification_report(y_test, y_pred_tfidf,zero_division=1))"
   ]
  },
  {
   "cell_type": "markdown",
   "metadata": {
    "id": "O4ziHawbe0Wk"
   },
   "source": [
    "## Classification based on Short Description"
   ]
  },
  {
   "cell_type": "code",
   "execution_count": null,
   "metadata": {
    "id": "p3a_v4I-gITg"
   },
   "outputs": [],
   "source": [
    "df_data = pd.read_csv(project_path+'input_data_trans_preprocess.csv')"
   ]
  },
  {
   "cell_type": "code",
   "execution_count": null,
   "metadata": {
    "colab": {
     "base_uri": "https://localhost:8080/",
     "height": 406
    },
    "id": "VPasY3KSdLhq",
    "outputId": "be16c467-127d-44c6-f671-f537842dfecb"
   },
   "outputs": [
    {
     "data": {
      "text/html": [
       "\n",
       "  <div id=\"df-5550e5a3-f0b1-4f30-a8ab-72791d53091d\">\n",
       "    <div class=\"colab-df-container\">\n",
       "      <div>\n",
       "<style scoped>\n",
       "    .dataframe tbody tr th:only-of-type {\n",
       "        vertical-align: middle;\n",
       "    }\n",
       "\n",
       "    .dataframe tbody tr th {\n",
       "        vertical-align: top;\n",
       "    }\n",
       "\n",
       "    .dataframe thead th {\n",
       "        text-align: right;\n",
       "    }\n",
       "</style>\n",
       "<table border=\"1\" class=\"dataframe\">\n",
       "  <thead>\n",
       "    <tr style=\"text-align: right;\">\n",
       "      <th></th>\n",
       "      <th>Short description</th>\n",
       "      <th>Description</th>\n",
       "      <th>Caller</th>\n",
       "      <th>Assignment group</th>\n",
       "      <th>orig_desc</th>\n",
       "      <th>orig_short_desc</th>\n",
       "      <th>Lang</th>\n",
       "      <th>Translated_ShortDesc</th>\n",
       "      <th>Translated_Description</th>\n",
       "      <th>orig_assign_group</th>\n",
       "    </tr>\n",
       "  </thead>\n",
       "  <tbody>\n",
       "    <tr>\n",
       "      <th>0</th>\n",
       "      <td>login issue</td>\n",
       "      <td>verified user details employee manager name ch...</td>\n",
       "      <td>spxjnwir pjlcoqds</td>\n",
       "      <td>GRP_0</td>\n",
       "      <td>-verified user details.(employee# &amp; manager na...</td>\n",
       "      <td>login issue</td>\n",
       "      <td>en</td>\n",
       "      <td>login issue</td>\n",
       "      <td>-verified user details.(employee# &amp; manager na...</td>\n",
       "      <td>GRP_0</td>\n",
       "    </tr>\n",
       "    <tr>\n",
       "      <th>1</th>\n",
       "      <td>outlook</td>\n",
       "      <td>received from hmjdrvpb komuaywn gmail com hell...</td>\n",
       "      <td>hmjdrvpb komuaywn</td>\n",
       "      <td>GRP_0</td>\n",
       "      <td>_x000D_\\n_x000D_\\nreceived from: hmjdrvpb.komu...</td>\n",
       "      <td>outlook</td>\n",
       "      <td>en</td>\n",
       "      <td>outlook</td>\n",
       "      <td>received from: hmjdrvpb.komuaywn@gmail.com...</td>\n",
       "      <td>GRP_0</td>\n",
       "    </tr>\n",
       "    <tr>\n",
       "      <th>2</th>\n",
       "      <td>cant log in to vpn</td>\n",
       "      <td>received from eylqgodm ybqkwiam gmail com hi i...</td>\n",
       "      <td>eylqgodm ybqkwiam</td>\n",
       "      <td>GRP_0</td>\n",
       "      <td>_x000D_\\n_x000D_\\nreceived from: eylqgodm.ybqk...</td>\n",
       "      <td>cant log in to vpn</td>\n",
       "      <td>en</td>\n",
       "      <td>cant log in to vpn</td>\n",
       "      <td>received from: eylqgodm.ybqkwiam@gmail.com...</td>\n",
       "      <td>GRP_0</td>\n",
       "    </tr>\n",
       "    <tr>\n",
       "      <th>3</th>\n",
       "      <td>unable to access hr tool page</td>\n",
       "      <td>unable to access hr tool page</td>\n",
       "      <td>xbkucsvz gcpydteq</td>\n",
       "      <td>GRP_0</td>\n",
       "      <td>unable to access hr_tool page</td>\n",
       "      <td>unable to access hr_tool page</td>\n",
       "      <td>en</td>\n",
       "      <td>unable to access hr_tool page</td>\n",
       "      <td>unable to access hr_tool page</td>\n",
       "      <td>GRP_0</td>\n",
       "    </tr>\n",
       "    <tr>\n",
       "      <th>4</th>\n",
       "      <td>skype error</td>\n",
       "      <td>skype error</td>\n",
       "      <td>owlgqjme qhcozdfx</td>\n",
       "      <td>GRP_0</td>\n",
       "      <td>skype error</td>\n",
       "      <td>skype error</td>\n",
       "      <td>no</td>\n",
       "      <td>skype error</td>\n",
       "      <td>skype error</td>\n",
       "      <td>GRP_0</td>\n",
       "    </tr>\n",
       "  </tbody>\n",
       "</table>\n",
       "</div>\n",
       "      <button class=\"colab-df-convert\" onclick=\"convertToInteractive('df-5550e5a3-f0b1-4f30-a8ab-72791d53091d')\"\n",
       "              title=\"Convert this dataframe to an interactive table.\"\n",
       "              style=\"display:none;\">\n",
       "        \n",
       "  <svg xmlns=\"http://www.w3.org/2000/svg\" height=\"24px\"viewBox=\"0 0 24 24\"\n",
       "       width=\"24px\">\n",
       "    <path d=\"M0 0h24v24H0V0z\" fill=\"none\"/>\n",
       "    <path d=\"M18.56 5.44l.94 2.06.94-2.06 2.06-.94-2.06-.94-.94-2.06-.94 2.06-2.06.94zm-11 1L8.5 8.5l.94-2.06 2.06-.94-2.06-.94L8.5 2.5l-.94 2.06-2.06.94zm10 10l.94 2.06.94-2.06 2.06-.94-2.06-.94-.94-2.06-.94 2.06-2.06.94z\"/><path d=\"M17.41 7.96l-1.37-1.37c-.4-.4-.92-.59-1.43-.59-.52 0-1.04.2-1.43.59L10.3 9.45l-7.72 7.72c-.78.78-.78 2.05 0 2.83L4 21.41c.39.39.9.59 1.41.59.51 0 1.02-.2 1.41-.59l7.78-7.78 2.81-2.81c.8-.78.8-2.07 0-2.86zM5.41 20L4 18.59l7.72-7.72 1.47 1.35L5.41 20z\"/>\n",
       "  </svg>\n",
       "      </button>\n",
       "      \n",
       "  <style>\n",
       "    .colab-df-container {\n",
       "      display:flex;\n",
       "      flex-wrap:wrap;\n",
       "      gap: 12px;\n",
       "    }\n",
       "\n",
       "    .colab-df-convert {\n",
       "      background-color: #E8F0FE;\n",
       "      border: none;\n",
       "      border-radius: 50%;\n",
       "      cursor: pointer;\n",
       "      display: none;\n",
       "      fill: #1967D2;\n",
       "      height: 32px;\n",
       "      padding: 0 0 0 0;\n",
       "      width: 32px;\n",
       "    }\n",
       "\n",
       "    .colab-df-convert:hover {\n",
       "      background-color: #E2EBFA;\n",
       "      box-shadow: 0px 1px 2px rgba(60, 64, 67, 0.3), 0px 1px 3px 1px rgba(60, 64, 67, 0.15);\n",
       "      fill: #174EA6;\n",
       "    }\n",
       "\n",
       "    [theme=dark] .colab-df-convert {\n",
       "      background-color: #3B4455;\n",
       "      fill: #D2E3FC;\n",
       "    }\n",
       "\n",
       "    [theme=dark] .colab-df-convert:hover {\n",
       "      background-color: #434B5C;\n",
       "      box-shadow: 0px 1px 3px 1px rgba(0, 0, 0, 0.15);\n",
       "      filter: drop-shadow(0px 1px 2px rgba(0, 0, 0, 0.3));\n",
       "      fill: #FFFFFF;\n",
       "    }\n",
       "  </style>\n",
       "\n",
       "      <script>\n",
       "        const buttonEl =\n",
       "          document.querySelector('#df-5550e5a3-f0b1-4f30-a8ab-72791d53091d button.colab-df-convert');\n",
       "        buttonEl.style.display =\n",
       "          google.colab.kernel.accessAllowed ? 'block' : 'none';\n",
       "\n",
       "        async function convertToInteractive(key) {\n",
       "          const element = document.querySelector('#df-5550e5a3-f0b1-4f30-a8ab-72791d53091d');\n",
       "          const dataTable =\n",
       "            await google.colab.kernel.invokeFunction('convertToInteractive',\n",
       "                                                     [key], {});\n",
       "          if (!dataTable) return;\n",
       "\n",
       "          const docLinkHtml = 'Like what you see? Visit the ' +\n",
       "            '<a target=\"_blank\" href=https://colab.research.google.com/notebooks/data_table.ipynb>data table notebook</a>'\n",
       "            + ' to learn more about interactive tables.';\n",
       "          element.innerHTML = '';\n",
       "          dataTable['output_type'] = 'display_data';\n",
       "          await google.colab.output.renderOutput(dataTable, element);\n",
       "          const docLink = document.createElement('div');\n",
       "          docLink.innerHTML = docLinkHtml;\n",
       "          element.appendChild(docLink);\n",
       "        }\n",
       "      </script>\n",
       "    </div>\n",
       "  </div>\n",
       "  "
      ],
      "text/plain": [
       "               Short description  \\\n",
       "0                    login issue   \n",
       "1                        outlook   \n",
       "2             cant log in to vpn   \n",
       "3  unable to access hr tool page   \n",
       "4                    skype error   \n",
       "\n",
       "                                         Description             Caller  \\\n",
       "0  verified user details employee manager name ch...  spxjnwir pjlcoqds   \n",
       "1  received from hmjdrvpb komuaywn gmail com hell...  hmjdrvpb komuaywn   \n",
       "2  received from eylqgodm ybqkwiam gmail com hi i...  eylqgodm ybqkwiam   \n",
       "3                      unable to access hr tool page  xbkucsvz gcpydteq   \n",
       "4                                        skype error  owlgqjme qhcozdfx   \n",
       "\n",
       "  Assignment group                                          orig_desc  \\\n",
       "0            GRP_0  -verified user details.(employee# & manager na...   \n",
       "1            GRP_0  _x000D_\\n_x000D_\\nreceived from: hmjdrvpb.komu...   \n",
       "2            GRP_0  _x000D_\\n_x000D_\\nreceived from: eylqgodm.ybqk...   \n",
       "3            GRP_0                      unable to access hr_tool page   \n",
       "4            GRP_0                                       skype error    \n",
       "\n",
       "                 orig_short_desc Lang           Translated_ShortDesc  \\\n",
       "0                    login issue   en                    login issue   \n",
       "1                        outlook   en                        outlook   \n",
       "2             cant log in to vpn   en             cant log in to vpn   \n",
       "3  unable to access hr_tool page   en  unable to access hr_tool page   \n",
       "4                   skype error    no                    skype error   \n",
       "\n",
       "                              Translated_Description orig_assign_group  \n",
       "0  -verified user details.(employee# & manager na...             GRP_0  \n",
       "1      received from: hmjdrvpb.komuaywn@gmail.com...             GRP_0  \n",
       "2      received from: eylqgodm.ybqkwiam@gmail.com...             GRP_0  \n",
       "3                      unable to access hr_tool page             GRP_0  \n",
       "4                                        skype error             GRP_0  "
      ]
     },
     "execution_count": 178,
     "metadata": {},
     "output_type": "execute_result"
    }
   ],
   "source": [
    "df_data.head()"
   ]
  },
  {
   "cell_type": "code",
   "execution_count": null,
   "metadata": {
    "colab": {
     "base_uri": "https://localhost:8080/"
    },
    "id": "b3slU1I9fM9b",
    "outputId": "5fd97654-8796-4d5e-ded0-d598eb94a6c8"
   },
   "outputs": [
    {
     "data": {
      "text/plain": [
       "(8467, 10)"
      ]
     },
     "execution_count": 161,
     "metadata": {},
     "output_type": "execute_result"
    }
   ],
   "source": [
    "df_data.shape"
   ]
  },
  {
   "cell_type": "code",
   "execution_count": null,
   "metadata": {
    "id": "_nS1esihfDjO"
   },
   "outputs": [],
   "source": [
    "#df_data.drop(df_data[(df_data['Lang'] != 'en')].index, inplace=True)"
   ]
  },
  {
   "cell_type": "code",
   "execution_count": null,
   "metadata": {
    "id": "AD9Xr1aciH1X"
   },
   "outputs": [],
   "source": [
    "#df_data.drop(df_data[(df_data['Assignment group'] == 'GRP_48')].index, inplace=True)"
   ]
  },
  {
   "cell_type": "code",
   "execution_count": null,
   "metadata": {
    "colab": {
     "base_uri": "https://localhost:8080/"
    },
    "id": "mJ9isdnvfUig",
    "outputId": "68cd9d7c-3a72-46f7-c575-33a8ddb1909f"
   },
   "outputs": [
    {
     "data": {
      "text/plain": [
       "(8467, 10)"
      ]
     },
     "execution_count": 164,
     "metadata": {},
     "output_type": "execute_result"
    }
   ],
   "source": [
    "df_data.shape"
   ]
  },
  {
   "cell_type": "code",
   "execution_count": null,
   "metadata": {
    "colab": {
     "base_uri": "https://localhost:8080/",
     "height": 583
    },
    "id": "4XImEcJ0fYeh",
    "outputId": "9b2058b0-a4e3-4410-e6a1-53ac2641a0c6"
   },
   "outputs": [
    {
     "data": {
      "text/html": [
       "\n",
       "  <div id=\"df-d7ddc2b7-ce28-49a8-82e3-4cb44b5fabdf\">\n",
       "    <div class=\"colab-df-container\">\n",
       "      <div>\n",
       "<style scoped>\n",
       "    .dataframe tbody tr th:only-of-type {\n",
       "        vertical-align: middle;\n",
       "    }\n",
       "\n",
       "    .dataframe tbody tr th {\n",
       "        vertical-align: top;\n",
       "    }\n",
       "\n",
       "    .dataframe thead th {\n",
       "        text-align: right;\n",
       "    }\n",
       "</style>\n",
       "<table border=\"1\" class=\"dataframe\">\n",
       "  <thead>\n",
       "    <tr style=\"text-align: right;\">\n",
       "      <th></th>\n",
       "      <th>Short description</th>\n",
       "      <th>Description</th>\n",
       "      <th>Caller</th>\n",
       "      <th>Assignment group</th>\n",
       "      <th>orig_desc</th>\n",
       "      <th>orig_short_desc</th>\n",
       "      <th>Lang</th>\n",
       "      <th>Translated_ShortDesc</th>\n",
       "      <th>Translated_Description</th>\n",
       "      <th>orig_assign_group</th>\n",
       "    </tr>\n",
       "  </thead>\n",
       "  <tbody>\n",
       "    <tr>\n",
       "      <th>0</th>\n",
       "      <td>login issue</td>\n",
       "      <td>verified user details employee manager name ch...</td>\n",
       "      <td>spxjnwir pjlcoqds</td>\n",
       "      <td>GRP_0</td>\n",
       "      <td>-verified user details.(employee# &amp; manager na...</td>\n",
       "      <td>login issue</td>\n",
       "      <td>en</td>\n",
       "      <td>login issue</td>\n",
       "      <td>-verified user details.(employee# &amp; manager na...</td>\n",
       "      <td>GRP_0</td>\n",
       "    </tr>\n",
       "    <tr>\n",
       "      <th>1</th>\n",
       "      <td>outlook</td>\n",
       "      <td>received from hmjdrvpb komuaywn gmail com hell...</td>\n",
       "      <td>hmjdrvpb komuaywn</td>\n",
       "      <td>GRP_0</td>\n",
       "      <td>_x000D_\\n_x000D_\\nreceived from: hmjdrvpb.komu...</td>\n",
       "      <td>outlook</td>\n",
       "      <td>en</td>\n",
       "      <td>outlook</td>\n",
       "      <td>received from: hmjdrvpb.komuaywn@gmail.com...</td>\n",
       "      <td>GRP_0</td>\n",
       "    </tr>\n",
       "    <tr>\n",
       "      <th>2</th>\n",
       "      <td>cant log in to vpn</td>\n",
       "      <td>received from eylqgodm ybqkwiam gmail com hi i...</td>\n",
       "      <td>eylqgodm ybqkwiam</td>\n",
       "      <td>GRP_0</td>\n",
       "      <td>_x000D_\\n_x000D_\\nreceived from: eylqgodm.ybqk...</td>\n",
       "      <td>cant log in to vpn</td>\n",
       "      <td>en</td>\n",
       "      <td>cant log in to vpn</td>\n",
       "      <td>received from: eylqgodm.ybqkwiam@gmail.com...</td>\n",
       "      <td>GRP_0</td>\n",
       "    </tr>\n",
       "    <tr>\n",
       "      <th>3</th>\n",
       "      <td>unable to access hr tool page</td>\n",
       "      <td>unable to access hr tool page</td>\n",
       "      <td>xbkucsvz gcpydteq</td>\n",
       "      <td>GRP_0</td>\n",
       "      <td>unable to access hr_tool page</td>\n",
       "      <td>unable to access hr_tool page</td>\n",
       "      <td>en</td>\n",
       "      <td>unable to access hr_tool page</td>\n",
       "      <td>unable to access hr_tool page</td>\n",
       "      <td>GRP_0</td>\n",
       "    </tr>\n",
       "    <tr>\n",
       "      <th>4</th>\n",
       "      <td>skype error</td>\n",
       "      <td>skype error</td>\n",
       "      <td>owlgqjme qhcozdfx</td>\n",
       "      <td>GRP_0</td>\n",
       "      <td>skype error</td>\n",
       "      <td>skype error</td>\n",
       "      <td>no</td>\n",
       "      <td>skype error</td>\n",
       "      <td>skype error</td>\n",
       "      <td>GRP_0</td>\n",
       "    </tr>\n",
       "  </tbody>\n",
       "</table>\n",
       "</div>\n",
       "      <button class=\"colab-df-convert\" onclick=\"convertToInteractive('df-d7ddc2b7-ce28-49a8-82e3-4cb44b5fabdf')\"\n",
       "              title=\"Convert this dataframe to an interactive table.\"\n",
       "              style=\"display:none;\">\n",
       "        \n",
       "  <svg xmlns=\"http://www.w3.org/2000/svg\" height=\"24px\"viewBox=\"0 0 24 24\"\n",
       "       width=\"24px\">\n",
       "    <path d=\"M0 0h24v24H0V0z\" fill=\"none\"/>\n",
       "    <path d=\"M18.56 5.44l.94 2.06.94-2.06 2.06-.94-2.06-.94-.94-2.06-.94 2.06-2.06.94zm-11 1L8.5 8.5l.94-2.06 2.06-.94-2.06-.94L8.5 2.5l-.94 2.06-2.06.94zm10 10l.94 2.06.94-2.06 2.06-.94-2.06-.94-.94-2.06-.94 2.06-2.06.94z\"/><path d=\"M17.41 7.96l-1.37-1.37c-.4-.4-.92-.59-1.43-.59-.52 0-1.04.2-1.43.59L10.3 9.45l-7.72 7.72c-.78.78-.78 2.05 0 2.83L4 21.41c.39.39.9.59 1.41.59.51 0 1.02-.2 1.41-.59l7.78-7.78 2.81-2.81c.8-.78.8-2.07 0-2.86zM5.41 20L4 18.59l7.72-7.72 1.47 1.35L5.41 20z\"/>\n",
       "  </svg>\n",
       "      </button>\n",
       "      \n",
       "  <style>\n",
       "    .colab-df-container {\n",
       "      display:flex;\n",
       "      flex-wrap:wrap;\n",
       "      gap: 12px;\n",
       "    }\n",
       "\n",
       "    .colab-df-convert {\n",
       "      background-color: #E8F0FE;\n",
       "      border: none;\n",
       "      border-radius: 50%;\n",
       "      cursor: pointer;\n",
       "      display: none;\n",
       "      fill: #1967D2;\n",
       "      height: 32px;\n",
       "      padding: 0 0 0 0;\n",
       "      width: 32px;\n",
       "    }\n",
       "\n",
       "    .colab-df-convert:hover {\n",
       "      background-color: #E2EBFA;\n",
       "      box-shadow: 0px 1px 2px rgba(60, 64, 67, 0.3), 0px 1px 3px 1px rgba(60, 64, 67, 0.15);\n",
       "      fill: #174EA6;\n",
       "    }\n",
       "\n",
       "    [theme=dark] .colab-df-convert {\n",
       "      background-color: #3B4455;\n",
       "      fill: #D2E3FC;\n",
       "    }\n",
       "\n",
       "    [theme=dark] .colab-df-convert:hover {\n",
       "      background-color: #434B5C;\n",
       "      box-shadow: 0px 1px 3px 1px rgba(0, 0, 0, 0.15);\n",
       "      filter: drop-shadow(0px 1px 2px rgba(0, 0, 0, 0.3));\n",
       "      fill: #FFFFFF;\n",
       "    }\n",
       "  </style>\n",
       "\n",
       "      <script>\n",
       "        const buttonEl =\n",
       "          document.querySelector('#df-d7ddc2b7-ce28-49a8-82e3-4cb44b5fabdf button.colab-df-convert');\n",
       "        buttonEl.style.display =\n",
       "          google.colab.kernel.accessAllowed ? 'block' : 'none';\n",
       "\n",
       "        async function convertToInteractive(key) {\n",
       "          const element = document.querySelector('#df-d7ddc2b7-ce28-49a8-82e3-4cb44b5fabdf');\n",
       "          const dataTable =\n",
       "            await google.colab.kernel.invokeFunction('convertToInteractive',\n",
       "                                                     [key], {});\n",
       "          if (!dataTable) return;\n",
       "\n",
       "          const docLinkHtml = 'Like what you see? Visit the ' +\n",
       "            '<a target=\"_blank\" href=https://colab.research.google.com/notebooks/data_table.ipynb>data table notebook</a>'\n",
       "            + ' to learn more about interactive tables.';\n",
       "          element.innerHTML = '';\n",
       "          dataTable['output_type'] = 'display_data';\n",
       "          await google.colab.output.renderOutput(dataTable, element);\n",
       "          const docLink = document.createElement('div');\n",
       "          docLink.innerHTML = docLinkHtml;\n",
       "          element.appendChild(docLink);\n",
       "        }\n",
       "      </script>\n",
       "    </div>\n",
       "  </div>\n",
       "  "
      ],
      "text/plain": [
       "               Short description  ... orig_assign_group\n",
       "0                    login issue  ...             GRP_0\n",
       "1                        outlook  ...             GRP_0\n",
       "2             cant log in to vpn  ...             GRP_0\n",
       "3  unable to access hr tool page  ...             GRP_0\n",
       "4                    skype error  ...             GRP_0\n",
       "\n",
       "[5 rows x 10 columns]"
      ]
     },
     "execution_count": 165,
     "metadata": {},
     "output_type": "execute_result"
    }
   ],
   "source": [
    "df_data.head()"
   ]
  },
  {
   "cell_type": "code",
   "execution_count": null,
   "metadata": {
    "id": "PoVgUa6Mfrkm"
   },
   "outputs": [],
   "source": [
    "df_data['txt_wo_stopwords'] = df_data['Translated_ShortDesc'].astype('str').apply(lambda words: ' '.join(word.lower() for word in words.split() if word not in stop_words))"
   ]
  },
  {
   "cell_type": "code",
   "execution_count": null,
   "metadata": {
    "id": "KTZJbsP0fz8N"
   },
   "outputs": [],
   "source": [
    "X = df_data.txt_wo_stopwords"
   ]
  },
  {
   "cell_type": "code",
   "execution_count": null,
   "metadata": {
    "id": "cR7bKSSbhqM2"
   },
   "outputs": [],
   "source": [
    "y=df_data['Assignment group']\n",
    "from sklearn import preprocessing\n",
    "le = preprocessing.LabelEncoder()\n",
    "y=le.fit(df_data['Assignment group'])\n",
    "y=le.transform(df_data['Assignment group'])\n",
    "y=le.transform(df_data['Assignment group'])"
   ]
  },
  {
   "cell_type": "code",
   "execution_count": null,
   "metadata": {
    "id": "pQGBtxMvhrkn"
   },
   "outputs": [],
   "source": [
    "from sklearn.model_selection import train_test_split\n",
    "# split X and y into training and testing sets\n",
    "X_train, X_test, y_train, y_test = train_test_split(X, y, test_size = 0.05, random_state=42, stratify=y)\n",
    "X_train, X_val, y_train,y_val = train_test_split(X_train, y_train, random_state=42, stratify=y)"
   ]
  },
  {
   "cell_type": "code",
   "execution_count": null,
   "metadata": {
    "colab": {
     "base_uri": "https://localhost:8080/"
    },
    "id": "eBoiWmLoh24y",
    "outputId": "2589a613-97c5-4f35-c67f-89d633cb4a14"
   },
   "outputs": [
    {
     "name": "stdout",
     "output_type": "stream",
     "text": [
      "X_train : (6350,)\n",
      "X_test : (2117,)\n",
      "y_train : (6350,)\n",
      "y_test : (2117,)\n"
     ]
    }
   ],
   "source": [
    "print('X_train : '+str(X_train.shape))\n",
    "print('X_test : '+str(X_test.shape))\n",
    "print('y_train : '+str(y_train.shape))\n",
    "print('y_test : '+str(y_test.shape))\n",
    "print('X_val : '+str(X_val.shape))\n",
    "print('y_val : '+str(y_val.shape))\n"
   ]
  },
  {
   "cell_type": "code",
   "execution_count": null,
   "metadata": {
    "id": "yFMZQqCwicL0"
   },
   "outputs": [],
   "source": [
    "# import and instantiate TF-IDF Vectorizer (with the default parameters)\n",
    "from sklearn.feature_extraction.text import TfidfVectorizer\n",
    "tvect = TfidfVectorizer()"
   ]
  },
  {
   "cell_type": "code",
   "execution_count": null,
   "metadata": {
    "colab": {
     "base_uri": "https://localhost:8080/"
    },
    "id": "h7EQRk19ido-",
    "outputId": "068343be-fb1d-482e-9ba5-0339f8165434"
   },
   "outputs": [
    {
     "data": {
      "text/plain": [
       "TfidfVectorizer()"
      ]
     },
     "execution_count": 172,
     "metadata": {},
     "output_type": "execute_result"
    }
   ],
   "source": [
    "tvect.fit(X_train)"
   ]
  },
  {
   "cell_type": "code",
   "execution_count": null,
   "metadata": {
    "colab": {
     "base_uri": "https://localhost:8080/"
    },
    "id": "puEqTLV2ie7U",
    "outputId": "98083d75-f864-49de-87c3-f0456dbc463d"
   },
   "outputs": [
    {
     "data": {
      "text/plain": [
       "6210"
      ]
     },
     "execution_count": 173,
     "metadata": {},
     "output_type": "execute_result"
    }
   ],
   "source": [
    "len(tvect.vocabulary_)"
   ]
  },
  {
   "cell_type": "code",
   "execution_count": null,
   "metadata": {
    "colab": {
     "base_uri": "https://localhost:8080/"
    },
    "id": "WWBDXUOEigH-",
    "outputId": "9894d0d7-2285-4f8b-deff-155ca5d91d43"
   },
   "outputs": [
    {
     "data": {
      "text/plain": [
       "(6350, 6210)"
      ]
     },
     "execution_count": 174,
     "metadata": {},
     "output_type": "execute_result"
    }
   ],
   "source": [
    "X_train_tfidf = tvect.transform(X_train)\n",
    "X_train_tfidf.shape\n"
   ]
  },
  {
   "cell_type": "code",
   "execution_count": null,
   "metadata": {
    "id": "m-ErYT-qih8r"
   },
   "outputs": [],
   "source": [
    "X_test_tfidf = tvect.transform(X_test)\n"
   ]
  },
  {
   "cell_type": "code",
   "execution_count": null,
   "metadata": {
    "id": "Igt5QEVPijif"
   },
   "outputs": [],
   "source": [
    "from sklearn.multiclass import OneVsRestClassifier\n",
    "from sklearn import svm"
   ]
  },
  {
   "cell_type": "code",
   "execution_count": null,
   "metadata": {
    "id": "rgqb4klAik3f"
   },
   "outputs": [],
   "source": [
    "clf = svm.SVC()\n",
    "clf = OneVsRestClassifier(clf)"
   ]
  },
  {
   "cell_type": "code",
   "execution_count": null,
   "metadata": {
    "colab": {
     "base_uri": "https://localhost:8080/"
    },
    "id": "Q16r3F8simWa",
    "outputId": "01424f34-8d61-4845-e8d2-d70ae496f35f"
   },
   "outputs": [
    {
     "data": {
      "text/plain": [
       "OneVsRestClassifier(estimator=SVC())"
      ]
     },
     "execution_count": 178,
     "metadata": {},
     "output_type": "execute_result"
    }
   ],
   "source": [
    "clf.fit(X_train_tfidf, y_train)\n"
   ]
  },
  {
   "cell_type": "code",
   "execution_count": null,
   "metadata": {
    "id": "m5lQnCFAioUW"
   },
   "outputs": [],
   "source": [
    "y_pred_tfidf = clf.predict(X_test_tfidf)\n"
   ]
  },
  {
   "cell_type": "code",
   "execution_count": null,
   "metadata": {
    "colab": {
     "base_uri": "https://localhost:8080/"
    },
    "id": "ZLvUWs_biqTE",
    "outputId": "347dea1f-42bd-4cf4-e796-d16509f76e8c"
   },
   "outputs": [
    {
     "name": "stdout",
     "output_type": "stream",
     "text": [
      "              precision    recall  f1-score   support\n",
      "\n",
      "           0       0.69      0.96      0.80       994\n",
      "           1       1.00      0.00      0.00         8\n",
      "           2       0.87      0.57      0.69        35\n",
      "           3       0.50      0.12      0.20         8\n",
      "           4       0.59      0.52      0.55        64\n",
      "           5       0.56      0.53      0.54        36\n",
      "           6       0.62      0.27      0.37        30\n",
      "           7       0.33      0.10      0.15        10\n",
      "           8       0.00      0.00      0.00        21\n",
      "           9       0.80      1.00      0.89        20\n",
      "          10       0.73      0.36      0.48        22\n",
      "          11       0.52      0.20      0.29        54\n",
      "          12       0.72      0.22      0.33        60\n",
      "          13       1.00      0.00      0.00         9\n",
      "          14       0.40      0.29      0.33         7\n",
      "          15       0.50      0.25      0.33         8\n",
      "          16       0.43      0.50      0.46         6\n",
      "          17       0.86      0.86      0.86        72\n",
      "          18       0.74      0.48      0.58        29\n",
      "          19       0.33      0.07      0.12        14\n",
      "          20       1.00      0.00      0.00         4\n",
      "          21       1.00      0.09      0.17        11\n",
      "          22       0.72      0.54      0.62        24\n",
      "          23       0.30      0.14      0.19        50\n",
      "          24       0.00      0.00      0.00         6\n",
      "          25       0.20      0.06      0.09        17\n",
      "          26       0.43      0.11      0.18        27\n",
      "          27       0.29      0.25      0.27        16\n",
      "          28       1.00      0.25      0.40         4\n",
      "          29       1.00      0.00      0.00         4\n",
      "          30       0.33      0.20      0.25         5\n",
      "          31       0.29      0.08      0.12        25\n",
      "          32       0.50      0.18      0.27        11\n",
      "          33       0.75      0.30      0.43        10\n",
      "          34       0.00      0.00      0.00         9\n",
      "          35       1.00      0.00      0.00         4\n",
      "          36       1.00      0.00      0.00         9\n",
      "          37       1.00      0.14      0.25         7\n",
      "          38       1.00      0.00      0.00         2\n",
      "          39       0.72      0.41      0.52        32\n",
      "          40       0.33      0.33      0.33         3\n",
      "          41       1.00      0.00      0.00         3\n",
      "          42       0.64      0.35      0.45        46\n",
      "          43       1.00      0.20      0.33         5\n",
      "          44       1.00      0.00      0.00         6\n",
      "          45       1.00      0.00      0.00         3\n",
      "          46       0.73      0.65      0.69        17\n",
      "          47       0.62      0.87      0.72       165\n",
      "          48       0.95      0.56      0.70        63\n",
      "          49       0.50      0.09      0.15        22\n",
      "\n",
      "    accuracy                           0.68      2117\n",
      "   macro avg       0.65      0.26      0.30      2117\n",
      "weighted avg       0.66      0.68      0.62      2117\n",
      "\n"
     ]
    }
   ],
   "source": [
    "from sklearn.metrics import classification_report\n",
    "print(classification_report(y_test, y_pred_tfidf,zero_division=1))"
   ]
  },
  {
   "cell_type": "markdown",
   "metadata": {
    "id": "Qp4vuf5Kmafe"
   },
   "source": [
    "## Classification combining both Long and Short Description"
   ]
  },
  {
   "cell_type": "code",
   "execution_count": null,
   "metadata": {
    "id": "yR0tfA5oirp3"
   },
   "outputs": [],
   "source": [
    "df_data = pd.read_csv(project_path+'input_data_trans_preprocess.csv')"
   ]
  },
  {
   "cell_type": "code",
   "execution_count": null,
   "metadata": {
    "colab": {
     "base_uri": "https://localhost:8080/",
     "height": 583
    },
    "id": "vEQquUb2mwq_",
    "outputId": "bf46ee00-ccad-41ff-a808-a3bf2897390f"
   },
   "outputs": [
    {
     "data": {
      "text/html": [
       "\n",
       "  <div id=\"df-0263c2a1-6c1b-4035-a855-f02e0c324016\">\n",
       "    <div class=\"colab-df-container\">\n",
       "      <div>\n",
       "<style scoped>\n",
       "    .dataframe tbody tr th:only-of-type {\n",
       "        vertical-align: middle;\n",
       "    }\n",
       "\n",
       "    .dataframe tbody tr th {\n",
       "        vertical-align: top;\n",
       "    }\n",
       "\n",
       "    .dataframe thead th {\n",
       "        text-align: right;\n",
       "    }\n",
       "</style>\n",
       "<table border=\"1\" class=\"dataframe\">\n",
       "  <thead>\n",
       "    <tr style=\"text-align: right;\">\n",
       "      <th></th>\n",
       "      <th>Short description</th>\n",
       "      <th>Description</th>\n",
       "      <th>Caller</th>\n",
       "      <th>Assignment group</th>\n",
       "      <th>orig_desc</th>\n",
       "      <th>orig_short_desc</th>\n",
       "      <th>Lang</th>\n",
       "      <th>Translated_ShortDesc</th>\n",
       "      <th>Translated_Description</th>\n",
       "      <th>orig_assign_group</th>\n",
       "      <th>txt_wo_stopwords</th>\n",
       "    </tr>\n",
       "  </thead>\n",
       "  <tbody>\n",
       "    <tr>\n",
       "      <th>0</th>\n",
       "      <td>login issue</td>\n",
       "      <td>verified user details employee manager name ch...</td>\n",
       "      <td>spxjnwir pjlcoqds</td>\n",
       "      <td>GRP_0</td>\n",
       "      <td>-verified user details.(employee# &amp; manager na...</td>\n",
       "      <td>login issue</td>\n",
       "      <td>en</td>\n",
       "      <td>login issue</td>\n",
       "      <td>-verified user details.(employee# &amp; manager na...</td>\n",
       "      <td>GRP_0</td>\n",
       "      <td>login issue-verified user details.(employee# &amp;...</td>\n",
       "    </tr>\n",
       "    <tr>\n",
       "      <th>1</th>\n",
       "      <td>outlook</td>\n",
       "      <td>received from hmjdrvpb komuaywn gmail com hell...</td>\n",
       "      <td>hmjdrvpb komuaywn</td>\n",
       "      <td>GRP_0</td>\n",
       "      <td>_x000D_\\n_x000D_\\nreceived from: hmjdrvpb.komu...</td>\n",
       "      <td>outlook</td>\n",
       "      <td>en</td>\n",
       "      <td>outlook</td>\n",
       "      <td>received from: hmjdrvpb.komuaywn@gmail.com...</td>\n",
       "      <td>GRP_0</td>\n",
       "      <td>outlookreceived from: hmjdrvpb.komuaywn@gmail....</td>\n",
       "    </tr>\n",
       "    <tr>\n",
       "      <th>2</th>\n",
       "      <td>cant log in to vpn</td>\n",
       "      <td>received from eylqgodm ybqkwiam gmail com hi i...</td>\n",
       "      <td>eylqgodm ybqkwiam</td>\n",
       "      <td>GRP_0</td>\n",
       "      <td>_x000D_\\n_x000D_\\nreceived from: eylqgodm.ybqk...</td>\n",
       "      <td>cant log in to vpn</td>\n",
       "      <td>en</td>\n",
       "      <td>cant log in to vpn</td>\n",
       "      <td>received from: eylqgodm.ybqkwiam@gmail.com...</td>\n",
       "      <td>GRP_0</td>\n",
       "      <td>cant log in to vpnreceived from: eylqgodm.ybqk...</td>\n",
       "    </tr>\n",
       "    <tr>\n",
       "      <th>3</th>\n",
       "      <td>unable to access hr tool page</td>\n",
       "      <td>unable to access hr tool page</td>\n",
       "      <td>xbkucsvz gcpydteq</td>\n",
       "      <td>GRP_0</td>\n",
       "      <td>unable to access hr_tool page</td>\n",
       "      <td>unable to access hr_tool page</td>\n",
       "      <td>en</td>\n",
       "      <td>unable to access hr_tool page</td>\n",
       "      <td>unable to access hr_tool page</td>\n",
       "      <td>GRP_0</td>\n",
       "      <td>unable to access hr_tool pageunable access hr_...</td>\n",
       "    </tr>\n",
       "    <tr>\n",
       "      <th>4</th>\n",
       "      <td>skype error</td>\n",
       "      <td>skype error</td>\n",
       "      <td>owlgqjme qhcozdfx</td>\n",
       "      <td>GRP_0</td>\n",
       "      <td>skype error</td>\n",
       "      <td>skype error</td>\n",
       "      <td>no</td>\n",
       "      <td>skype error</td>\n",
       "      <td>skype error</td>\n",
       "      <td>GRP_0</td>\n",
       "      <td>skype errorskype error</td>\n",
       "    </tr>\n",
       "  </tbody>\n",
       "</table>\n",
       "</div>\n",
       "      <button class=\"colab-df-convert\" onclick=\"convertToInteractive('df-0263c2a1-6c1b-4035-a855-f02e0c324016')\"\n",
       "              title=\"Convert this dataframe to an interactive table.\"\n",
       "              style=\"display:none;\">\n",
       "        \n",
       "  <svg xmlns=\"http://www.w3.org/2000/svg\" height=\"24px\"viewBox=\"0 0 24 24\"\n",
       "       width=\"24px\">\n",
       "    <path d=\"M0 0h24v24H0V0z\" fill=\"none\"/>\n",
       "    <path d=\"M18.56 5.44l.94 2.06.94-2.06 2.06-.94-2.06-.94-.94-2.06-.94 2.06-2.06.94zm-11 1L8.5 8.5l.94-2.06 2.06-.94-2.06-.94L8.5 2.5l-.94 2.06-2.06.94zm10 10l.94 2.06.94-2.06 2.06-.94-2.06-.94-.94-2.06-.94 2.06-2.06.94z\"/><path d=\"M17.41 7.96l-1.37-1.37c-.4-.4-.92-.59-1.43-.59-.52 0-1.04.2-1.43.59L10.3 9.45l-7.72 7.72c-.78.78-.78 2.05 0 2.83L4 21.41c.39.39.9.59 1.41.59.51 0 1.02-.2 1.41-.59l7.78-7.78 2.81-2.81c.8-.78.8-2.07 0-2.86zM5.41 20L4 18.59l7.72-7.72 1.47 1.35L5.41 20z\"/>\n",
       "  </svg>\n",
       "      </button>\n",
       "      \n",
       "  <style>\n",
       "    .colab-df-container {\n",
       "      display:flex;\n",
       "      flex-wrap:wrap;\n",
       "      gap: 12px;\n",
       "    }\n",
       "\n",
       "    .colab-df-convert {\n",
       "      background-color: #E8F0FE;\n",
       "      border: none;\n",
       "      border-radius: 50%;\n",
       "      cursor: pointer;\n",
       "      display: none;\n",
       "      fill: #1967D2;\n",
       "      height: 32px;\n",
       "      padding: 0 0 0 0;\n",
       "      width: 32px;\n",
       "    }\n",
       "\n",
       "    .colab-df-convert:hover {\n",
       "      background-color: #E2EBFA;\n",
       "      box-shadow: 0px 1px 2px rgba(60, 64, 67, 0.3), 0px 1px 3px 1px rgba(60, 64, 67, 0.15);\n",
       "      fill: #174EA6;\n",
       "    }\n",
       "\n",
       "    [theme=dark] .colab-df-convert {\n",
       "      background-color: #3B4455;\n",
       "      fill: #D2E3FC;\n",
       "    }\n",
       "\n",
       "    [theme=dark] .colab-df-convert:hover {\n",
       "      background-color: #434B5C;\n",
       "      box-shadow: 0px 1px 3px 1px rgba(0, 0, 0, 0.15);\n",
       "      filter: drop-shadow(0px 1px 2px rgba(0, 0, 0, 0.3));\n",
       "      fill: #FFFFFF;\n",
       "    }\n",
       "  </style>\n",
       "\n",
       "      <script>\n",
       "        const buttonEl =\n",
       "          document.querySelector('#df-0263c2a1-6c1b-4035-a855-f02e0c324016 button.colab-df-convert');\n",
       "        buttonEl.style.display =\n",
       "          google.colab.kernel.accessAllowed ? 'block' : 'none';\n",
       "\n",
       "        async function convertToInteractive(key) {\n",
       "          const element = document.querySelector('#df-0263c2a1-6c1b-4035-a855-f02e0c324016');\n",
       "          const dataTable =\n",
       "            await google.colab.kernel.invokeFunction('convertToInteractive',\n",
       "                                                     [key], {});\n",
       "          if (!dataTable) return;\n",
       "\n",
       "          const docLinkHtml = 'Like what you see? Visit the ' +\n",
       "            '<a target=\"_blank\" href=https://colab.research.google.com/notebooks/data_table.ipynb>data table notebook</a>'\n",
       "            + ' to learn more about interactive tables.';\n",
       "          element.innerHTML = '';\n",
       "          dataTable['output_type'] = 'display_data';\n",
       "          await google.colab.output.renderOutput(dataTable, element);\n",
       "          const docLink = document.createElement('div');\n",
       "          docLink.innerHTML = docLinkHtml;\n",
       "          element.appendChild(docLink);\n",
       "        }\n",
       "      </script>\n",
       "    </div>\n",
       "  </div>\n",
       "  "
      ],
      "text/plain": [
       "               Short description  \\\n",
       "0                    login issue   \n",
       "1                        outlook   \n",
       "2             cant log in to vpn   \n",
       "3  unable to access hr tool page   \n",
       "4                    skype error   \n",
       "\n",
       "                                         Description             Caller  \\\n",
       "0  verified user details employee manager name ch...  spxjnwir pjlcoqds   \n",
       "1  received from hmjdrvpb komuaywn gmail com hell...  hmjdrvpb komuaywn   \n",
       "2  received from eylqgodm ybqkwiam gmail com hi i...  eylqgodm ybqkwiam   \n",
       "3                      unable to access hr tool page  xbkucsvz gcpydteq   \n",
       "4                                        skype error  owlgqjme qhcozdfx   \n",
       "\n",
       "  Assignment group                                          orig_desc  \\\n",
       "0            GRP_0  -verified user details.(employee# & manager na...   \n",
       "1            GRP_0  _x000D_\\n_x000D_\\nreceived from: hmjdrvpb.komu...   \n",
       "2            GRP_0  _x000D_\\n_x000D_\\nreceived from: eylqgodm.ybqk...   \n",
       "3            GRP_0                      unable to access hr_tool page   \n",
       "4            GRP_0                                       skype error    \n",
       "\n",
       "                 orig_short_desc Lang           Translated_ShortDesc  \\\n",
       "0                    login issue   en                    login issue   \n",
       "1                        outlook   en                        outlook   \n",
       "2             cant log in to vpn   en             cant log in to vpn   \n",
       "3  unable to access hr_tool page   en  unable to access hr_tool page   \n",
       "4                   skype error    no                    skype error   \n",
       "\n",
       "                              Translated_Description orig_assign_group  \\\n",
       "0  -verified user details.(employee# & manager na...             GRP_0   \n",
       "1      received from: hmjdrvpb.komuaywn@gmail.com...             GRP_0   \n",
       "2      received from: eylqgodm.ybqkwiam@gmail.com...             GRP_0   \n",
       "3                      unable to access hr_tool page             GRP_0   \n",
       "4                                        skype error             GRP_0   \n",
       "\n",
       "                                    txt_wo_stopwords  \n",
       "0  login issue-verified user details.(employee# &...  \n",
       "1  outlookreceived from: hmjdrvpb.komuaywn@gmail....  \n",
       "2  cant log in to vpnreceived from: eylqgodm.ybqk...  \n",
       "3  unable to access hr_tool pageunable access hr_...  \n",
       "4                             skype errorskype error  "
      ]
     },
     "execution_count": 140,
     "metadata": {},
     "output_type": "execute_result"
    }
   ],
   "source": [
    "df_data.head()"
   ]
  },
  {
   "cell_type": "code",
   "execution_count": null,
   "metadata": {
    "colab": {
     "base_uri": "https://localhost:8080/"
    },
    "id": "7Mc-4CxFmywy",
    "outputId": "41142e2e-91b0-42e0-9466-80a208e2fff4"
   },
   "outputs": [
    {
     "data": {
      "text/plain": [
       "(8467, 10)"
      ]
     },
     "execution_count": 108,
     "metadata": {},
     "output_type": "execute_result"
    }
   ],
   "source": [
    "df_data.shape"
   ]
  },
  {
   "cell_type": "code",
   "execution_count": null,
   "metadata": {
    "id": "z8ABefPqm0Wk"
   },
   "outputs": [],
   "source": [
    "#df_data.drop(df_data[(df_data['Lang'] != 'en')].index, inplace=True)\n",
    "#df_data.drop(df_data[(df_data['Assignment group'] == 'GRP_48')].index, inplace=True)"
   ]
  },
  {
   "cell_type": "code",
   "execution_count": null,
   "metadata": {
    "colab": {
     "base_uri": "https://localhost:8080/"
    },
    "id": "4cUib4pvm2L5",
    "outputId": "f6fa5486-434d-4025-93f4-f9739439829c"
   },
   "outputs": [
    {
     "name": "stdout",
     "output_type": "stream",
     "text": [
      "[nltk_data] Downloading package stopwords to /root/nltk_data...\n",
      "[nltk_data]   Package stopwords is already up-to-date!\n"
     ]
    },
    {
     "data": {
      "text/plain": [
       "True"
      ]
     },
     "execution_count": 110,
     "metadata": {},
     "output_type": "execute_result"
    }
   ],
   "source": [
    "import nltk\n",
    "from nltk.corpus import stopwords\n",
    "nltk.download(\"stopwords\")"
   ]
  },
  {
   "cell_type": "code",
   "execution_count": null,
   "metadata": {
    "id": "18hyvRi6m6gI"
   },
   "outputs": [],
   "source": [
    "stop_words=set(stopwords.words('english'))"
   ]
  },
  {
   "cell_type": "code",
   "execution_count": null,
   "metadata": {
    "id": "UIupeHkam4Ac"
   },
   "outputs": [],
   "source": [
    "df_data['txt_wo_stopwords'] = df_data['Translated_ShortDesc'] + df_data['Translated_Description'].apply(lambda words: ' '.join(word.lower() for word in words.split() if word not in stop_words))"
   ]
  },
  {
   "cell_type": "code",
   "execution_count": null,
   "metadata": {
    "id": "94FAbBq6n1Av"
   },
   "outputs": [],
   "source": [
    "df_data.dropna(inplace=True)"
   ]
  },
  {
   "cell_type": "code",
   "execution_count": null,
   "metadata": {
    "colab": {
     "base_uri": "https://localhost:8080/"
    },
    "id": "FQQSwCuBn5E0",
    "outputId": "100c6781-af31-4680-c3f9-a4172f28cf85"
   },
   "outputs": [
    {
     "data": {
      "text/plain": [
       "(8449, 11)"
      ]
     },
     "execution_count": 114,
     "metadata": {},
     "output_type": "execute_result"
    }
   ],
   "source": [
    "df_data.shape"
   ]
  },
  {
   "cell_type": "code",
   "execution_count": null,
   "metadata": {
    "id": "MZKKPkW8m95T"
   },
   "outputs": [],
   "source": [
    "X = df_data.txt_wo_stopwords"
   ]
  },
  {
   "cell_type": "code",
   "execution_count": null,
   "metadata": {
    "id": "MF0KsQsmnj5F"
   },
   "outputs": [],
   "source": [
    "y=df_data['Assignment group']\n",
    "from sklearn import preprocessing\n",
    "le = preprocessing.LabelEncoder()\n",
    "y=le.fit(df_data['Assignment group'])\n",
    "y=le.transform(df_data['Assignment group'])\n",
    "y=le.transform(df_data['Assignment group'])\n"
   ]
  },
  {
   "cell_type": "code",
   "execution_count": null,
   "metadata": {
    "id": "cBepenjRnlyy"
   },
   "outputs": [],
   "source": [
    "from sklearn.model_selection import train_test_split\n",
    "# split X and y into training and testing sets\n",
    "X_train, X_test, y_train, y_test = train_test_split(X, y,test_size=0.01, shuffle = True, random_state = 8, stratify = y)"
   ]
  },
  {
   "cell_type": "code",
   "execution_count": null,
   "metadata": {
    "id": "Ltii9_bgarUC"
   },
   "outputs": [],
   "source": [
    "X_train, X_val, y_train, y_val = train_test_split(X_train, y_train, test_size=0.25, random_state= 8) # 0.25 x 0.8 = 0.2"
   ]
  },
  {
   "cell_type": "code",
   "execution_count": null,
   "metadata": {
    "colab": {
     "base_uri": "https://localhost:8080/"
    },
    "id": "G9EJXZ9kYfdW",
    "outputId": "935dbc4f-da8d-43f1-a6b6-55e99d3511b7"
   },
   "outputs": [
    {
     "name": "stdout",
     "output_type": "stream",
     "text": [
      "X_train shape: (6273,)\n",
      "X_test shape: (85,)\n",
      "y_train shape: (6273,)\n",
      "y_test shape: (85,)\n",
      "X_val shape: (2091,)\n",
      "y val shape: (2091,)\n"
     ]
    }
   ],
   "source": [
    "print(\"X_train shape: {}\".format(X_train.shape))\n",
    "print(\"X_test shape: {}\".format(X_test.shape))\n",
    "print(\"y_train shape: {}\".format(y_train.shape))\n",
    "print(\"y_test shape: {}\".format(y_test.shape))\n",
    "print(\"X_val shape: {}\".format(X_val.shape))\n",
    "print(\"y val shape: {}\".format(y_val.shape))"
   ]
  },
  {
   "cell_type": "code",
   "execution_count": null,
   "metadata": {
    "id": "NtE4EWT9nqI8"
   },
   "outputs": [],
   "source": [
    "# import and instantiate TF-IDF Vectorizer (with the default parameters)\n",
    "from sklearn.feature_extraction.text import TfidfVectorizer\n",
    "tvect = TfidfVectorizer()\n"
   ]
  },
  {
   "cell_type": "code",
   "execution_count": null,
   "metadata": {
    "colab": {
     "base_uri": "https://localhost:8080/"
    },
    "id": "5zC0g3d5nshT",
    "outputId": "e1e6e2ec-b132-4cf0-c3fd-7287141e3b36"
   },
   "outputs": [
    {
     "data": {
      "text/plain": [
       "TfidfVectorizer()"
      ]
     },
     "execution_count": 121,
     "metadata": {},
     "output_type": "execute_result"
    }
   ],
   "source": [
    "tvect.fit(X_train)"
   ]
  },
  {
   "cell_type": "code",
   "execution_count": null,
   "metadata": {
    "colab": {
     "base_uri": "https://localhost:8080/"
    },
    "id": "YYDWjimcnuWV",
    "outputId": "ef734dab-c43c-4024-d72f-7ac5295e3ab4"
   },
   "outputs": [
    {
     "data": {
      "text/plain": [
       "20872"
      ]
     },
     "execution_count": 122,
     "metadata": {},
     "output_type": "execute_result"
    }
   ],
   "source": [
    "len(tvect.vocabulary_)"
   ]
  },
  {
   "cell_type": "code",
   "execution_count": null,
   "metadata": {
    "colab": {
     "base_uri": "https://localhost:8080/"
    },
    "id": "7lZsIpDaoCQd",
    "outputId": "c8ce9979-e7ac-438d-90f8-a18e3e1918a7"
   },
   "outputs": [
    {
     "data": {
      "text/plain": [
       "(6273, 20872)"
      ]
     },
     "execution_count": 123,
     "metadata": {},
     "output_type": "execute_result"
    }
   ],
   "source": [
    "X_train_tfidf = tvect.transform(X_train)\n",
    "X_train_tfidf.shape"
   ]
  },
  {
   "cell_type": "code",
   "execution_count": null,
   "metadata": {
    "id": "RFsxRZLub38g"
   },
   "outputs": [],
   "source": [
    "X_val_tfidf = tvect.transform(X_val)"
   ]
  },
  {
   "cell_type": "code",
   "execution_count": null,
   "metadata": {
    "id": "JdsrbbWHoEMY"
   },
   "outputs": [],
   "source": [
    "X_test_tfidf = tvect.transform(X_test)"
   ]
  },
  {
   "cell_type": "code",
   "execution_count": null,
   "metadata": {
    "id": "WPw170-roFsI"
   },
   "outputs": [],
   "source": [
    "from sklearn.multiclass import OneVsRestClassifier\n",
    "from sklearn import svm\n"
   ]
  },
  {
   "cell_type": "code",
   "execution_count": null,
   "metadata": {
    "id": "6mHPD15voHRl"
   },
   "outputs": [],
   "source": [
    "clf = svm.SVC()\n",
    "clf = OneVsRestClassifier(clf)"
   ]
  },
  {
   "cell_type": "code",
   "execution_count": null,
   "metadata": {
    "colab": {
     "base_uri": "https://localhost:8080/"
    },
    "id": "2FWE3bZxoJEZ",
    "outputId": "a6a0233e-2507-4de2-b9da-00cfb6b5886f"
   },
   "outputs": [
    {
     "data": {
      "text/plain": [
       "OneVsRestClassifier(estimator=SVC())"
      ]
     },
     "execution_count": 128,
     "metadata": {},
     "output_type": "execute_result"
    }
   ],
   "source": [
    "clf.fit(X_train_tfidf, y_train)"
   ]
  },
  {
   "cell_type": "code",
   "execution_count": null,
   "metadata": {
    "id": "ua055YcfoKyW"
   },
   "outputs": [],
   "source": [
    "y_pred_tfidf = clf.predict(X_val_tfidf)"
   ]
  },
  {
   "cell_type": "code",
   "execution_count": null,
   "metadata": {
    "colab": {
     "base_uri": "https://localhost:8080/"
    },
    "id": "ilexA87ToM4p",
    "outputId": "46d4ec01-7c72-4e53-a573-e7cf7f183412"
   },
   "outputs": [
    {
     "name": "stdout",
     "output_type": "stream",
     "text": [
      "              precision    recall  f1-score   support\n",
      "\n",
      "           0       0.69      0.97      0.80      1001\n",
      "           1       1.00      0.00      0.00         4\n",
      "           2       0.82      0.38      0.52        37\n",
      "           3       1.00      0.00      0.00         7\n",
      "           4       0.70      0.43      0.53        74\n",
      "           5       0.43      0.54      0.48        24\n",
      "           6       0.69      0.27      0.39        33\n",
      "           7       1.00      0.00      0.00         9\n",
      "           8       1.00      0.00      0.00        21\n",
      "           9       0.88      1.00      0.94        23\n",
      "          10       0.53      0.44      0.48        18\n",
      "          11       0.55      0.22      0.31        51\n",
      "          12       0.73      0.39      0.51        57\n",
      "          13       0.00      0.00      0.00         6\n",
      "          14       0.00      0.00      0.00         3\n",
      "          15       0.50      0.09      0.15        11\n",
      "          16       0.17      0.17      0.17         6\n",
      "          17       0.84      0.84      0.84        74\n",
      "          18       0.64      0.29      0.40        31\n",
      "          19       0.50      0.07      0.12        14\n",
      "          20       1.00      0.00      0.00         5\n",
      "          21       1.00      0.00      0.00        11\n",
      "          22       0.87      0.48      0.62        27\n",
      "          23       0.54      0.26      0.35        50\n",
      "          24       0.00      0.00      0.00         3\n",
      "          25       0.50      0.21      0.30        14\n",
      "          26       0.20      0.04      0.07        23\n",
      "          27       0.57      0.22      0.32        18\n",
      "          28       1.00      0.33      0.50         3\n",
      "          29       0.00      0.00      0.00         2\n",
      "          30       1.00      0.38      0.55         8\n",
      "          31       1.00      0.04      0.08        23\n",
      "          32       0.00      0.00      0.00        11\n",
      "          33       1.00      0.36      0.53        11\n",
      "          34       1.00      0.00      0.00         7\n",
      "          35       0.00      0.00      0.00         3\n",
      "          36       1.00      0.00      0.00         7\n",
      "          37       1.00      0.00      0.00         5\n",
      "          38       1.00      0.00      0.00         3\n",
      "          39       0.60      0.29      0.39        31\n",
      "          40       1.00      0.00      0.00         3\n",
      "          41       1.00      0.00      0.00         2\n",
      "          42       0.90      0.52      0.66        50\n",
      "          43       0.00      0.00      0.00         3\n",
      "          44       0.00      0.00      0.00         9\n",
      "          45       1.00      0.00      0.00         3\n",
      "          46       0.67      0.30      0.41        20\n",
      "          47       0.63      0.91      0.74       151\n",
      "          48       0.74      0.53      0.62        58\n",
      "          49       1.00      0.04      0.08        23\n",
      "\n",
      "    accuracy                           0.68      2091\n",
      "   macro avg       0.66      0.22      0.26      2091\n",
      "weighted avg       0.69      0.68      0.62      2091\n",
      "\n"
     ]
    }
   ],
   "source": [
    "from sklearn.metrics import classification_report\n",
    "print(classification_report(y_val, y_pred_tfidf,zero_division=1))"
   ]
  },
  {
   "cell_type": "markdown",
   "metadata": {
    "id": "eVIJxM3ncW39"
   },
   "source": [
    "## Prediction on Test Data"
   ]
  },
  {
   "cell_type": "code",
   "execution_count": null,
   "metadata": {
    "colab": {
     "base_uri": "https://localhost:8080/"
    },
    "id": "IT6IFi7IeJpq",
    "outputId": "586c1793-d2c3-4747-e477-a6be22e37a4e"
   },
   "outputs": [
    {
     "data": {
      "text/plain": [
       "1608    wifi not working in pennsylvania (wireless iss...\n",
       "4631    vpn access pc name : aidl8912285  user id : th...\n",
       "5273    Trofner function does not work.no trifner func...\n",
       "5018    HostName_1201 plm serverlet someone dsccache s...\n",
       "394     please assist thrys hsdbdtt in logging into re...\n",
       "                              ...                        \n",
       "2028                         account unlockaccount unlock\n",
       "3082    access to teams drive - folder sox self-assess...\n",
       "2826    Problems with CompanyGuest \\ BCTYPMJW CBHNXAFZ...\n",
       "2096    job Job_549 failed in job_scheduler at: 10/06/...\n",
       "5066         battery charging issuebattery charging issue\n",
       "Name: txt_wo_stopwords, Length: 85, dtype: object"
      ]
     },
     "execution_count": 145,
     "metadata": {},
     "output_type": "execute_result"
    }
   ],
   "source": [
    "X_test"
   ]
  },
  {
   "cell_type": "code",
   "execution_count": null,
   "metadata": {
    "id": "2TrgNhT2gwX6"
   },
   "outputs": [],
   "source": [
    "y_pred=clf.predict(X_test_tfidf)"
   ]
  },
  {
   "cell_type": "code",
   "execution_count": null,
   "metadata": {
    "colab": {
     "base_uri": "https://localhost:8080/",
     "height": 53
    },
    "id": "hfmyi3gshdny",
    "outputId": "87cd9a82-d338-4c18-8573-9d1f8f1dc358"
   },
   "outputs": [
    {
     "data": {
      "application/vnd.google.colaboratory.intrinsic+json": {
       "type": "string"
      },
      "text/plain": [
       "'wifi not working in pennsylvania (wireless issue at waynesboro)wifi working pennsylvania access point working . work stoppage issue. tried calling christgry twice ..reached warehouse_tool mail. left brief message. dialed again. able reach christgry .'"
      ]
     },
     "execution_count": 170,
     "metadata": {},
     "output_type": "execute_result"
    }
   ],
   "source": [
    "X_test.to_numpy()[0]"
   ]
  },
  {
   "cell_type": "code",
   "execution_count": null,
   "metadata": {
    "colab": {
     "base_uri": "https://localhost:8080/"
    },
    "id": "OK4Yh95sh16c",
    "outputId": "01479798-8637-4bc3-f1fe-2412804c7b01"
   },
   "outputs": [
    {
     "data": {
      "text/plain": [
       "0"
      ]
     },
     "execution_count": 172,
     "metadata": {},
     "output_type": "execute_result"
    }
   ],
   "source": [
    "y_pred[1]"
   ]
  },
  {
   "cell_type": "code",
   "execution_count": null,
   "metadata": {
    "colab": {
     "base_uri": "https://localhost:8080/"
    },
    "id": "qID8nJnchuf9",
    "outputId": "32be41e9-3b10-4cbe-8844-9c94304512b2"
   },
   "outputs": [
    {
     "data": {
      "text/plain": [
       "0"
      ]
     },
     "execution_count": 171,
     "metadata": {},
     "output_type": "execute_result"
    }
   ],
   "source": [
    "y_test[1]"
   ]
  },
  {
   "cell_type": "code",
   "execution_count": null,
   "metadata": {
    "colab": {
     "base_uri": "https://localhost:8080/"
    },
    "id": "ctOj_PpVh0w1",
    "outputId": "9723e1dc-e315-424a-ae7c-81918ae1cc16"
   },
   "outputs": [
    {
     "data": {
      "text/plain": [
       "array(['GRP_0'], dtype=object)"
      ]
     },
     "execution_count": 176,
     "metadata": {},
     "output_type": "execute_result"
    }
   ],
   "source": [
    "le.inverse_transform([0])"
   ]
  },
  {
   "cell_type": "code",
   "execution_count": null,
   "metadata": {
    "id": "vth8qP97iM3o"
   },
   "outputs": [],
   "source": []
  }
 ],
 "metadata": {
  "colab": {
   "collapsed_sections": [],
   "name": "CapstoneNLP_SVM_Sunil.ipynb",
   "provenance": []
  },
  "kernelspec": {
   "display_name": "Python 3",
   "language": "python",
   "name": "python3"
  },
  "language_info": {
   "codemirror_mode": {
    "name": "ipython",
    "version": 3
   },
   "file_extension": ".py",
   "mimetype": "text/x-python",
   "name": "python",
   "nbconvert_exporter": "python",
   "pygments_lexer": "ipython3",
   "version": "3.8.5"
  }
 },
 "nbformat": 4,
 "nbformat_minor": 1
}
