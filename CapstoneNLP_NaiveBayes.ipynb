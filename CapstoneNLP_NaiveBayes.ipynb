{
 "cells": [
  {
   "cell_type": "markdown",
   "metadata": {},
   "source": [
    "# Part 6 - Naive Bayes Model"
   ]
  },
  {
   "cell_type": "code",
   "execution_count": 1,
   "metadata": {
    "id": "ImH03n3c3E7u"
   },
   "outputs": [],
   "source": [
    "#import the libraries\n",
    "import pandas as pd\n",
    "import numpy as np\n",
    "from google.colab import drive\n",
    "\n",
    "import matplotlib.pyplot as plt"
   ]
  },
  {
   "cell_type": "code",
   "execution_count": 2,
   "metadata": {
    "colab": {
     "base_uri": "https://localhost:8080/"
    },
    "id": "2YIAR7xB3IaL",
    "outputId": "db439e07-2084-4d01-bc76-b1dd4e4e378b"
   },
   "outputs": [
    {
     "name": "stdout",
     "output_type": "stream",
     "text": [
      "Mounted at /content/drive\n"
     ]
    }
   ],
   "source": [
    "drive.mount('/content/drive')"
   ]
  },
  {
   "cell_type": "code",
   "execution_count": 3,
   "metadata": {
    "id": "HUOL-dKW3UQX"
   },
   "outputs": [],
   "source": [
    "project_path = \"/content/drive/MyDrive/AIML/Projects/Capstone/\""
   ]
  },
  {
   "cell_type": "markdown",
   "metadata": {
    "id": "Z8m-0TY9Z8uI"
   },
   "source": [
    "## BaseLine Models"
   ]
  },
  {
   "cell_type": "markdown",
   "metadata": {
    "id": "rrmvQY3gcMUi"
   },
   "source": [
    "## Classification based on Description field"
   ]
  },
  {
   "cell_type": "code",
   "execution_count": 4,
   "metadata": {
    "id": "46woa5bbaAoo"
   },
   "outputs": [],
   "source": [
    "df_data = pd.read_csv(project_path+'input_data_trans_preprocess.csv')"
   ]
  },
  {
   "cell_type": "code",
   "execution_count": 5,
   "metadata": {
    "colab": {
     "base_uri": "https://localhost:8080/",
     "height": 406
    },
    "id": "xzbRr0Y8aup9",
    "outputId": "7bc79bf1-41ab-4b02-d7fa-daf14f490a36"
   },
   "outputs": [
    {
     "data": {
      "text/html": [
       "\n",
       "  <div id=\"df-2ec705ae-19f3-479a-bfea-15e618147d2b\">\n",
       "    <div class=\"colab-df-container\">\n",
       "      <div>\n",
       "<style scoped>\n",
       "    .dataframe tbody tr th:only-of-type {\n",
       "        vertical-align: middle;\n",
       "    }\n",
       "\n",
       "    .dataframe tbody tr th {\n",
       "        vertical-align: top;\n",
       "    }\n",
       "\n",
       "    .dataframe thead th {\n",
       "        text-align: right;\n",
       "    }\n",
       "</style>\n",
       "<table border=\"1\" class=\"dataframe\">\n",
       "  <thead>\n",
       "    <tr style=\"text-align: right;\">\n",
       "      <th></th>\n",
       "      <th>Short description</th>\n",
       "      <th>Description</th>\n",
       "      <th>Caller</th>\n",
       "      <th>Assignment group</th>\n",
       "      <th>orig_desc</th>\n",
       "      <th>orig_short_desc</th>\n",
       "      <th>Lang</th>\n",
       "      <th>Translated_ShortDesc</th>\n",
       "      <th>Translated_Description</th>\n",
       "      <th>orig_assign_group</th>\n",
       "    </tr>\n",
       "  </thead>\n",
       "  <tbody>\n",
       "    <tr>\n",
       "      <th>0</th>\n",
       "      <td>login issue</td>\n",
       "      <td>verified user details employee manager name ch...</td>\n",
       "      <td>spxjnwir pjlcoqds</td>\n",
       "      <td>GRP_0</td>\n",
       "      <td>-verified user details.(employee# &amp; manager na...</td>\n",
       "      <td>login issue</td>\n",
       "      <td>en</td>\n",
       "      <td>login issue</td>\n",
       "      <td>-verified user details.(employee# &amp; manager na...</td>\n",
       "      <td>GRP_0</td>\n",
       "    </tr>\n",
       "    <tr>\n",
       "      <th>1</th>\n",
       "      <td>outlook</td>\n",
       "      <td>received from hmjdrvpb komuaywn gmail com hell...</td>\n",
       "      <td>hmjdrvpb komuaywn</td>\n",
       "      <td>GRP_0</td>\n",
       "      <td>_x000D_\\n_x000D_\\nreceived from: hmjdrvpb.komu...</td>\n",
       "      <td>outlook</td>\n",
       "      <td>en</td>\n",
       "      <td>outlook</td>\n",
       "      <td>received from: hmjdrvpb.komuaywn@gmail.com...</td>\n",
       "      <td>GRP_0</td>\n",
       "    </tr>\n",
       "    <tr>\n",
       "      <th>2</th>\n",
       "      <td>cant log in to vpn</td>\n",
       "      <td>received from eylqgodm ybqkwiam gmail com hi i...</td>\n",
       "      <td>eylqgodm ybqkwiam</td>\n",
       "      <td>GRP_0</td>\n",
       "      <td>_x000D_\\n_x000D_\\nreceived from: eylqgodm.ybqk...</td>\n",
       "      <td>cant log in to vpn</td>\n",
       "      <td>en</td>\n",
       "      <td>cant log in to vpn</td>\n",
       "      <td>received from: eylqgodm.ybqkwiam@gmail.com...</td>\n",
       "      <td>GRP_0</td>\n",
       "    </tr>\n",
       "    <tr>\n",
       "      <th>3</th>\n",
       "      <td>unable to access hr tool page</td>\n",
       "      <td>unable to access hr tool page</td>\n",
       "      <td>xbkucsvz gcpydteq</td>\n",
       "      <td>GRP_0</td>\n",
       "      <td>unable to access hr_tool page</td>\n",
       "      <td>unable to access hr_tool page</td>\n",
       "      <td>en</td>\n",
       "      <td>unable to access hr_tool page</td>\n",
       "      <td>unable to access hr_tool page</td>\n",
       "      <td>GRP_0</td>\n",
       "    </tr>\n",
       "    <tr>\n",
       "      <th>4</th>\n",
       "      <td>skype error</td>\n",
       "      <td>skype error</td>\n",
       "      <td>owlgqjme qhcozdfx</td>\n",
       "      <td>GRP_0</td>\n",
       "      <td>skype error</td>\n",
       "      <td>skype error</td>\n",
       "      <td>no</td>\n",
       "      <td>skype error</td>\n",
       "      <td>skype error</td>\n",
       "      <td>GRP_0</td>\n",
       "    </tr>\n",
       "  </tbody>\n",
       "</table>\n",
       "</div>\n",
       "      <button class=\"colab-df-convert\" onclick=\"convertToInteractive('df-2ec705ae-19f3-479a-bfea-15e618147d2b')\"\n",
       "              title=\"Convert this dataframe to an interactive table.\"\n",
       "              style=\"display:none;\">\n",
       "        \n",
       "  <svg xmlns=\"http://www.w3.org/2000/svg\" height=\"24px\"viewBox=\"0 0 24 24\"\n",
       "       width=\"24px\">\n",
       "    <path d=\"M0 0h24v24H0V0z\" fill=\"none\"/>\n",
       "    <path d=\"M18.56 5.44l.94 2.06.94-2.06 2.06-.94-2.06-.94-.94-2.06-.94 2.06-2.06.94zm-11 1L8.5 8.5l.94-2.06 2.06-.94-2.06-.94L8.5 2.5l-.94 2.06-2.06.94zm10 10l.94 2.06.94-2.06 2.06-.94-2.06-.94-.94-2.06-.94 2.06-2.06.94z\"/><path d=\"M17.41 7.96l-1.37-1.37c-.4-.4-.92-.59-1.43-.59-.52 0-1.04.2-1.43.59L10.3 9.45l-7.72 7.72c-.78.78-.78 2.05 0 2.83L4 21.41c.39.39.9.59 1.41.59.51 0 1.02-.2 1.41-.59l7.78-7.78 2.81-2.81c.8-.78.8-2.07 0-2.86zM5.41 20L4 18.59l7.72-7.72 1.47 1.35L5.41 20z\"/>\n",
       "  </svg>\n",
       "      </button>\n",
       "      \n",
       "  <style>\n",
       "    .colab-df-container {\n",
       "      display:flex;\n",
       "      flex-wrap:wrap;\n",
       "      gap: 12px;\n",
       "    }\n",
       "\n",
       "    .colab-df-convert {\n",
       "      background-color: #E8F0FE;\n",
       "      border: none;\n",
       "      border-radius: 50%;\n",
       "      cursor: pointer;\n",
       "      display: none;\n",
       "      fill: #1967D2;\n",
       "      height: 32px;\n",
       "      padding: 0 0 0 0;\n",
       "      width: 32px;\n",
       "    }\n",
       "\n",
       "    .colab-df-convert:hover {\n",
       "      background-color: #E2EBFA;\n",
       "      box-shadow: 0px 1px 2px rgba(60, 64, 67, 0.3), 0px 1px 3px 1px rgba(60, 64, 67, 0.15);\n",
       "      fill: #174EA6;\n",
       "    }\n",
       "\n",
       "    [theme=dark] .colab-df-convert {\n",
       "      background-color: #3B4455;\n",
       "      fill: #D2E3FC;\n",
       "    }\n",
       "\n",
       "    [theme=dark] .colab-df-convert:hover {\n",
       "      background-color: #434B5C;\n",
       "      box-shadow: 0px 1px 3px 1px rgba(0, 0, 0, 0.15);\n",
       "      filter: drop-shadow(0px 1px 2px rgba(0, 0, 0, 0.3));\n",
       "      fill: #FFFFFF;\n",
       "    }\n",
       "  </style>\n",
       "\n",
       "      <script>\n",
       "        const buttonEl =\n",
       "          document.querySelector('#df-2ec705ae-19f3-479a-bfea-15e618147d2b button.colab-df-convert');\n",
       "        buttonEl.style.display =\n",
       "          google.colab.kernel.accessAllowed ? 'block' : 'none';\n",
       "\n",
       "        async function convertToInteractive(key) {\n",
       "          const element = document.querySelector('#df-2ec705ae-19f3-479a-bfea-15e618147d2b');\n",
       "          const dataTable =\n",
       "            await google.colab.kernel.invokeFunction('convertToInteractive',\n",
       "                                                     [key], {});\n",
       "          if (!dataTable) return;\n",
       "\n",
       "          const docLinkHtml = 'Like what you see? Visit the ' +\n",
       "            '<a target=\"_blank\" href=https://colab.research.google.com/notebooks/data_table.ipynb>data table notebook</a>'\n",
       "            + ' to learn more about interactive tables.';\n",
       "          element.innerHTML = '';\n",
       "          dataTable['output_type'] = 'display_data';\n",
       "          await google.colab.output.renderOutput(dataTable, element);\n",
       "          const docLink = document.createElement('div');\n",
       "          docLink.innerHTML = docLinkHtml;\n",
       "          element.appendChild(docLink);\n",
       "        }\n",
       "      </script>\n",
       "    </div>\n",
       "  </div>\n",
       "  "
      ],
      "text/plain": [
       "               Short description  \\\n",
       "0                    login issue   \n",
       "1                        outlook   \n",
       "2             cant log in to vpn   \n",
       "3  unable to access hr tool page   \n",
       "4                    skype error   \n",
       "\n",
       "                                         Description             Caller  \\\n",
       "0  verified user details employee manager name ch...  spxjnwir pjlcoqds   \n",
       "1  received from hmjdrvpb komuaywn gmail com hell...  hmjdrvpb komuaywn   \n",
       "2  received from eylqgodm ybqkwiam gmail com hi i...  eylqgodm ybqkwiam   \n",
       "3                      unable to access hr tool page  xbkucsvz gcpydteq   \n",
       "4                                        skype error  owlgqjme qhcozdfx   \n",
       "\n",
       "  Assignment group                                          orig_desc  \\\n",
       "0            GRP_0  -verified user details.(employee# & manager na...   \n",
       "1            GRP_0  _x000D_\\n_x000D_\\nreceived from: hmjdrvpb.komu...   \n",
       "2            GRP_0  _x000D_\\n_x000D_\\nreceived from: eylqgodm.ybqk...   \n",
       "3            GRP_0                      unable to access hr_tool page   \n",
       "4            GRP_0                                       skype error    \n",
       "\n",
       "                 orig_short_desc Lang           Translated_ShortDesc  \\\n",
       "0                    login issue   en                    login issue   \n",
       "1                        outlook   en                        outlook   \n",
       "2             cant log in to vpn   en             cant log in to vpn   \n",
       "3  unable to access hr_tool page   en  unable to access hr_tool page   \n",
       "4                   skype error    no                    skype error   \n",
       "\n",
       "                              Translated_Description orig_assign_group  \n",
       "0  -verified user details.(employee# & manager na...             GRP_0  \n",
       "1      received from: hmjdrvpb.komuaywn@gmail.com...             GRP_0  \n",
       "2      received from: eylqgodm.ybqkwiam@gmail.com...             GRP_0  \n",
       "3                      unable to access hr_tool page             GRP_0  \n",
       "4                                        skype error             GRP_0  "
      ]
     },
     "execution_count": 5,
     "metadata": {},
     "output_type": "execute_result"
    }
   ],
   "source": [
    "df_data.head()"
   ]
  },
  {
   "cell_type": "code",
   "execution_count": 6,
   "metadata": {
    "id": "q1QoJpelln6_"
   },
   "outputs": [],
   "source": [
    "#df_data.drop(df_data[(df_data['Lang'] != 'en')].index, inplace=True)"
   ]
  },
  {
   "cell_type": "code",
   "execution_count": 7,
   "metadata": {
    "id": "Hei65pVBlp-v"
   },
   "outputs": [],
   "source": [
    "#df_data.drop(df_data[(df_data['Assignment group'] == 'GRP_48')].index, inplace=True)"
   ]
  },
  {
   "cell_type": "code",
   "execution_count": 8,
   "metadata": {
    "colab": {
     "base_uri": "https://localhost:8080/"
    },
    "id": "hX9ZoJewa8U5",
    "outputId": "644d3d14-aa3a-4db3-ac55-b0975daf2e66"
   },
   "outputs": [
    {
     "name": "stdout",
     "output_type": "stream",
     "text": [
      "[nltk_data] Downloading package stopwords to /root/nltk_data...\n",
      "[nltk_data]   Unzipping corpora/stopwords.zip.\n"
     ]
    },
    {
     "data": {
      "text/plain": [
       "True"
      ]
     },
     "execution_count": 8,
     "metadata": {},
     "output_type": "execute_result"
    }
   ],
   "source": [
    "import nltk\n",
    "from nltk.corpus import stopwords\n",
    "nltk.download(\"stopwords\")"
   ]
  },
  {
   "cell_type": "code",
   "execution_count": 9,
   "metadata": {
    "id": "tHhIeOzGcIPj"
   },
   "outputs": [],
   "source": [
    "stop_words=set(stopwords.words('english'))"
   ]
  },
  {
   "cell_type": "code",
   "execution_count": 10,
   "metadata": {
    "id": "wn2eu-WxcK3P"
   },
   "outputs": [],
   "source": [
    "df_data['txt_wo_stopwords'] = df_data['Translated_Description'].apply(lambda words: ' '.join(word.lower() for word in words.split() if word not in stop_words))"
   ]
  },
  {
   "cell_type": "code",
   "execution_count": 11,
   "metadata": {
    "id": "que7SflfcWcJ"
   },
   "outputs": [],
   "source": [
    "X = df_data.txt_wo_stopwords"
   ]
  },
  {
   "cell_type": "code",
   "execution_count": 12,
   "metadata": {
    "id": "jlI8DG2_ceYE"
   },
   "outputs": [],
   "source": [
    "y=df_data['Assignment group']\n",
    "from sklearn import preprocessing\n",
    "le = preprocessing.LabelEncoder()\n",
    "y=le.fit(df_data['Assignment group'])\n",
    "y=le.transform(df_data['Assignment group'])\n",
    "y=le.transform(df_data['Assignment group'])"
   ]
  },
  {
   "cell_type": "code",
   "execution_count": 13,
   "metadata": {
    "id": "F1QptjqocmL5"
   },
   "outputs": [],
   "source": [
    "from sklearn.model_selection import train_test_split\n",
    "# split X and y into training and testing sets\n",
    "X_train, X_test, y_train, y_test = train_test_split(X, y, random_state=42, stratify=y)"
   ]
  },
  {
   "cell_type": "code",
   "execution_count": 14,
   "metadata": {
    "colab": {
     "base_uri": "https://localhost:8080/"
    },
    "id": "xjRr02Wic0Xd",
    "outputId": "6e1edeef-17c6-45c9-8989-b4ca8f46ebe1"
   },
   "outputs": [
    {
     "name": "stdout",
     "output_type": "stream",
     "text": [
      "X_train : (6350,)\n",
      "X_test : (2117,)\n",
      "y_train : (6350,)\n",
      "y_test : (2117,)\n"
     ]
    }
   ],
   "source": [
    "print('X_train : '+str(X_train.shape))\n",
    "print('X_test : '+str(X_test.shape))\n",
    "print('y_train : '+str(y_train.shape))\n",
    "print('y_test : '+str(y_test.shape))\n"
   ]
  },
  {
   "cell_type": "code",
   "execution_count": 15,
   "metadata": {
    "id": "KXFd_15Lc2dO"
   },
   "outputs": [],
   "source": [
    "# import and instantiate TF-IDF Vectorizer (with the default parameters)\n",
    "from sklearn.feature_extraction.text import TfidfVectorizer\n",
    "tvect = TfidfVectorizer()"
   ]
  },
  {
   "cell_type": "code",
   "execution_count": 16,
   "metadata": {
    "colab": {
     "base_uri": "https://localhost:8080/"
    },
    "id": "zNUeZeJSc6cP",
    "outputId": "41f86332-c11f-401d-b1fa-492121f8a19e"
   },
   "outputs": [
    {
     "data": {
      "text/plain": [
       "TfidfVectorizer()"
      ]
     },
     "execution_count": 16,
     "metadata": {},
     "output_type": "execute_result"
    }
   ],
   "source": [
    "tvect.fit(X_train)"
   ]
  },
  {
   "cell_type": "code",
   "execution_count": 17,
   "metadata": {
    "colab": {
     "base_uri": "https://localhost:8080/"
    },
    "id": "5NuwH47ic8PV",
    "outputId": "4ddcfdd9-8d5d-4ace-fc2b-35a6c64ca05e"
   },
   "outputs": [
    {
     "data": {
      "text/plain": [
       "16873"
      ]
     },
     "execution_count": 17,
     "metadata": {},
     "output_type": "execute_result"
    }
   ],
   "source": [
    "len(tvect.vocabulary_)"
   ]
  },
  {
   "cell_type": "code",
   "execution_count": 18,
   "metadata": {
    "colab": {
     "base_uri": "https://localhost:8080/"
    },
    "id": "z4okWZiSc93t",
    "outputId": "b12b1781-82b3-4fbd-c42b-4e530ef9e18c"
   },
   "outputs": [
    {
     "data": {
      "text/plain": [
       "(6350, 16873)"
      ]
     },
     "execution_count": 18,
     "metadata": {},
     "output_type": "execute_result"
    }
   ],
   "source": [
    "X_train_tfidf = tvect.transform(X_train)\n",
    "X_train_tfidf.shape\n"
   ]
  },
  {
   "cell_type": "code",
   "execution_count": 19,
   "metadata": {
    "id": "xG4Q2I-sc_vh"
   },
   "outputs": [],
   "source": [
    "X_test_tfidf = tvect.transform(X_test)"
   ]
  },
  {
   "cell_type": "code",
   "execution_count": 25,
   "metadata": {
    "id": "ZM6E7nxUzj47"
   },
   "outputs": [],
   "source": [
    "from sklearn.naive_bayes import MultinomialNB"
   ]
  },
  {
   "cell_type": "code",
   "execution_count": 26,
   "metadata": {
    "id": "t86nhUZTdB5R"
   },
   "outputs": [],
   "source": [
    "from sklearn.multiclass import OneVsRestClassifier"
   ]
  },
  {
   "cell_type": "code",
   "execution_count": 31,
   "metadata": {
    "id": "OJ_aO-16dD5L"
   },
   "outputs": [],
   "source": [
    "clf = MultinomialNB()\n",
    "clf = OneVsRestClassifier(clf)"
   ]
  },
  {
   "cell_type": "code",
   "execution_count": 32,
   "metadata": {
    "colab": {
     "base_uri": "https://localhost:8080/"
    },
    "id": "Kaupr25HdF0k",
    "outputId": "8a63f023-24c7-48ad-a4bb-bca508ca7b7d"
   },
   "outputs": [
    {
     "data": {
      "text/plain": [
       "OneVsRestClassifier(estimator=MultinomialNB())"
      ]
     },
     "execution_count": 32,
     "metadata": {},
     "output_type": "execute_result"
    }
   ],
   "source": [
    "clf.fit(X_train_tfidf, y_train)"
   ]
  },
  {
   "cell_type": "code",
   "execution_count": 33,
   "metadata": {
    "id": "AKdT8cJ3dHpj"
   },
   "outputs": [],
   "source": [
    "y_pred_tfidf = clf.predict(X_test_tfidf)"
   ]
  },
  {
   "cell_type": "code",
   "execution_count": 34,
   "metadata": {
    "colab": {
     "base_uri": "https://localhost:8080/"
    },
    "id": "d9SfaG4ldJ_-",
    "outputId": "eeb1afec-0ead-49a4-f3b8-787125afa0de"
   },
   "outputs": [
    {
     "name": "stdout",
     "output_type": "stream",
     "text": [
      "              precision    recall  f1-score   support\n",
      "\n",
      "           0       0.57      1.00      0.72       994\n",
      "           1       1.00      0.00      0.00         8\n",
      "           2       1.00      0.00      0.00        35\n",
      "           3       1.00      0.00      0.00         8\n",
      "           4       0.60      0.14      0.23        64\n",
      "           5       1.00      0.00      0.00        36\n",
      "           6       0.50      0.03      0.06        30\n",
      "           7       1.00      0.00      0.00        10\n",
      "           8       1.00      0.00      0.00        21\n",
      "           9       1.00      0.00      0.00        20\n",
      "          10       1.00      0.00      0.00        22\n",
      "          11       1.00      0.00      0.00        54\n",
      "          12       1.00      0.07      0.12        60\n",
      "          13       1.00      0.00      0.00         9\n",
      "          14       1.00      0.00      0.00         7\n",
      "          15       1.00      0.00      0.00         8\n",
      "          16       1.00      0.00      0.00         6\n",
      "          17       1.00      0.53      0.69        72\n",
      "          18       1.00      0.00      0.00        29\n",
      "          19       1.00      0.00      0.00        14\n",
      "          20       1.00      0.00      0.00         4\n",
      "          21       1.00      0.00      0.00        11\n",
      "          22       1.00      0.00      0.00        24\n",
      "          23       1.00      0.00      0.00        50\n",
      "          24       1.00      0.00      0.00         6\n",
      "          25       1.00      0.00      0.00        17\n",
      "          26       1.00      0.00      0.00        27\n",
      "          27       1.00      0.00      0.00        16\n",
      "          28       1.00      0.00      0.00         4\n",
      "          29       1.00      0.00      0.00         4\n",
      "          30       1.00      0.00      0.00         5\n",
      "          31       1.00      0.00      0.00        25\n",
      "          32       1.00      0.00      0.00        11\n",
      "          33       1.00      0.00      0.00        10\n",
      "          34       1.00      0.00      0.00         9\n",
      "          35       1.00      0.00      0.00         4\n",
      "          36       1.00      0.00      0.00         9\n",
      "          37       1.00      0.00      0.00         7\n",
      "          38       1.00      0.00      0.00         2\n",
      "          39       1.00      0.00      0.00        32\n",
      "          40       1.00      0.00      0.00         3\n",
      "          41       1.00      0.00      0.00         3\n",
      "          42       1.00      0.00      0.00        46\n",
      "          43       1.00      0.00      0.00         5\n",
      "          44       1.00      0.00      0.00         6\n",
      "          45       1.00      0.00      0.00         3\n",
      "          46       1.00      0.00      0.00        17\n",
      "          47       0.48      0.90      0.63       165\n",
      "          48       1.00      0.00      0.00        63\n",
      "          49       1.00      0.00      0.00        22\n",
      "\n",
      "    accuracy                           0.56      2117\n",
      "   macro avg       0.96      0.05      0.05      2117\n",
      "weighted avg       0.74      0.56      0.42      2117\n",
      "\n"
     ]
    }
   ],
   "source": [
    "from sklearn.metrics import classification_report\n",
    "print(classification_report(y_test, y_pred_tfidf,zero_division=1))"
   ]
  },
  {
   "cell_type": "markdown",
   "metadata": {
    "id": "O4ziHawbe0Wk"
   },
   "source": [
    "## Classification based on Short Description"
   ]
  },
  {
   "cell_type": "code",
   "execution_count": 35,
   "metadata": {
    "id": "p3a_v4I-gITg"
   },
   "outputs": [],
   "source": [
    "df_data = pd.read_csv(project_path+'input_data_trans_preprocess.csv')"
   ]
  },
  {
   "cell_type": "code",
   "execution_count": 36,
   "metadata": {
    "colab": {
     "base_uri": "https://localhost:8080/",
     "height": 406
    },
    "id": "VPasY3KSdLhq",
    "outputId": "0c77f82c-4598-47f7-b11f-869b260d1bae"
   },
   "outputs": [
    {
     "data": {
      "text/html": [
       "\n",
       "  <div id=\"df-24c9ec02-66ef-4f38-9d76-3270f80e8f29\">\n",
       "    <div class=\"colab-df-container\">\n",
       "      <div>\n",
       "<style scoped>\n",
       "    .dataframe tbody tr th:only-of-type {\n",
       "        vertical-align: middle;\n",
       "    }\n",
       "\n",
       "    .dataframe tbody tr th {\n",
       "        vertical-align: top;\n",
       "    }\n",
       "\n",
       "    .dataframe thead th {\n",
       "        text-align: right;\n",
       "    }\n",
       "</style>\n",
       "<table border=\"1\" class=\"dataframe\">\n",
       "  <thead>\n",
       "    <tr style=\"text-align: right;\">\n",
       "      <th></th>\n",
       "      <th>Short description</th>\n",
       "      <th>Description</th>\n",
       "      <th>Caller</th>\n",
       "      <th>Assignment group</th>\n",
       "      <th>orig_desc</th>\n",
       "      <th>orig_short_desc</th>\n",
       "      <th>Lang</th>\n",
       "      <th>Translated_ShortDesc</th>\n",
       "      <th>Translated_Description</th>\n",
       "      <th>orig_assign_group</th>\n",
       "    </tr>\n",
       "  </thead>\n",
       "  <tbody>\n",
       "    <tr>\n",
       "      <th>0</th>\n",
       "      <td>login issue</td>\n",
       "      <td>verified user details employee manager name ch...</td>\n",
       "      <td>spxjnwir pjlcoqds</td>\n",
       "      <td>GRP_0</td>\n",
       "      <td>-verified user details.(employee# &amp; manager na...</td>\n",
       "      <td>login issue</td>\n",
       "      <td>en</td>\n",
       "      <td>login issue</td>\n",
       "      <td>-verified user details.(employee# &amp; manager na...</td>\n",
       "      <td>GRP_0</td>\n",
       "    </tr>\n",
       "    <tr>\n",
       "      <th>1</th>\n",
       "      <td>outlook</td>\n",
       "      <td>received from hmjdrvpb komuaywn gmail com hell...</td>\n",
       "      <td>hmjdrvpb komuaywn</td>\n",
       "      <td>GRP_0</td>\n",
       "      <td>_x000D_\\n_x000D_\\nreceived from: hmjdrvpb.komu...</td>\n",
       "      <td>outlook</td>\n",
       "      <td>en</td>\n",
       "      <td>outlook</td>\n",
       "      <td>received from: hmjdrvpb.komuaywn@gmail.com...</td>\n",
       "      <td>GRP_0</td>\n",
       "    </tr>\n",
       "    <tr>\n",
       "      <th>2</th>\n",
       "      <td>cant log in to vpn</td>\n",
       "      <td>received from eylqgodm ybqkwiam gmail com hi i...</td>\n",
       "      <td>eylqgodm ybqkwiam</td>\n",
       "      <td>GRP_0</td>\n",
       "      <td>_x000D_\\n_x000D_\\nreceived from: eylqgodm.ybqk...</td>\n",
       "      <td>cant log in to vpn</td>\n",
       "      <td>en</td>\n",
       "      <td>cant log in to vpn</td>\n",
       "      <td>received from: eylqgodm.ybqkwiam@gmail.com...</td>\n",
       "      <td>GRP_0</td>\n",
       "    </tr>\n",
       "    <tr>\n",
       "      <th>3</th>\n",
       "      <td>unable to access hr tool page</td>\n",
       "      <td>unable to access hr tool page</td>\n",
       "      <td>xbkucsvz gcpydteq</td>\n",
       "      <td>GRP_0</td>\n",
       "      <td>unable to access hr_tool page</td>\n",
       "      <td>unable to access hr_tool page</td>\n",
       "      <td>en</td>\n",
       "      <td>unable to access hr_tool page</td>\n",
       "      <td>unable to access hr_tool page</td>\n",
       "      <td>GRP_0</td>\n",
       "    </tr>\n",
       "    <tr>\n",
       "      <th>4</th>\n",
       "      <td>skype error</td>\n",
       "      <td>skype error</td>\n",
       "      <td>owlgqjme qhcozdfx</td>\n",
       "      <td>GRP_0</td>\n",
       "      <td>skype error</td>\n",
       "      <td>skype error</td>\n",
       "      <td>no</td>\n",
       "      <td>skype error</td>\n",
       "      <td>skype error</td>\n",
       "      <td>GRP_0</td>\n",
       "    </tr>\n",
       "  </tbody>\n",
       "</table>\n",
       "</div>\n",
       "      <button class=\"colab-df-convert\" onclick=\"convertToInteractive('df-24c9ec02-66ef-4f38-9d76-3270f80e8f29')\"\n",
       "              title=\"Convert this dataframe to an interactive table.\"\n",
       "              style=\"display:none;\">\n",
       "        \n",
       "  <svg xmlns=\"http://www.w3.org/2000/svg\" height=\"24px\"viewBox=\"0 0 24 24\"\n",
       "       width=\"24px\">\n",
       "    <path d=\"M0 0h24v24H0V0z\" fill=\"none\"/>\n",
       "    <path d=\"M18.56 5.44l.94 2.06.94-2.06 2.06-.94-2.06-.94-.94-2.06-.94 2.06-2.06.94zm-11 1L8.5 8.5l.94-2.06 2.06-.94-2.06-.94L8.5 2.5l-.94 2.06-2.06.94zm10 10l.94 2.06.94-2.06 2.06-.94-2.06-.94-.94-2.06-.94 2.06-2.06.94z\"/><path d=\"M17.41 7.96l-1.37-1.37c-.4-.4-.92-.59-1.43-.59-.52 0-1.04.2-1.43.59L10.3 9.45l-7.72 7.72c-.78.78-.78 2.05 0 2.83L4 21.41c.39.39.9.59 1.41.59.51 0 1.02-.2 1.41-.59l7.78-7.78 2.81-2.81c.8-.78.8-2.07 0-2.86zM5.41 20L4 18.59l7.72-7.72 1.47 1.35L5.41 20z\"/>\n",
       "  </svg>\n",
       "      </button>\n",
       "      \n",
       "  <style>\n",
       "    .colab-df-container {\n",
       "      display:flex;\n",
       "      flex-wrap:wrap;\n",
       "      gap: 12px;\n",
       "    }\n",
       "\n",
       "    .colab-df-convert {\n",
       "      background-color: #E8F0FE;\n",
       "      border: none;\n",
       "      border-radius: 50%;\n",
       "      cursor: pointer;\n",
       "      display: none;\n",
       "      fill: #1967D2;\n",
       "      height: 32px;\n",
       "      padding: 0 0 0 0;\n",
       "      width: 32px;\n",
       "    }\n",
       "\n",
       "    .colab-df-convert:hover {\n",
       "      background-color: #E2EBFA;\n",
       "      box-shadow: 0px 1px 2px rgba(60, 64, 67, 0.3), 0px 1px 3px 1px rgba(60, 64, 67, 0.15);\n",
       "      fill: #174EA6;\n",
       "    }\n",
       "\n",
       "    [theme=dark] .colab-df-convert {\n",
       "      background-color: #3B4455;\n",
       "      fill: #D2E3FC;\n",
       "    }\n",
       "\n",
       "    [theme=dark] .colab-df-convert:hover {\n",
       "      background-color: #434B5C;\n",
       "      box-shadow: 0px 1px 3px 1px rgba(0, 0, 0, 0.15);\n",
       "      filter: drop-shadow(0px 1px 2px rgba(0, 0, 0, 0.3));\n",
       "      fill: #FFFFFF;\n",
       "    }\n",
       "  </style>\n",
       "\n",
       "      <script>\n",
       "        const buttonEl =\n",
       "          document.querySelector('#df-24c9ec02-66ef-4f38-9d76-3270f80e8f29 button.colab-df-convert');\n",
       "        buttonEl.style.display =\n",
       "          google.colab.kernel.accessAllowed ? 'block' : 'none';\n",
       "\n",
       "        async function convertToInteractive(key) {\n",
       "          const element = document.querySelector('#df-24c9ec02-66ef-4f38-9d76-3270f80e8f29');\n",
       "          const dataTable =\n",
       "            await google.colab.kernel.invokeFunction('convertToInteractive',\n",
       "                                                     [key], {});\n",
       "          if (!dataTable) return;\n",
       "\n",
       "          const docLinkHtml = 'Like what you see? Visit the ' +\n",
       "            '<a target=\"_blank\" href=https://colab.research.google.com/notebooks/data_table.ipynb>data table notebook</a>'\n",
       "            + ' to learn more about interactive tables.';\n",
       "          element.innerHTML = '';\n",
       "          dataTable['output_type'] = 'display_data';\n",
       "          await google.colab.output.renderOutput(dataTable, element);\n",
       "          const docLink = document.createElement('div');\n",
       "          docLink.innerHTML = docLinkHtml;\n",
       "          element.appendChild(docLink);\n",
       "        }\n",
       "      </script>\n",
       "    </div>\n",
       "  </div>\n",
       "  "
      ],
      "text/plain": [
       "               Short description  \\\n",
       "0                    login issue   \n",
       "1                        outlook   \n",
       "2             cant log in to vpn   \n",
       "3  unable to access hr tool page   \n",
       "4                    skype error   \n",
       "\n",
       "                                         Description             Caller  \\\n",
       "0  verified user details employee manager name ch...  spxjnwir pjlcoqds   \n",
       "1  received from hmjdrvpb komuaywn gmail com hell...  hmjdrvpb komuaywn   \n",
       "2  received from eylqgodm ybqkwiam gmail com hi i...  eylqgodm ybqkwiam   \n",
       "3                      unable to access hr tool page  xbkucsvz gcpydteq   \n",
       "4                                        skype error  owlgqjme qhcozdfx   \n",
       "\n",
       "  Assignment group                                          orig_desc  \\\n",
       "0            GRP_0  -verified user details.(employee# & manager na...   \n",
       "1            GRP_0  _x000D_\\n_x000D_\\nreceived from: hmjdrvpb.komu...   \n",
       "2            GRP_0  _x000D_\\n_x000D_\\nreceived from: eylqgodm.ybqk...   \n",
       "3            GRP_0                      unable to access hr_tool page   \n",
       "4            GRP_0                                       skype error    \n",
       "\n",
       "                 orig_short_desc Lang           Translated_ShortDesc  \\\n",
       "0                    login issue   en                    login issue   \n",
       "1                        outlook   en                        outlook   \n",
       "2             cant log in to vpn   en             cant log in to vpn   \n",
       "3  unable to access hr_tool page   en  unable to access hr_tool page   \n",
       "4                   skype error    no                    skype error   \n",
       "\n",
       "                              Translated_Description orig_assign_group  \n",
       "0  -verified user details.(employee# & manager na...             GRP_0  \n",
       "1      received from: hmjdrvpb.komuaywn@gmail.com...             GRP_0  \n",
       "2      received from: eylqgodm.ybqkwiam@gmail.com...             GRP_0  \n",
       "3                      unable to access hr_tool page             GRP_0  \n",
       "4                                        skype error             GRP_0  "
      ]
     },
     "execution_count": 36,
     "metadata": {},
     "output_type": "execute_result"
    }
   ],
   "source": [
    "df_data.head()"
   ]
  },
  {
   "cell_type": "code",
   "execution_count": 37,
   "metadata": {
    "colab": {
     "base_uri": "https://localhost:8080/"
    },
    "id": "b3slU1I9fM9b",
    "outputId": "fcce0cd8-247b-4181-f834-216c843f0b1c"
   },
   "outputs": [
    {
     "data": {
      "text/plain": [
       "(8467, 10)"
      ]
     },
     "execution_count": 37,
     "metadata": {},
     "output_type": "execute_result"
    }
   ],
   "source": [
    "df_data.shape"
   ]
  },
  {
   "cell_type": "code",
   "execution_count": 38,
   "metadata": {
    "id": "_nS1esihfDjO"
   },
   "outputs": [],
   "source": [
    "#df_data.drop(df_data[(df_data['Lang'] != 'en')].index, inplace=True)"
   ]
  },
  {
   "cell_type": "code",
   "execution_count": 39,
   "metadata": {
    "id": "AD9Xr1aciH1X"
   },
   "outputs": [],
   "source": [
    "#df_data.drop(df_data[(df_data['Assignment group'] == 'GRP_48')].index, inplace=True)"
   ]
  },
  {
   "cell_type": "code",
   "execution_count": 40,
   "metadata": {
    "colab": {
     "base_uri": "https://localhost:8080/"
    },
    "id": "mJ9isdnvfUig",
    "outputId": "d5cfacb3-3e99-4835-9cbd-5434c6cc6619"
   },
   "outputs": [
    {
     "data": {
      "text/plain": [
       "(8467, 10)"
      ]
     },
     "execution_count": 40,
     "metadata": {},
     "output_type": "execute_result"
    }
   ],
   "source": [
    "df_data.shape"
   ]
  },
  {
   "cell_type": "code",
   "execution_count": 41,
   "metadata": {
    "colab": {
     "base_uri": "https://localhost:8080/",
     "height": 406
    },
    "id": "4XImEcJ0fYeh",
    "outputId": "fba32f9c-134f-4c0d-bf69-e6cb65537395"
   },
   "outputs": [
    {
     "data": {
      "text/html": [
       "\n",
       "  <div id=\"df-87405278-f193-46f2-981b-757da93d7060\">\n",
       "    <div class=\"colab-df-container\">\n",
       "      <div>\n",
       "<style scoped>\n",
       "    .dataframe tbody tr th:only-of-type {\n",
       "        vertical-align: middle;\n",
       "    }\n",
       "\n",
       "    .dataframe tbody tr th {\n",
       "        vertical-align: top;\n",
       "    }\n",
       "\n",
       "    .dataframe thead th {\n",
       "        text-align: right;\n",
       "    }\n",
       "</style>\n",
       "<table border=\"1\" class=\"dataframe\">\n",
       "  <thead>\n",
       "    <tr style=\"text-align: right;\">\n",
       "      <th></th>\n",
       "      <th>Short description</th>\n",
       "      <th>Description</th>\n",
       "      <th>Caller</th>\n",
       "      <th>Assignment group</th>\n",
       "      <th>orig_desc</th>\n",
       "      <th>orig_short_desc</th>\n",
       "      <th>Lang</th>\n",
       "      <th>Translated_ShortDesc</th>\n",
       "      <th>Translated_Description</th>\n",
       "      <th>orig_assign_group</th>\n",
       "    </tr>\n",
       "  </thead>\n",
       "  <tbody>\n",
       "    <tr>\n",
       "      <th>0</th>\n",
       "      <td>login issue</td>\n",
       "      <td>verified user details employee manager name ch...</td>\n",
       "      <td>spxjnwir pjlcoqds</td>\n",
       "      <td>GRP_0</td>\n",
       "      <td>-verified user details.(employee# &amp; manager na...</td>\n",
       "      <td>login issue</td>\n",
       "      <td>en</td>\n",
       "      <td>login issue</td>\n",
       "      <td>-verified user details.(employee# &amp; manager na...</td>\n",
       "      <td>GRP_0</td>\n",
       "    </tr>\n",
       "    <tr>\n",
       "      <th>1</th>\n",
       "      <td>outlook</td>\n",
       "      <td>received from hmjdrvpb komuaywn gmail com hell...</td>\n",
       "      <td>hmjdrvpb komuaywn</td>\n",
       "      <td>GRP_0</td>\n",
       "      <td>_x000D_\\n_x000D_\\nreceived from: hmjdrvpb.komu...</td>\n",
       "      <td>outlook</td>\n",
       "      <td>en</td>\n",
       "      <td>outlook</td>\n",
       "      <td>received from: hmjdrvpb.komuaywn@gmail.com...</td>\n",
       "      <td>GRP_0</td>\n",
       "    </tr>\n",
       "    <tr>\n",
       "      <th>2</th>\n",
       "      <td>cant log in to vpn</td>\n",
       "      <td>received from eylqgodm ybqkwiam gmail com hi i...</td>\n",
       "      <td>eylqgodm ybqkwiam</td>\n",
       "      <td>GRP_0</td>\n",
       "      <td>_x000D_\\n_x000D_\\nreceived from: eylqgodm.ybqk...</td>\n",
       "      <td>cant log in to vpn</td>\n",
       "      <td>en</td>\n",
       "      <td>cant log in to vpn</td>\n",
       "      <td>received from: eylqgodm.ybqkwiam@gmail.com...</td>\n",
       "      <td>GRP_0</td>\n",
       "    </tr>\n",
       "    <tr>\n",
       "      <th>3</th>\n",
       "      <td>unable to access hr tool page</td>\n",
       "      <td>unable to access hr tool page</td>\n",
       "      <td>xbkucsvz gcpydteq</td>\n",
       "      <td>GRP_0</td>\n",
       "      <td>unable to access hr_tool page</td>\n",
       "      <td>unable to access hr_tool page</td>\n",
       "      <td>en</td>\n",
       "      <td>unable to access hr_tool page</td>\n",
       "      <td>unable to access hr_tool page</td>\n",
       "      <td>GRP_0</td>\n",
       "    </tr>\n",
       "    <tr>\n",
       "      <th>4</th>\n",
       "      <td>skype error</td>\n",
       "      <td>skype error</td>\n",
       "      <td>owlgqjme qhcozdfx</td>\n",
       "      <td>GRP_0</td>\n",
       "      <td>skype error</td>\n",
       "      <td>skype error</td>\n",
       "      <td>no</td>\n",
       "      <td>skype error</td>\n",
       "      <td>skype error</td>\n",
       "      <td>GRP_0</td>\n",
       "    </tr>\n",
       "  </tbody>\n",
       "</table>\n",
       "</div>\n",
       "      <button class=\"colab-df-convert\" onclick=\"convertToInteractive('df-87405278-f193-46f2-981b-757da93d7060')\"\n",
       "              title=\"Convert this dataframe to an interactive table.\"\n",
       "              style=\"display:none;\">\n",
       "        \n",
       "  <svg xmlns=\"http://www.w3.org/2000/svg\" height=\"24px\"viewBox=\"0 0 24 24\"\n",
       "       width=\"24px\">\n",
       "    <path d=\"M0 0h24v24H0V0z\" fill=\"none\"/>\n",
       "    <path d=\"M18.56 5.44l.94 2.06.94-2.06 2.06-.94-2.06-.94-.94-2.06-.94 2.06-2.06.94zm-11 1L8.5 8.5l.94-2.06 2.06-.94-2.06-.94L8.5 2.5l-.94 2.06-2.06.94zm10 10l.94 2.06.94-2.06 2.06-.94-2.06-.94-.94-2.06-.94 2.06-2.06.94z\"/><path d=\"M17.41 7.96l-1.37-1.37c-.4-.4-.92-.59-1.43-.59-.52 0-1.04.2-1.43.59L10.3 9.45l-7.72 7.72c-.78.78-.78 2.05 0 2.83L4 21.41c.39.39.9.59 1.41.59.51 0 1.02-.2 1.41-.59l7.78-7.78 2.81-2.81c.8-.78.8-2.07 0-2.86zM5.41 20L4 18.59l7.72-7.72 1.47 1.35L5.41 20z\"/>\n",
       "  </svg>\n",
       "      </button>\n",
       "      \n",
       "  <style>\n",
       "    .colab-df-container {\n",
       "      display:flex;\n",
       "      flex-wrap:wrap;\n",
       "      gap: 12px;\n",
       "    }\n",
       "\n",
       "    .colab-df-convert {\n",
       "      background-color: #E8F0FE;\n",
       "      border: none;\n",
       "      border-radius: 50%;\n",
       "      cursor: pointer;\n",
       "      display: none;\n",
       "      fill: #1967D2;\n",
       "      height: 32px;\n",
       "      padding: 0 0 0 0;\n",
       "      width: 32px;\n",
       "    }\n",
       "\n",
       "    .colab-df-convert:hover {\n",
       "      background-color: #E2EBFA;\n",
       "      box-shadow: 0px 1px 2px rgba(60, 64, 67, 0.3), 0px 1px 3px 1px rgba(60, 64, 67, 0.15);\n",
       "      fill: #174EA6;\n",
       "    }\n",
       "\n",
       "    [theme=dark] .colab-df-convert {\n",
       "      background-color: #3B4455;\n",
       "      fill: #D2E3FC;\n",
       "    }\n",
       "\n",
       "    [theme=dark] .colab-df-convert:hover {\n",
       "      background-color: #434B5C;\n",
       "      box-shadow: 0px 1px 3px 1px rgba(0, 0, 0, 0.15);\n",
       "      filter: drop-shadow(0px 1px 2px rgba(0, 0, 0, 0.3));\n",
       "      fill: #FFFFFF;\n",
       "    }\n",
       "  </style>\n",
       "\n",
       "      <script>\n",
       "        const buttonEl =\n",
       "          document.querySelector('#df-87405278-f193-46f2-981b-757da93d7060 button.colab-df-convert');\n",
       "        buttonEl.style.display =\n",
       "          google.colab.kernel.accessAllowed ? 'block' : 'none';\n",
       "\n",
       "        async function convertToInteractive(key) {\n",
       "          const element = document.querySelector('#df-87405278-f193-46f2-981b-757da93d7060');\n",
       "          const dataTable =\n",
       "            await google.colab.kernel.invokeFunction('convertToInteractive',\n",
       "                                                     [key], {});\n",
       "          if (!dataTable) return;\n",
       "\n",
       "          const docLinkHtml = 'Like what you see? Visit the ' +\n",
       "            '<a target=\"_blank\" href=https://colab.research.google.com/notebooks/data_table.ipynb>data table notebook</a>'\n",
       "            + ' to learn more about interactive tables.';\n",
       "          element.innerHTML = '';\n",
       "          dataTable['output_type'] = 'display_data';\n",
       "          await google.colab.output.renderOutput(dataTable, element);\n",
       "          const docLink = document.createElement('div');\n",
       "          docLink.innerHTML = docLinkHtml;\n",
       "          element.appendChild(docLink);\n",
       "        }\n",
       "      </script>\n",
       "    </div>\n",
       "  </div>\n",
       "  "
      ],
      "text/plain": [
       "               Short description  \\\n",
       "0                    login issue   \n",
       "1                        outlook   \n",
       "2             cant log in to vpn   \n",
       "3  unable to access hr tool page   \n",
       "4                    skype error   \n",
       "\n",
       "                                         Description             Caller  \\\n",
       "0  verified user details employee manager name ch...  spxjnwir pjlcoqds   \n",
       "1  received from hmjdrvpb komuaywn gmail com hell...  hmjdrvpb komuaywn   \n",
       "2  received from eylqgodm ybqkwiam gmail com hi i...  eylqgodm ybqkwiam   \n",
       "3                      unable to access hr tool page  xbkucsvz gcpydteq   \n",
       "4                                        skype error  owlgqjme qhcozdfx   \n",
       "\n",
       "  Assignment group                                          orig_desc  \\\n",
       "0            GRP_0  -verified user details.(employee# & manager na...   \n",
       "1            GRP_0  _x000D_\\n_x000D_\\nreceived from: hmjdrvpb.komu...   \n",
       "2            GRP_0  _x000D_\\n_x000D_\\nreceived from: eylqgodm.ybqk...   \n",
       "3            GRP_0                      unable to access hr_tool page   \n",
       "4            GRP_0                                       skype error    \n",
       "\n",
       "                 orig_short_desc Lang           Translated_ShortDesc  \\\n",
       "0                    login issue   en                    login issue   \n",
       "1                        outlook   en                        outlook   \n",
       "2             cant log in to vpn   en             cant log in to vpn   \n",
       "3  unable to access hr_tool page   en  unable to access hr_tool page   \n",
       "4                   skype error    no                    skype error   \n",
       "\n",
       "                              Translated_Description orig_assign_group  \n",
       "0  -verified user details.(employee# & manager na...             GRP_0  \n",
       "1      received from: hmjdrvpb.komuaywn@gmail.com...             GRP_0  \n",
       "2      received from: eylqgodm.ybqkwiam@gmail.com...             GRP_0  \n",
       "3                      unable to access hr_tool page             GRP_0  \n",
       "4                                        skype error             GRP_0  "
      ]
     },
     "execution_count": 41,
     "metadata": {},
     "output_type": "execute_result"
    }
   ],
   "source": [
    "df_data.head()"
   ]
  },
  {
   "cell_type": "code",
   "execution_count": 42,
   "metadata": {
    "id": "PoVgUa6Mfrkm"
   },
   "outputs": [],
   "source": [
    "df_data['txt_wo_stopwords'] = df_data['Translated_ShortDesc'].astype('str').apply(lambda words: ' '.join(word.lower() for word in words.split() if word not in stop_words))"
   ]
  },
  {
   "cell_type": "code",
   "execution_count": 43,
   "metadata": {
    "id": "KTZJbsP0fz8N"
   },
   "outputs": [],
   "source": [
    "X = df_data.txt_wo_stopwords"
   ]
  },
  {
   "cell_type": "code",
   "execution_count": 47,
   "metadata": {
    "id": "cR7bKSSbhqM2"
   },
   "outputs": [],
   "source": [
    "y=df_data['Assignment group']\n",
    "from sklearn import preprocessing\n",
    "le = preprocessing.LabelEncoder()\n",
    "y=le.fit(df_data['Assignment group'])\n",
    "y=le.transform(df_data['Assignment group'])\n",
    "y=le.transform(df_data['Assignment group'])"
   ]
  },
  {
   "cell_type": "code",
   "execution_count": 48,
   "metadata": {
    "id": "pQGBtxMvhrkn"
   },
   "outputs": [],
   "source": [
    "from sklearn.model_selection import train_test_split\n",
    "# split X and y into training and testing sets\n",
    "X_train, X_test, y_train, y_test = train_test_split(X, y, test_size = 0.05, random_state=42, stratify=y)"
   ]
  },
  {
   "cell_type": "code",
   "execution_count": 49,
   "metadata": {
    "colab": {
     "base_uri": "https://localhost:8080/"
    },
    "id": "eBoiWmLoh24y",
    "outputId": "916a208f-e81f-44c7-f17d-3dd7f2a195e4"
   },
   "outputs": [
    {
     "name": "stdout",
     "output_type": "stream",
     "text": [
      "X_train : (8043,)\n",
      "X_test : (424,)\n",
      "y_train : (8043,)\n",
      "y_test : (424,)\n"
     ]
    }
   ],
   "source": [
    "print('X_train : '+str(X_train.shape))\n",
    "print('X_test : '+str(X_test.shape))\n",
    "print('y_train : '+str(y_train.shape))\n",
    "print('y_test : '+str(y_test.shape))\n"
   ]
  },
  {
   "cell_type": "code",
   "execution_count": 50,
   "metadata": {
    "id": "yFMZQqCwicL0"
   },
   "outputs": [],
   "source": [
    "# import and instantiate TF-IDF Vectorizer (with the default parameters)\n",
    "from sklearn.feature_extraction.text import TfidfVectorizer\n",
    "tvect = TfidfVectorizer()"
   ]
  },
  {
   "cell_type": "code",
   "execution_count": 51,
   "metadata": {
    "colab": {
     "base_uri": "https://localhost:8080/"
    },
    "id": "h7EQRk19ido-",
    "outputId": "f3ab4bc3-8d0d-46e1-cc11-323b9352d952"
   },
   "outputs": [
    {
     "data": {
      "text/plain": [
       "TfidfVectorizer()"
      ]
     },
     "execution_count": 51,
     "metadata": {},
     "output_type": "execute_result"
    }
   ],
   "source": [
    "tvect.fit(X_train)"
   ]
  },
  {
   "cell_type": "code",
   "execution_count": 52,
   "metadata": {
    "colab": {
     "base_uri": "https://localhost:8080/"
    },
    "id": "puEqTLV2ie7U",
    "outputId": "2d5ad21d-befc-40a1-b61b-3b6b462aa38e"
   },
   "outputs": [
    {
     "data": {
      "text/plain": [
       "7213"
      ]
     },
     "execution_count": 52,
     "metadata": {},
     "output_type": "execute_result"
    }
   ],
   "source": [
    "len(tvect.vocabulary_)"
   ]
  },
  {
   "cell_type": "code",
   "execution_count": 53,
   "metadata": {
    "colab": {
     "base_uri": "https://localhost:8080/"
    },
    "id": "WWBDXUOEigH-",
    "outputId": "89048889-6b98-40bd-d93c-7eba4d983fe9"
   },
   "outputs": [
    {
     "data": {
      "text/plain": [
       "(8043, 7213)"
      ]
     },
     "execution_count": 53,
     "metadata": {},
     "output_type": "execute_result"
    }
   ],
   "source": [
    "X_train_tfidf = tvect.transform(X_train)\n",
    "X_train_tfidf.shape\n"
   ]
  },
  {
   "cell_type": "code",
   "execution_count": 54,
   "metadata": {
    "id": "m-ErYT-qih8r"
   },
   "outputs": [],
   "source": [
    "X_test_tfidf = tvect.transform(X_test)\n"
   ]
  },
  {
   "cell_type": "code",
   "execution_count": 55,
   "metadata": {
    "id": "Igt5QEVPijif"
   },
   "outputs": [],
   "source": [
    "from sklearn.naive_bayes import MultinomialNB\n",
    "from sklearn.multiclass import OneVsRestClassifier\n",
    "\n",
    "clf = MultinomialNB()\n",
    "clf = OneVsRestClassifier(clf)"
   ]
  },
  {
   "cell_type": "code",
   "execution_count": 56,
   "metadata": {
    "colab": {
     "base_uri": "https://localhost:8080/"
    },
    "id": "Q16r3F8simWa",
    "outputId": "bf3c7509-f67d-4fd2-e38d-3c461ee06833"
   },
   "outputs": [
    {
     "data": {
      "text/plain": [
       "OneVsRestClassifier(estimator=MultinomialNB())"
      ]
     },
     "execution_count": 56,
     "metadata": {},
     "output_type": "execute_result"
    }
   ],
   "source": [
    "clf.fit(X_train_tfidf, y_train)\n"
   ]
  },
  {
   "cell_type": "code",
   "execution_count": 57,
   "metadata": {
    "id": "m5lQnCFAioUW"
   },
   "outputs": [],
   "source": [
    "y_pred_tfidf = clf.predict(X_test_tfidf)\n"
   ]
  },
  {
   "cell_type": "code",
   "execution_count": 58,
   "metadata": {
    "colab": {
     "base_uri": "https://localhost:8080/"
    },
    "id": "ZLvUWs_biqTE",
    "outputId": "9bacc151-7d3c-4293-d7b2-29194875fd14"
   },
   "outputs": [
    {
     "name": "stdout",
     "output_type": "stream",
     "text": [
      "              precision    recall  f1-score   support\n",
      "\n",
      "           0       0.58      1.00      0.74       199\n",
      "           1       1.00      0.00      0.00         2\n",
      "           2       1.00      0.00      0.00         7\n",
      "           3       1.00      0.00      0.00         2\n",
      "           4       1.00      0.23      0.38        13\n",
      "           5       1.00      0.00      0.00         7\n",
      "           6       1.00      0.33      0.50         6\n",
      "           7       1.00      0.00      0.00         2\n",
      "           8       1.00      0.00      0.00         4\n",
      "           9       1.00      0.00      0.00         4\n",
      "          10       1.00      0.00      0.00         4\n",
      "          11       1.00      0.00      0.00        11\n",
      "          12       1.00      0.08      0.15        12\n",
      "          13       1.00      0.00      0.00         2\n",
      "          14       1.00      0.00      0.00         1\n",
      "          15       1.00      0.00      0.00         2\n",
      "          16       1.00      0.00      0.00         1\n",
      "          17       1.00      0.67      0.80        15\n",
      "          18       1.00      0.00      0.00         6\n",
      "          19       1.00      0.00      0.00         3\n",
      "          20       1.00      0.00      0.00         1\n",
      "          21       1.00      0.00      0.00         2\n",
      "          22       1.00      0.00      0.00         5\n",
      "          23       1.00      0.00      0.00        10\n",
      "          24       1.00      0.00      0.00         1\n",
      "          25       1.00      0.00      0.00         3\n",
      "          26       1.00      0.00      0.00         5\n",
      "          27       1.00      0.00      0.00         3\n",
      "          28       1.00      0.00      0.00         1\n",
      "          29       1.00      0.00      0.00         1\n",
      "          30       1.00      0.00      0.00         1\n",
      "          31       1.00      0.00      0.00         5\n",
      "          32       1.00      0.00      0.00         2\n",
      "          33       1.00      0.00      0.00         2\n",
      "          34       1.00      0.00      0.00         2\n",
      "          35       1.00      0.00      0.00         1\n",
      "          36       1.00      0.00      0.00         2\n",
      "          37       1.00      0.00      0.00         1\n",
      "          39       1.00      0.00      0.00         6\n",
      "          40       1.00      0.00      0.00         1\n",
      "          41       1.00      0.00      0.00         1\n",
      "          42       1.00      0.11      0.20         9\n",
      "          43       1.00      0.00      0.00         1\n",
      "          44       1.00      0.00      0.00         1\n",
      "          45       1.00      0.00      0.00         1\n",
      "          46       1.00      0.00      0.00         3\n",
      "          47       0.46      0.88      0.60        33\n",
      "          48       1.00      0.15      0.27        13\n",
      "          49       1.00      0.00      0.00         4\n",
      "\n",
      "    accuracy                           0.58       424\n",
      "   macro avg       0.98      0.07      0.07       424\n",
      "weighted avg       0.76      0.58      0.46       424\n",
      "\n"
     ]
    }
   ],
   "source": [
    "from sklearn.metrics import classification_report\n",
    "print(classification_report(y_test, y_pred_tfidf,zero_division=1))"
   ]
  },
  {
   "cell_type": "markdown",
   "metadata": {
    "id": "Qp4vuf5Kmafe"
   },
   "source": [
    "## Classification combining both Long and Short Description"
   ]
  },
  {
   "cell_type": "code",
   "execution_count": 59,
   "metadata": {
    "id": "yR0tfA5oirp3"
   },
   "outputs": [],
   "source": [
    "df_data = pd.read_csv(project_path+'input_data_trans_preprocess.csv')"
   ]
  },
  {
   "cell_type": "code",
   "execution_count": 60,
   "metadata": {
    "colab": {
     "base_uri": "https://localhost:8080/",
     "height": 406
    },
    "id": "vEQquUb2mwq_",
    "outputId": "e8899f2e-e74d-4fd7-d5ca-7a1527e9bf90"
   },
   "outputs": [
    {
     "data": {
      "text/html": [
       "\n",
       "  <div id=\"df-46278125-1267-43d8-b08b-35c5ea9a782e\">\n",
       "    <div class=\"colab-df-container\">\n",
       "      <div>\n",
       "<style scoped>\n",
       "    .dataframe tbody tr th:only-of-type {\n",
       "        vertical-align: middle;\n",
       "    }\n",
       "\n",
       "    .dataframe tbody tr th {\n",
       "        vertical-align: top;\n",
       "    }\n",
       "\n",
       "    .dataframe thead th {\n",
       "        text-align: right;\n",
       "    }\n",
       "</style>\n",
       "<table border=\"1\" class=\"dataframe\">\n",
       "  <thead>\n",
       "    <tr style=\"text-align: right;\">\n",
       "      <th></th>\n",
       "      <th>Short description</th>\n",
       "      <th>Description</th>\n",
       "      <th>Caller</th>\n",
       "      <th>Assignment group</th>\n",
       "      <th>orig_desc</th>\n",
       "      <th>orig_short_desc</th>\n",
       "      <th>Lang</th>\n",
       "      <th>Translated_ShortDesc</th>\n",
       "      <th>Translated_Description</th>\n",
       "      <th>orig_assign_group</th>\n",
       "    </tr>\n",
       "  </thead>\n",
       "  <tbody>\n",
       "    <tr>\n",
       "      <th>0</th>\n",
       "      <td>login issue</td>\n",
       "      <td>verified user details employee manager name ch...</td>\n",
       "      <td>spxjnwir pjlcoqds</td>\n",
       "      <td>GRP_0</td>\n",
       "      <td>-verified user details.(employee# &amp; manager na...</td>\n",
       "      <td>login issue</td>\n",
       "      <td>en</td>\n",
       "      <td>login issue</td>\n",
       "      <td>-verified user details.(employee# &amp; manager na...</td>\n",
       "      <td>GRP_0</td>\n",
       "    </tr>\n",
       "    <tr>\n",
       "      <th>1</th>\n",
       "      <td>outlook</td>\n",
       "      <td>received from hmjdrvpb komuaywn gmail com hell...</td>\n",
       "      <td>hmjdrvpb komuaywn</td>\n",
       "      <td>GRP_0</td>\n",
       "      <td>_x000D_\\n_x000D_\\nreceived from: hmjdrvpb.komu...</td>\n",
       "      <td>outlook</td>\n",
       "      <td>en</td>\n",
       "      <td>outlook</td>\n",
       "      <td>received from: hmjdrvpb.komuaywn@gmail.com...</td>\n",
       "      <td>GRP_0</td>\n",
       "    </tr>\n",
       "    <tr>\n",
       "      <th>2</th>\n",
       "      <td>cant log in to vpn</td>\n",
       "      <td>received from eylqgodm ybqkwiam gmail com hi i...</td>\n",
       "      <td>eylqgodm ybqkwiam</td>\n",
       "      <td>GRP_0</td>\n",
       "      <td>_x000D_\\n_x000D_\\nreceived from: eylqgodm.ybqk...</td>\n",
       "      <td>cant log in to vpn</td>\n",
       "      <td>en</td>\n",
       "      <td>cant log in to vpn</td>\n",
       "      <td>received from: eylqgodm.ybqkwiam@gmail.com...</td>\n",
       "      <td>GRP_0</td>\n",
       "    </tr>\n",
       "    <tr>\n",
       "      <th>3</th>\n",
       "      <td>unable to access hr tool page</td>\n",
       "      <td>unable to access hr tool page</td>\n",
       "      <td>xbkucsvz gcpydteq</td>\n",
       "      <td>GRP_0</td>\n",
       "      <td>unable to access hr_tool page</td>\n",
       "      <td>unable to access hr_tool page</td>\n",
       "      <td>en</td>\n",
       "      <td>unable to access hr_tool page</td>\n",
       "      <td>unable to access hr_tool page</td>\n",
       "      <td>GRP_0</td>\n",
       "    </tr>\n",
       "    <tr>\n",
       "      <th>4</th>\n",
       "      <td>skype error</td>\n",
       "      <td>skype error</td>\n",
       "      <td>owlgqjme qhcozdfx</td>\n",
       "      <td>GRP_0</td>\n",
       "      <td>skype error</td>\n",
       "      <td>skype error</td>\n",
       "      <td>no</td>\n",
       "      <td>skype error</td>\n",
       "      <td>skype error</td>\n",
       "      <td>GRP_0</td>\n",
       "    </tr>\n",
       "  </tbody>\n",
       "</table>\n",
       "</div>\n",
       "      <button class=\"colab-df-convert\" onclick=\"convertToInteractive('df-46278125-1267-43d8-b08b-35c5ea9a782e')\"\n",
       "              title=\"Convert this dataframe to an interactive table.\"\n",
       "              style=\"display:none;\">\n",
       "        \n",
       "  <svg xmlns=\"http://www.w3.org/2000/svg\" height=\"24px\"viewBox=\"0 0 24 24\"\n",
       "       width=\"24px\">\n",
       "    <path d=\"M0 0h24v24H0V0z\" fill=\"none\"/>\n",
       "    <path d=\"M18.56 5.44l.94 2.06.94-2.06 2.06-.94-2.06-.94-.94-2.06-.94 2.06-2.06.94zm-11 1L8.5 8.5l.94-2.06 2.06-.94-2.06-.94L8.5 2.5l-.94 2.06-2.06.94zm10 10l.94 2.06.94-2.06 2.06-.94-2.06-.94-.94-2.06-.94 2.06-2.06.94z\"/><path d=\"M17.41 7.96l-1.37-1.37c-.4-.4-.92-.59-1.43-.59-.52 0-1.04.2-1.43.59L10.3 9.45l-7.72 7.72c-.78.78-.78 2.05 0 2.83L4 21.41c.39.39.9.59 1.41.59.51 0 1.02-.2 1.41-.59l7.78-7.78 2.81-2.81c.8-.78.8-2.07 0-2.86zM5.41 20L4 18.59l7.72-7.72 1.47 1.35L5.41 20z\"/>\n",
       "  </svg>\n",
       "      </button>\n",
       "      \n",
       "  <style>\n",
       "    .colab-df-container {\n",
       "      display:flex;\n",
       "      flex-wrap:wrap;\n",
       "      gap: 12px;\n",
       "    }\n",
       "\n",
       "    .colab-df-convert {\n",
       "      background-color: #E8F0FE;\n",
       "      border: none;\n",
       "      border-radius: 50%;\n",
       "      cursor: pointer;\n",
       "      display: none;\n",
       "      fill: #1967D2;\n",
       "      height: 32px;\n",
       "      padding: 0 0 0 0;\n",
       "      width: 32px;\n",
       "    }\n",
       "\n",
       "    .colab-df-convert:hover {\n",
       "      background-color: #E2EBFA;\n",
       "      box-shadow: 0px 1px 2px rgba(60, 64, 67, 0.3), 0px 1px 3px 1px rgba(60, 64, 67, 0.15);\n",
       "      fill: #174EA6;\n",
       "    }\n",
       "\n",
       "    [theme=dark] .colab-df-convert {\n",
       "      background-color: #3B4455;\n",
       "      fill: #D2E3FC;\n",
       "    }\n",
       "\n",
       "    [theme=dark] .colab-df-convert:hover {\n",
       "      background-color: #434B5C;\n",
       "      box-shadow: 0px 1px 3px 1px rgba(0, 0, 0, 0.15);\n",
       "      filter: drop-shadow(0px 1px 2px rgba(0, 0, 0, 0.3));\n",
       "      fill: #FFFFFF;\n",
       "    }\n",
       "  </style>\n",
       "\n",
       "      <script>\n",
       "        const buttonEl =\n",
       "          document.querySelector('#df-46278125-1267-43d8-b08b-35c5ea9a782e button.colab-df-convert');\n",
       "        buttonEl.style.display =\n",
       "          google.colab.kernel.accessAllowed ? 'block' : 'none';\n",
       "\n",
       "        async function convertToInteractive(key) {\n",
       "          const element = document.querySelector('#df-46278125-1267-43d8-b08b-35c5ea9a782e');\n",
       "          const dataTable =\n",
       "            await google.colab.kernel.invokeFunction('convertToInteractive',\n",
       "                                                     [key], {});\n",
       "          if (!dataTable) return;\n",
       "\n",
       "          const docLinkHtml = 'Like what you see? Visit the ' +\n",
       "            '<a target=\"_blank\" href=https://colab.research.google.com/notebooks/data_table.ipynb>data table notebook</a>'\n",
       "            + ' to learn more about interactive tables.';\n",
       "          element.innerHTML = '';\n",
       "          dataTable['output_type'] = 'display_data';\n",
       "          await google.colab.output.renderOutput(dataTable, element);\n",
       "          const docLink = document.createElement('div');\n",
       "          docLink.innerHTML = docLinkHtml;\n",
       "          element.appendChild(docLink);\n",
       "        }\n",
       "      </script>\n",
       "    </div>\n",
       "  </div>\n",
       "  "
      ],
      "text/plain": [
       "               Short description  \\\n",
       "0                    login issue   \n",
       "1                        outlook   \n",
       "2             cant log in to vpn   \n",
       "3  unable to access hr tool page   \n",
       "4                    skype error   \n",
       "\n",
       "                                         Description             Caller  \\\n",
       "0  verified user details employee manager name ch...  spxjnwir pjlcoqds   \n",
       "1  received from hmjdrvpb komuaywn gmail com hell...  hmjdrvpb komuaywn   \n",
       "2  received from eylqgodm ybqkwiam gmail com hi i...  eylqgodm ybqkwiam   \n",
       "3                      unable to access hr tool page  xbkucsvz gcpydteq   \n",
       "4                                        skype error  owlgqjme qhcozdfx   \n",
       "\n",
       "  Assignment group                                          orig_desc  \\\n",
       "0            GRP_0  -verified user details.(employee# & manager na...   \n",
       "1            GRP_0  _x000D_\\n_x000D_\\nreceived from: hmjdrvpb.komu...   \n",
       "2            GRP_0  _x000D_\\n_x000D_\\nreceived from: eylqgodm.ybqk...   \n",
       "3            GRP_0                      unable to access hr_tool page   \n",
       "4            GRP_0                                       skype error    \n",
       "\n",
       "                 orig_short_desc Lang           Translated_ShortDesc  \\\n",
       "0                    login issue   en                    login issue   \n",
       "1                        outlook   en                        outlook   \n",
       "2             cant log in to vpn   en             cant log in to vpn   \n",
       "3  unable to access hr_tool page   en  unable to access hr_tool page   \n",
       "4                   skype error    no                    skype error   \n",
       "\n",
       "                              Translated_Description orig_assign_group  \n",
       "0  -verified user details.(employee# & manager na...             GRP_0  \n",
       "1      received from: hmjdrvpb.komuaywn@gmail.com...             GRP_0  \n",
       "2      received from: eylqgodm.ybqkwiam@gmail.com...             GRP_0  \n",
       "3                      unable to access hr_tool page             GRP_0  \n",
       "4                                        skype error             GRP_0  "
      ]
     },
     "execution_count": 60,
     "metadata": {},
     "output_type": "execute_result"
    }
   ],
   "source": [
    "df_data.head()"
   ]
  },
  {
   "cell_type": "code",
   "execution_count": 61,
   "metadata": {
    "colab": {
     "base_uri": "https://localhost:8080/"
    },
    "id": "7Mc-4CxFmywy",
    "outputId": "66992c1e-b71b-4ffc-8ccc-0f6be1be5fd5"
   },
   "outputs": [
    {
     "data": {
      "text/plain": [
       "(8467, 10)"
      ]
     },
     "execution_count": 61,
     "metadata": {},
     "output_type": "execute_result"
    }
   ],
   "source": [
    "df_data.shape"
   ]
  },
  {
   "cell_type": "code",
   "execution_count": 62,
   "metadata": {
    "id": "z8ABefPqm0Wk"
   },
   "outputs": [],
   "source": [
    "#df_data.drop(df_data[(df_data['Lang'] != 'en')].index, inplace=True)\n",
    "#df_data.drop(df_data[(df_data['Assignment group'] == 'GRP_48')].index, inplace=True)"
   ]
  },
  {
   "cell_type": "code",
   "execution_count": 63,
   "metadata": {
    "colab": {
     "base_uri": "https://localhost:8080/"
    },
    "id": "4cUib4pvm2L5",
    "outputId": "1f7ea46c-a4d0-4f11-80b4-565793a69af8"
   },
   "outputs": [
    {
     "name": "stdout",
     "output_type": "stream",
     "text": [
      "[nltk_data] Downloading package stopwords to /root/nltk_data...\n",
      "[nltk_data]   Package stopwords is already up-to-date!\n"
     ]
    },
    {
     "data": {
      "text/plain": [
       "True"
      ]
     },
     "execution_count": 63,
     "metadata": {},
     "output_type": "execute_result"
    }
   ],
   "source": [
    "import nltk\n",
    "from nltk.corpus import stopwords\n",
    "nltk.download(\"stopwords\")"
   ]
  },
  {
   "cell_type": "code",
   "execution_count": 64,
   "metadata": {
    "id": "18hyvRi6m6gI"
   },
   "outputs": [],
   "source": [
    "stop_words=set(stopwords.words('english'))"
   ]
  },
  {
   "cell_type": "code",
   "execution_count": 65,
   "metadata": {
    "id": "UIupeHkam4Ac"
   },
   "outputs": [],
   "source": [
    "df_data['txt_wo_stopwords'] = df_data['Translated_ShortDesc'] + df_data['Translated_Description'].apply(lambda words: ' '.join(word.lower() for word in words.split() if word not in stop_words))"
   ]
  },
  {
   "cell_type": "code",
   "execution_count": 66,
   "metadata": {
    "id": "94FAbBq6n1Av"
   },
   "outputs": [],
   "source": [
    "df_data.dropna(inplace=True)"
   ]
  },
  {
   "cell_type": "code",
   "execution_count": 67,
   "metadata": {
    "colab": {
     "base_uri": "https://localhost:8080/"
    },
    "id": "FQQSwCuBn5E0",
    "outputId": "c675b210-de44-4faf-c373-b4a9937b1fb5"
   },
   "outputs": [
    {
     "data": {
      "text/plain": [
       "(8449, 11)"
      ]
     },
     "execution_count": 67,
     "metadata": {},
     "output_type": "execute_result"
    }
   ],
   "source": [
    "df_data.shape"
   ]
  },
  {
   "cell_type": "code",
   "execution_count": 68,
   "metadata": {
    "id": "MZKKPkW8m95T"
   },
   "outputs": [],
   "source": [
    "X = df_data.txt_wo_stopwords"
   ]
  },
  {
   "cell_type": "code",
   "execution_count": 69,
   "metadata": {
    "id": "MF0KsQsmnj5F"
   },
   "outputs": [],
   "source": [
    "y=df_data['Assignment group']\n",
    "from sklearn import preprocessing\n",
    "le = preprocessing.LabelEncoder()\n",
    "y=le.fit(df_data['Assignment group'])\n",
    "y=le.transform(df_data['Assignment group'])\n",
    "y=le.transform(df_data['Assignment group'])\n"
   ]
  },
  {
   "cell_type": "code",
   "execution_count": 73,
   "metadata": {
    "id": "cBepenjRnlyy"
   },
   "outputs": [],
   "source": [
    "from sklearn.model_selection import train_test_split\n",
    "# split X and y into training and testing sets\n",
    "X_train, X_test, y_train, y_test = train_test_split(X, y,test_size=0.25, shuffle = True, random_state = 8, stratify = y)"
   ]
  },
  {
   "cell_type": "code",
   "execution_count": 74,
   "metadata": {
    "colab": {
     "base_uri": "https://localhost:8080/"
    },
    "id": "G9EJXZ9kYfdW",
    "outputId": "4264b6ae-77ee-487c-faad-f3915a6a6f1b"
   },
   "outputs": [
    {
     "name": "stdout",
     "output_type": "stream",
     "text": [
      "X_train shape: (6336,)\n",
      "X_test shape: (2113,)\n",
      "y_train shape: (6336,)\n",
      "y_test shape: (2113,)\n"
     ]
    }
   ],
   "source": [
    "print(\"X_train shape: {}\".format(X_train.shape))\n",
    "print(\"X_test shape: {}\".format(X_test.shape))\n",
    "print(\"y_train shape: {}\".format(y_train.shape))\n",
    "print(\"y_test shape: {}\".format(y_test.shape))\n"
   ]
  },
  {
   "cell_type": "code",
   "execution_count": 75,
   "metadata": {
    "id": "NtE4EWT9nqI8"
   },
   "outputs": [],
   "source": [
    "# import and instantiate TF-IDF Vectorizer (with the default parameters)\n",
    "from sklearn.feature_extraction.text import TfidfVectorizer\n",
    "tvect = TfidfVectorizer()\n"
   ]
  },
  {
   "cell_type": "code",
   "execution_count": 76,
   "metadata": {
    "colab": {
     "base_uri": "https://localhost:8080/"
    },
    "id": "5zC0g3d5nshT",
    "outputId": "15df6f27-01a8-4e9e-9c07-8ad0a2acc4df"
   },
   "outputs": [
    {
     "data": {
      "text/plain": [
       "TfidfVectorizer()"
      ]
     },
     "execution_count": 76,
     "metadata": {},
     "output_type": "execute_result"
    }
   ],
   "source": [
    "tvect.fit(X_train)"
   ]
  },
  {
   "cell_type": "code",
   "execution_count": 77,
   "metadata": {
    "colab": {
     "base_uri": "https://localhost:8080/"
    },
    "id": "YYDWjimcnuWV",
    "outputId": "5b6dab61-7517-4bc2-f2c2-cc3c14268abc"
   },
   "outputs": [
    {
     "data": {
      "text/plain": [
       "21108"
      ]
     },
     "execution_count": 77,
     "metadata": {},
     "output_type": "execute_result"
    }
   ],
   "source": [
    "len(tvect.vocabulary_)"
   ]
  },
  {
   "cell_type": "code",
   "execution_count": 78,
   "metadata": {
    "colab": {
     "base_uri": "https://localhost:8080/"
    },
    "id": "7lZsIpDaoCQd",
    "outputId": "b5cf4bf8-ca37-4d4a-dec8-d6425394f2df"
   },
   "outputs": [
    {
     "data": {
      "text/plain": [
       "(6336, 21108)"
      ]
     },
     "execution_count": 78,
     "metadata": {},
     "output_type": "execute_result"
    }
   ],
   "source": [
    "X_train_tfidf = tvect.transform(X_train)\n",
    "X_train_tfidf.shape"
   ]
  },
  {
   "cell_type": "code",
   "execution_count": 81,
   "metadata": {
    "id": "JdsrbbWHoEMY"
   },
   "outputs": [],
   "source": [
    "X_test_tfidf = tvect.transform(X_test)"
   ]
  },
  {
   "cell_type": "code",
   "execution_count": 82,
   "metadata": {
    "id": "WPw170-roFsI"
   },
   "outputs": [],
   "source": [
    "from sklearn.naive_bayes import MultinomialNB\n",
    "from sklearn.multiclass import OneVsRestClassifier\n",
    "\n",
    "clf = MultinomialNB()\n",
    "clf = OneVsRestClassifier(clf)\n"
   ]
  },
  {
   "cell_type": "code",
   "execution_count": 83,
   "metadata": {
    "colab": {
     "base_uri": "https://localhost:8080/"
    },
    "id": "2FWE3bZxoJEZ",
    "outputId": "ace27820-cc3b-445c-9849-26eefc84d328"
   },
   "outputs": [
    {
     "data": {
      "text/plain": [
       "OneVsRestClassifier(estimator=MultinomialNB())"
      ]
     },
     "execution_count": 83,
     "metadata": {},
     "output_type": "execute_result"
    }
   ],
   "source": [
    "clf.fit(X_train_tfidf, y_train)"
   ]
  },
  {
   "cell_type": "code",
   "execution_count": 85,
   "metadata": {
    "id": "ua055YcfoKyW"
   },
   "outputs": [],
   "source": [
    "y_pred_tfidf = clf.predict(X_test_tfidf)"
   ]
  },
  {
   "cell_type": "code",
   "execution_count": 87,
   "metadata": {
    "colab": {
     "base_uri": "https://localhost:8080/"
    },
    "id": "ilexA87ToM4p",
    "outputId": "6ade0927-fd65-4452-e767-ddced82acf9f"
   },
   "outputs": [
    {
     "name": "stdout",
     "output_type": "stream",
     "text": [
      "              precision    recall  f1-score   support\n",
      "\n",
      "           0       0.56      1.00      0.72       992\n",
      "           1       1.00      0.00      0.00         8\n",
      "           2       1.00      0.00      0.00        35\n",
      "           3       1.00      0.00      0.00         8\n",
      "           4       0.71      0.27      0.39        64\n",
      "           5       1.00      0.00      0.00        36\n",
      "           6       1.00      0.00      0.00        30\n",
      "           7       1.00      0.00      0.00        10\n",
      "           8       1.00      0.00      0.00        21\n",
      "           9       1.00      0.00      0.00        20\n",
      "          10       1.00      0.00      0.00        22\n",
      "          11       1.00      0.00      0.00        54\n",
      "          12       0.75      0.05      0.09        60\n",
      "          13       1.00      0.00      0.00         9\n",
      "          14       1.00      0.00      0.00         7\n",
      "          15       1.00      0.00      0.00         8\n",
      "          16       1.00      0.00      0.00         6\n",
      "          17       1.00      0.42      0.59        72\n",
      "          18       1.00      0.00      0.00        29\n",
      "          19       1.00      0.00      0.00        14\n",
      "          20       1.00      0.00      0.00         4\n",
      "          21       1.00      0.00      0.00        11\n",
      "          22       1.00      0.00      0.00        24\n",
      "          23       1.00      0.00      0.00        50\n",
      "          24       1.00      0.00      0.00         6\n",
      "          25       1.00      0.00      0.00        16\n",
      "          26       1.00      0.00      0.00        27\n",
      "          27       1.00      0.00      0.00        15\n",
      "          28       1.00      0.00      0.00         4\n",
      "          29       1.00      0.00      0.00         4\n",
      "          30       1.00      0.00      0.00         5\n",
      "          31       1.00      0.00      0.00        25\n",
      "          32       1.00      0.00      0.00        11\n",
      "          33       1.00      0.00      0.00        10\n",
      "          34       1.00      0.00      0.00         9\n",
      "          35       1.00      0.00      0.00         4\n",
      "          36       1.00      0.00      0.00         9\n",
      "          37       1.00      0.00      0.00         7\n",
      "          38       1.00      0.00      0.00         2\n",
      "          39       1.00      0.00      0.00        32\n",
      "          40       1.00      0.00      0.00         3\n",
      "          41       1.00      0.00      0.00         3\n",
      "          42       1.00      0.00      0.00        46\n",
      "          43       1.00      0.00      0.00         5\n",
      "          44       1.00      0.00      0.00         6\n",
      "          45       1.00      0.00      0.00         3\n",
      "          46       1.00      0.00      0.00        17\n",
      "          47       0.49      0.89      0.63       165\n",
      "          48       1.00      0.00      0.00        63\n",
      "          49       1.00      0.00      0.00        22\n",
      "\n",
      "    accuracy                           0.56      2113\n",
      "   macro avg       0.97      0.05      0.05      2113\n",
      "weighted avg       0.74      0.56      0.42      2113\n",
      "\n"
     ]
    }
   ],
   "source": [
    "from sklearn.metrics import classification_report\n",
    "print(classification_report(y_test, y_pred_tfidf,zero_division=1))"
   ]
  },
  {
   "cell_type": "code",
   "execution_count": null,
   "metadata": {
    "id": "vth8qP97iM3o"
   },
   "outputs": [],
   "source": []
  }
 ],
 "metadata": {
  "colab": {
   "collapsed_sections": [],
   "name": "CapstoneNLP_NaiveBayes_Sunil.ipynb",
   "provenance": []
  },
  "kernelspec": {
   "display_name": "Python 3",
   "language": "python",
   "name": "python3"
  },
  "language_info": {
   "codemirror_mode": {
    "name": "ipython",
    "version": 3
   },
   "file_extension": ".py",
   "mimetype": "text/x-python",
   "name": "python",
   "nbconvert_exporter": "python",
   "pygments_lexer": "ipython3",
   "version": "3.8.5"
  }
 },
 "nbformat": 4,
 "nbformat_minor": 1
}
